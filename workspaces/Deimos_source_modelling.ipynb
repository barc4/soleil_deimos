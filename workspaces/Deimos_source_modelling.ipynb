{
 "cells": [
  {
   "cell_type": "markdown",
   "metadata": {
    "vscode": {
     "languageId": "plaintext"
    }
   },
   "source": [
    "<a id=\"toc\"></a>\n",
    "# Deimos source modelling\n",
    "***\n",
    "\n",
    "Contents :\n",
    "1. [Creation of SYNED input file (.json)](#syned)\n",
    "1. [**on-axis** spectrum of an ideal planar undulator](#spectrum_axis)\n",
    "1. [spectrum of an ideal planar undulator **through a slit**](#spectrum_slit)\n",
    "1. [**on-axis** tuning curve of an ideal planar undulator](#tc_axis)\n",
    "1. [tuning curve of an ideal planar undulator **through a slit**](#tc_slit)\n",
    "1. [Visualisations](#visu)"
   ]
  },
  {
   "cell_type": "code",
   "execution_count": null,
   "metadata": {},
   "outputs": [],
   "source": [
    "__author__ = ['Rafael Celestre']\n",
    "__contact__ = 'rafael.celestre@synchrotron-soleil.fr'\n",
    "__license__ = 'GPL-3.0'\n",
    "__copyright__ = 'Synchrotron SOLEIL, Saint Aubin, France'\n",
    "__created__ = '04/NOV/2024'\n",
    "__changed__ = '04/NOV/2024'\n",
    "\n",
    "import sys\n",
    "\n",
    "import barc4sr.sr_undulator as und\n",
    "import numpy as np\n",
    "from barc4sr.aux_utils import (\n",
    "                            ElectronBeam,\n",
    "                            MagneticStructure,\n",
    "                            SynchrotronSource,\n",
    ")\n",
    "from barc4xoc.plots import plot_tuning_curve\n",
    "from scipy.constants import nano, pico\n",
    "\n",
    "# checking we are using the correct python:\n",
    "print(sys.executable)\n",
    "print(sys.version)\n",
    "\n",
    "%load_ext autoreload\n",
    "%autoreload 2"
   ]
  },
  {
   "cell_type": "code",
   "execution_count": null,
   "metadata": {},
   "outputs": [],
   "source": [
    "e0, ei, ef, dE = 0, 250, 5000, 0.5\n",
    "ne = int((ef-ei)/dE)+1\n",
    "\n",
    "aperture = 0.2e-3   # mrad\n",
    "slit_position = 21  # m\n",
    "\n",
    "window = np.tan(aperture/2)*slit_position*2"
   ]
  },
  {
   "cell_type": "markdown",
   "metadata": {},
   "source": [
    "<a id=\"syned\"></a>\n",
    "### Creation of SYNED input file (.json)\n",
    "\n",
    "[Back to the top](#toc)"
   ]
  },
  {
   "cell_type": "code",
   "execution_count": null,
   "metadata": {},
   "outputs": [],
   "source": [
    "u52 = MagneticStructure(period_length=52.4e-3, number_of_periods=30)"
   ]
  },
  {
   "cell_type": "code",
   "execution_count": null,
   "metadata": {},
   "outputs": [],
   "source": [
    "straight_section = ElectronBeam()\n",
    "straight_section.from_twiss(energy=2.75, energy_spread=0.1025/100, current=0.500,\n",
    "                            emittance=3.94*nano, coupling=1/100,\n",
    "                            beta_x=3.9210, beta_y=2.1191, \n",
    "                            alpha_x=0.0514, alpha_y=0.1430,\n",
    "                            eta_x=0.1632, eta_y=-0.0046,\n",
    "                            etap_x=0.0015, etap_y=0.0018)\n",
    "straight_section.print_rms()\n",
    "\n",
    "u52.set_resonant_energy(350, 1, straight_section.energy_in_GeV, \"v\")\n",
    "\n",
    "deimos = SynchrotronSource(straight_section, u52)\n",
    "deimos.write_syned_config(r\".\\resources\\oasys_soleil_hu52.json\",\"Soleil - HU52\")"
   ]
  },
  {
   "cell_type": "code",
   "execution_count": null,
   "metadata": {},
   "outputs": [],
   "source": [
    "straight_section = ElectronBeam()\n",
    "straight_section.from_twiss(energy=2.75, energy_spread=0.0906/100, current=0.500,\n",
    "                  emittance_x=84.55*pico, emittance_y=25.36*pico,\n",
    "                  beta_x=1.59, eta_x=0, etap_x=0, alpha_x=0,\n",
    "                  beta_y=1.51, eta_y=0, etap_y=0, alpha_y=0)\n",
    "straight_section.print_rms()\n",
    "\n",
    "u52.set_resonant_energy(350, 1, straight_section.energy_in_GeV, \"v\")\n",
    "\n",
    "deimos = SynchrotronSource(straight_section, u52)\n",
    "deimos.write_syned_config(r\".\\resources\\oasys_soleil-II_hu52.json\",\"Soleil-II - HU52\")"
   ]
  },
  {
   "cell_type": "markdown",
   "metadata": {},
   "source": [
    "<a id=\"spectrum_axis\"></a>\n",
    "### Calculation of the **on-axis** spectrum of an ideal planar undulator\n",
    "[Back to the top](#toc)"
   ]
  },
  {
   "cell_type": "code",
   "execution_count": null,
   "metadata": {},
   "outputs": [],
   "source": [
    "soleil_u52_SOA = und.spectrum(file_name=\".\\\\results\\source\\SOLEIL-U52mm_on_axis\",\n",
    "                        json_file=\".\\\\resources\\\\oasys_soleil_hu52.json\",\n",
    "                        photon_energy_min=ei,\n",
    "                        photon_energy_max=ef,\n",
    "                        photon_energy_points=ne,\n",
    "                        observation_point=slit_position,\n",
    "                        hor_slit=1e-23,\n",
    "                        ver_slit=1e-23)"
   ]
  },
  {
   "cell_type": "code",
   "execution_count": null,
   "metadata": {},
   "outputs": [],
   "source": [
    "soleil_ii_u52_SOA = und.spectrum(file_name=\".\\\\results\\source\\SOLEIL-II-U52mm_on_axis\",\n",
    "                        json_file=\".\\\\resources\\\\oasys_soleil-ii_hu52.json\",\n",
    "                        photon_energy_min=ei,\n",
    "                        photon_energy_max=ef,\n",
    "                        photon_energy_points=ne,\n",
    "                        observation_point=slit_position,\n",
    "                        hor_slit=1e-23,\n",
    "                        ver_slit=1e-23)"
   ]
  },
  {
   "cell_type": "markdown",
   "metadata": {},
   "source": [
    "<a id=\"spectrum_slit\"></a>\n",
    "### Calculation of the on spectrum of an ideal planar undulator **through a slit**\n",
    "[Back to the top](#toc)"
   ]
  },
  {
   "cell_type": "code",
   "execution_count": null,
   "metadata": {},
   "outputs": [],
   "source": [
    "soleil_u52_STS = und.spectrum(file_name=\".\\\\results\\source\\SOLEIL-U52mm_slit\",\n",
    "                        json_file=\".\\\\resources\\\\oasys_soleil_hu52.json\",\n",
    "                        photon_energy_min=ei,\n",
    "                        photon_energy_max=ef,\n",
    "                        photon_energy_points=ne,\n",
    "                        observation_point=slit_position,\n",
    "                        hor_slit=window,\n",
    "                        ver_slit=window,\n",
    "                        parallel=True)"
   ]
  },
  {
   "cell_type": "code",
   "execution_count": null,
   "metadata": {},
   "outputs": [],
   "source": [
    "soleil_ii_u52_STS = und.spectrum(file_name=\".\\\\results\\source\\SOLEIL-II-U52mm_slit\",\n",
    "                        json_file=\".\\\\resources\\\\oasys_soleil-ii_hu52.json\",\n",
    "                        photon_energy_min=ei,\n",
    "                        photon_energy_max=ef,\n",
    "                        photon_energy_points=ne,\n",
    "                        observation_point=slit_position,\n",
    "                        hor_slit=window,\n",
    "                        ver_slit=window,\n",
    "                        parallel=True)"
   ]
  },
  {
   "cell_type": "markdown",
   "metadata": {},
   "source": [
    "<a id=\"tc_axis\"></a>\n",
    "### Calculation of the **on-axis** tuning curve of an ideal planar undulator\n",
    "[Back to the top](#toc)"
   ]
  },
  {
   "cell_type": "code",
   "execution_count": null,
   "metadata": {},
   "outputs": [],
   "source": [
    "e0, ei, ef, dE = 0, 250, 5000, 5\n",
    "ne = int((ef-ei)/dE)+1"
   ]
  },
  {
   "cell_type": "code",
   "execution_count": null,
   "metadata": {},
   "outputs": [],
   "source": [
    "soleil_u52_TCOA = und.tuning_curve(file_name=\".\\\\results\\source\\SOLEIL-U52mm_on_axis\",\n",
    "                        json_file=\".\\\\resources\\\\oasys_soleil_hu52.json\",\n",
    "                        photon_energy_min=ei,\n",
    "                        photon_energy_max=ef,\n",
    "                        photon_energy_points=ne,\n",
    "                        observation_point=slit_position,\n",
    "                        nHarmMax = 14,\n",
    "                        Kmax = u52.K_vertical,\n",
    "                        hor_slit=1e-23,\n",
    "                        ver_slit=1e-23,\n",
    "                        parallel=True)"
   ]
  },
  {
   "cell_type": "code",
   "execution_count": null,
   "metadata": {},
   "outputs": [],
   "source": [
    "soleil_ii_u52_TCOA = und.tuning_curve(file_name=\".\\\\results\\source\\SOLEIL-II-U52mm_on_axis\",\n",
    "                        json_file=\".\\\\resources\\\\oasys_soleil-ii_hu52.json\",\n",
    "                        photon_energy_min=ei,\n",
    "                        photon_energy_max=ef,\n",
    "                        photon_energy_points=ne,\n",
    "                        observation_point=slit_position,\n",
    "                        nHarmMax = 14,\n",
    "                        Kmax = u52.K_vertical,\n",
    "                        hor_slit=1e-23,\n",
    "                        ver_slit=1e-23,\n",
    "                        parallel=True)"
   ]
  },
  {
   "cell_type": "markdown",
   "metadata": {},
   "source": [
    "<a id=\"tc_slit\"></a>\n",
    "### Calculation of the tuning curve of an ideal planar undulator **through a slit**\n",
    "[Back to the top](#toc)"
   ]
  },
  {
   "cell_type": "code",
   "execution_count": null,
   "metadata": {},
   "outputs": [],
   "source": [
    "soleil_u52_TCTS = und.tuning_curve(file_name=\".\\\\results\\source\\SOLEIL-U52mm_slit\",\n",
    "                        json_file=\".\\\\resources\\\\oasys_soleil_hu52.json\",\n",
    "                        photon_energy_min=ei,\n",
    "                        photon_energy_max=ef,\n",
    "                        photon_energy_points=ne,\n",
    "                        observation_point=slit_position,\n",
    "                        nHarmMax = 14,\n",
    "                        Kmax = u52.K_vertical,\n",
    "                        hor_slit=window,\n",
    "                        ver_slit=window,\n",
    "                        parallel=True)"
   ]
  },
  {
   "cell_type": "code",
   "execution_count": null,
   "metadata": {},
   "outputs": [],
   "source": [
    "soleil_ii_u52_TCTS = und.tuning_curve(file_name=\".\\\\results\\source\\SOLEIL-II-U52mm_slit\",\n",
    "                        json_file=\".\\\\resources\\\\oasys_soleil-ii_hu52.json\",\n",
    "                        photon_energy_min=ei,\n",
    "                        photon_energy_max=ef,\n",
    "                        photon_energy_points=ne,\n",
    "                        observation_point=slit_position,\n",
    "                        nHarmMax = 14,\n",
    "                        Kmax = u52.K_vertical,\n",
    "                        hor_slit=window,\n",
    "                        ver_slit=window,\n",
    "                        parallel=True)"
   ]
  },
  {
   "cell_type": "markdown",
   "metadata": {},
   "source": [
    "<a id=\"visu\"></a>\n",
    "### Visualisations\n",
    "[Back to the top](#toc)"
   ]
  },
  {
   "cell_type": "code",
   "execution_count": null,
   "metadata": {},
   "outputs": [],
   "source": [
    "plot_tuning_curve(soleil_u52_TCOA, unit=\"[ph/s/mm²/0.1%bw]\")"
   ]
  },
  {
   "cell_type": "code",
   "execution_count": null,
   "metadata": {},
   "outputs": [],
   "source": [
    "plot_tuning_curve(soleil_u52_TCOA, unit=\"[ph/s/mm²/0.1%bw]\")"
   ]
  },
  {
   "cell_type": "code",
   "execution_count": null,
   "metadata": {},
   "outputs": [],
   "source": [
    "plot_tuning_curve(soleil_ii_u52_TCOA, unit=\"[ph/s/mm²/0.1%bw]\")"
   ]
  },
  {
   "cell_type": "code",
   "execution_count": null,
   "metadata": {},
   "outputs": [],
   "source": [
    "plot_tuning_curve(soleil_u52_TCTS, unit=\"[ph/s/0.1%bw]\")"
   ]
  },
  {
   "cell_type": "code",
   "execution_count": null,
   "metadata": {},
   "outputs": [],
   "source": [
    "plot_tuning_curve(soleil_ii_u52_TCTS, unit=\"[ph/s/0.1%bw]\")"
   ]
  }
 ],
 "metadata": {
  "kernelspec": {
   "display_name": "dev",
   "language": "python",
   "name": "python3"
  },
  "language_info": {
   "codemirror_mode": {
    "name": "ipython",
    "version": 3
   },
   "file_extension": ".py",
   "mimetype": "text/x-python",
   "name": "python",
   "nbconvert_exporter": "python",
   "pygments_lexer": "ipython3",
   "version": "3.8.5"
  }
 },
 "nbformat": 4,
 "nbformat_minor": 2
}
