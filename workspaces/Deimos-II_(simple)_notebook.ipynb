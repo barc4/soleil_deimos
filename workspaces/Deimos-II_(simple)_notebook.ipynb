{
 "cells": [
  {
   "cell_type": "markdown",
   "id": "9fae2161",
   "metadata": {},
   "source": [
    "<a id=\"toc\"></a>\n",
    "# DEIMOS beamline simulation with PyOptiX\n",
    "***\n",
    "\n",
    "Contents :\n",
    "1. [Optical elements declaration](#def_opt)\n",
    "1. [Definition of optical parameters](#def_param)\n",
    "1. [Alignment scripts](#alignement)\n",
    "1. [Simulation execution](#exec)\n",
    "1. [Calculations](#calcu)\n",
    "1. [Monochromator resolution](#monores)"
   ]
  },
  {
   "cell_type": "code",
   "execution_count": null,
   "id": "0be8df2d",
   "metadata": {},
   "outputs": [],
   "source": [
    "__author__ = ['Rafael Celestre']\n",
    "__contact__ = 'rafael.celestre@synchrotron-soleil.fr'\n",
    "__license__ = 'GPL-3.0'\n",
    "__copyright__ = 'Synchrotron SOLEIL, Saint Aubin, France'\n",
    "__created__ = '21/OCT/2024'\n",
    "__changed__ = '13/NOV/2024'\n",
    "\n",
    "\n",
    "import ctypes\n",
    "import re\n",
    "import barc4xoc.beam as bm\n",
    "import numpy as np\n",
    "import pandas as pd\n",
    "import pyoptix\n",
    "import pyoptix.classes as opx\n",
    "from barc4plots.barc4plots import PlotManager\n",
    "from barc4xoc.aux_pyoptix import save_beam_to_csv, save_resolution_curve\n",
    "from barc4xoc.misc import coddington_equations\n",
    "from scipy.constants import c, degree, eV, h, micro, milli, nano, pi, pico\n",
    "\n",
    "hc = h*c/eV\n",
    "\n",
    "pyoptix.set_aperture_active(False)\n",
    "pyoptix.output_notebook()\n"
   ]
  },
  {
   "cell_type": "markdown",
   "id": "18308042",
   "metadata": {
    "tags": [],
    "toc-hr-collapsed": true
   },
   "source": [
    "<a id=\"def_opt\"></a>\n",
    "## Optical elements declaration\n",
    "[Back to the top](#toc)"
   ]
  },
  {
   "cell_type": "code",
   "execution_count": null,
   "id": "263e78af",
   "metadata": {},
   "outputs": [],
   "source": [
    "Deimos = opx.Beamline(name=\"Deimos - upgrade\")\n",
    "\n",
    "# ------------------\n",
    "# source\n",
    "# ------------------\n",
    "undulator_SII = opx.UndulatorSource(name=\"SII\")\n",
    "\n",
    "# ------------------\n",
    "# optical elements\n",
    "# ------------------\n",
    "pupil = opx.PlaneFilm(name=\"pupil\")\n",
    "\n",
    "# M1\n",
    "m1a = opx.PlaneMirror(name=\"M1A\")\n",
    "m1b = opx.ToroidalMirror(name=\"M1B\")\n",
    "m1c = opx.ToroidalMirror(name=\"M1C\")\n",
    "\n",
    "# monochromator\n",
    "# grating_1600 = opx.PlaneHoloGrating(name=\"grating_1600\")   # VGD\n",
    "grating_1600 = opx.PlaneGrating(name=\"grating_1600\")       \n",
    "grating_2400 = opx.PlaneGrating(name=\"grating_2400\")         # MCA\n",
    "\n",
    "m2 = opx.PlaneMirror(name=\"M2\")\n",
    "m3 = opx.CylindricalMirror(name=\"M3\")\n",
    "mono_exit_slit = opx.PlaneFilm(name=\"mono_foc_ver\")\n",
    "\n",
    "# M4\n",
    "m4a = opx.ConicCylindricalMirror(name=\"M4A\")\n",
    "m4b = opx.ConicCylindricalMirror(name=\"M4B\")\n",
    "\n",
    "# M5\n",
    "m5a = opx.ConicCylindricalMirror(name=\"M5A\")\n",
    "m5b = opx.ConicCylindricalMirror(name=\"M5B\")\n",
    "\n",
    "# ------------------\n",
    "# endstations\n",
    "# ------------------\n",
    "cromag = opx.PlaneFilm(name=\"cromag\")\n",
    "mk2t = opx.PlaneFilm(name=\"mk2t\")"
   ]
  },
  {
   "cell_type": "code",
   "execution_count": null,
   "id": "449fad40",
   "metadata": {},
   "outputs": [],
   "source": [
    "undulators = [undulator_SII]\n",
    "m1 = [m1b, m1c]\n",
    "gratings = [grating_1600, grating_2400]\n",
    "wolters = [[m4a, m5a], [m4b, m5b], []]\n",
    "endstations = [cromag, mk2t]\n",
    "\n",
    "for undulator in undulators:\n",
    "    for m1bis in m1:\n",
    "        for grating in gratings:\n",
    "            beamline = [undulator, pupil, m1a, m1bis, grating, m2, m3, mono_exit_slit]           \n",
    "   \n",
    "            for focusing in wolters:\n",
    "                if len(focusing) > 1:\n",
    "                    chain_name = f\"{undulator.name}_{m1bis.name}_G{grating.name.split('_')[1]}_WLT_{focusing[-2].name[-1]}\"\n",
    "                    Deimos.chains[chain_name] = beamline + focusing + endstations\n",
    "                else:\n",
    "                    chain_name = f\"{undulator.name}_{m1bis.name}_G{grating.name.split('_')[1]}_mono\"\n",
    "                    Deimos.chains[chain_name] = beamline\n"
   ]
  },
  {
   "cell_type": "code",
   "execution_count": null,
   "id": "2c3f13e6",
   "metadata": {},
   "outputs": [],
   "source": [
    "print(\"Low energy configurations:\\n\")\n",
    "for chain_name in Deimos.chains:    \n",
    "    if \"M1B\" in chain_name:\n",
    "        print(chain_name,\":\\n\\t\",Deimos.chains[chain_name])"
   ]
  },
  {
   "cell_type": "code",
   "execution_count": null,
   "id": "cfe58c23",
   "metadata": {},
   "outputs": [],
   "source": [
    "print(\"High energy configurations:\\n\")\n",
    "for chain_name in Deimos.chains:    \n",
    "    if \"M1C\" in chain_name:\n",
    "        print(chain_name,\":\\n\\t\",Deimos.chains[chain_name])"
   ]
  },
  {
   "cell_type": "markdown",
   "id": "eecc68f4",
   "metadata": {
    "tags": []
   },
   "source": [
    "<a id=\"def_param\"></a>\n",
    "## Definition of optical parameters\n",
    "\n",
    "In this section we define the static parameters of the optical elements. Characteristics that change with \n",
    "either configuration or energy are defined in the [Alignment scripts](#alignement) section.\n",
    "\n",
    "[Back to the top](#toc)"
   ]
  },
  {
   "cell_type": "markdown",
   "id": "b61e2f51",
   "metadata": {},
   "source": [
    "### SOLEIL-II lattice (HU52 undulator)"
   ]
  },
  {
   "cell_type": "code",
   "execution_count": null,
   "id": "f9be9940",
   "metadata": {},
   "outputs": [],
   "source": [
    "e_beam = opx.ElectronBeam()\n",
    "e_beam.from_twiss(energy=2.75, energy_spread=0.0906/100, current=0.500,\n",
    "                  emittance_x=84.55*pico, emittance_y=25.36*pico,\n",
    "                  beta_x=1.59, eta_x=0, etap_x=0, alpha_x=0,\n",
    "                  beta_y=1.51, eta_y=0, etap_y=0, alpha_y=0)\n",
    "e_beam.print_rms()\n",
    "\n",
    "hu52 = opx.MagneticStructure(period_length=52.4e-3, number_of_periods=30)\n",
    "\n",
    "undulator_SII.electron_beam = e_beam\n",
    "undulator_SII.magnetic_structure = hu52\n",
    "\n",
    "undulator_SII.write_syned_config(r\".\\resources\\oasys_soleil-II_hu52\",\"Soleil-II - HU52\")"
   ]
  },
  {
   "cell_type": "markdown",
   "id": "f9706355",
   "metadata": {},
   "source": [
    "#### Alignment script"
   ]
  },
  {
   "cell_type": "code",
   "execution_count": null,
   "id": "2c0adafe",
   "metadata": {},
   "outputs": [],
   "source": [
    "def align_undulator(active_chain, wavelength, **kwargs):\n",
    "    \"\"\"\n",
    "    Sets photon beam size and divergence as a function of wavelength in [m]\n",
    "    \"\"\"\n",
    "\n",
    "    verbose = kwargs.get(\"verbose\", False)\n",
    "    dist_slit = kwargs.get(\"dist_slit\", 21)\n",
    "    \n",
    "    if verbose:\n",
    "        print(\"\\n>>>> Aligning undulator\")\n",
    "\n",
    "    active_chain[0].set_undulator(wavelength, **kwargs)\n",
    "    active_chain[1].distance_from_previous = dist_slit"
   ]
  },
  {
   "cell_type": "markdown",
   "id": "4e6b1af3",
   "metadata": {},
   "source": [
    "### Entrance pupil\n",
    "[Back to the top](#toc)"
   ]
  },
  {
   "cell_type": "code",
   "execution_count": null,
   "id": "078edd79",
   "metadata": {},
   "outputs": [],
   "source": [
    "pupil.distance_from_previous = 21\n",
    "pupil.recording_mode = opx.RecordingMode.recording_output\n",
    "pupil.next = m1a"
   ]
  },
  {
   "cell_type": "markdown",
   "id": "69d41704",
   "metadata": {},
   "source": [
    "### M1\n",
    "\n",
    "[Back to the top](#toc)"
   ]
  },
  {
   "cell_type": "code",
   "execution_count": null,
   "id": "562d7f86",
   "metadata": {},
   "outputs": [],
   "source": [
    "old_m1_grazing_angles = [2.53*degree, 1.19*degree]\n",
    "\n",
    "old_m1_distances = opx.M1_triad_distances(incident_angle=old_m1_grazing_angles,\n",
    "                                          transverse_distance=41e-3, \n",
    "                                          verbose=1)"
   ]
  },
  {
   "cell_type": "code",
   "execution_count": null,
   "id": "4f7436e6",
   "metadata": {},
   "outputs": [],
   "source": [
    "m1_grazing_angles = [1.75*degree, 0.75*degree]\n",
    "\n",
    "m1_distances = opx.M1_triad_distances(incident_angle=m1_grazing_angles,\n",
    "                                      transverse_distance=26e-3, \n",
    "                                      verbose=1)"
   ]
  },
  {
   "cell_type": "markdown",
   "id": "5323bb5f",
   "metadata": {},
   "source": [
    "#### - M1A"
   ]
  },
  {
   "cell_type": "code",
   "execution_count": null,
   "id": "16e9dc6c",
   "metadata": {},
   "outputs": [],
   "source": [
    "m1a.distance_from_previous = 0\n",
    "m1a.phi = -90*degree # rad\n",
    "m1a.recording_mode = opx.RecordingMode.recording_output"
   ]
  },
  {
   "cell_type": "markdown",
   "id": "b15721c6",
   "metadata": {},
   "source": [
    "#### - M1B"
   ]
  },
  {
   "cell_type": "code",
   "execution_count": null,
   "id": "c8805cbb",
   "metadata": {},
   "outputs": [],
   "source": [
    "p = pupil.distance_from_previous + m1_distances[0][0]\n",
    "qminor = 1E23\n",
    "qmajor = (m1_distances[1][1]-m1_distances[0][1]) + 5 + 0.7 + 4 # we focus on the mochromator slit\n",
    "\n",
    "rminor = coddington_equations(m1_grazing_angles[0]/degree, p=p, q=qminor)[\"R\"][1]\n",
    "rmajor = coddington_equations(m1_grazing_angles[0]/degree, p=p, q=qmajor)[\"R\"][0]\n",
    "\n",
    "print(\"Toroidal mirror with side-bounce reflection:\")\n",
    "print(f\"- source at {p:.3e} m\")\n",
    "print(f\"- (sagittal) image at {qminor:.3} m\")\n",
    "print(f\"- (meridional/tangential) image at {qmajor:.3e} m\")\n",
    "\n",
    "print(\"\\nApplying the Coddington equations:\")\n",
    "print(f\"- minor (sagittal) radius {rminor:.3e} m\")\n",
    "print(f\"- major (meridional/tangential) radius {rmajor:.3e} m\")\n",
    "\n",
    "m1b.distance_from_previous = m1_distances[0][0]\n",
    "m1b.theta = m1_grazing_angles[0] # rad\n",
    "m1b.phi = 180*degree # rad\n",
    "m1b.minor_curvature = 1/rminor # m-1   # m1b.minor_curvature = 1/1.894 # m-1\n",
    "m1b.major_curvature = 1/rmajor # m-1   # m1b.major_curvature = 1/228.0 # m-1\n",
    "m1b.recording_mode = opx.RecordingMode.recording_output\n",
    "# m1b.next = grating_1600"
   ]
  },
  {
   "cell_type": "markdown",
   "id": "cf45f590",
   "metadata": {},
   "source": [
    "#### - M1C"
   ]
  },
  {
   "cell_type": "code",
   "execution_count": null,
   "id": "2a02b533",
   "metadata": {},
   "outputs": [],
   "source": [
    "p = pupil.distance_from_previous + m1_distances[1][0]\n",
    "qminor = 1E23\n",
    "qmajor = 5 + 0.7 + 4 # we focus on the mochromator slit\n",
    "\n",
    "rminor = coddington_equations(m1_grazing_angles[1]/degree, p=p, q=qminor)[\"R\"][1]\n",
    "rmajor = coddington_equations(m1_grazing_angles[1]/degree, p=p, q=qmajor)[\"R\"][0]\n",
    "\n",
    "print(\"Toroidal mirror with side-bounce reflection:\")\n",
    "print(f\"- source at {p:.3e} m\")\n",
    "print(f\"- (sagittal) image at {qminor:.3e} m\")\n",
    "print(f\"- (meridional/tangential) image at {qmajor:.3e} m\")\n",
    "\n",
    "print(\"\\nApplying the Coddington equations:\")\n",
    "print(f\"- minor (sagittal) radius {rminor:.3e} m\")\n",
    "print(f\"- major (meridional/tangential) radius {rmajor:.3e} m\")\n",
    "\n",
    "m1c.distance_from_previous = m1_distances[1][0]\n",
    "m1c.theta = m1_grazing_angles[1] # rad\n",
    "m1c.phi = 180*degree # rad\n",
    "m1c.minor_curvature = 1/rminor   # m-1   # m1c.minor_curvature = 1/0.91  # m-1\n",
    "m1c.major_curvature = 1/rmajor   # m-1   # m1c.major_curvature = 1/455   # m-1\n",
    "m1c.recording_mode = opx.RecordingMode.recording_output\n",
    "# m1b.next = grating_2400"
   ]
  },
  {
   "cell_type": "markdown",
   "id": "5186ca76",
   "metadata": {},
   "source": [
    "#### Alignment script"
   ]
  },
  {
   "cell_type": "code",
   "execution_count": null,
   "id": "a823bab7",
   "metadata": {},
   "outputs": [],
   "source": [
    "def align_m1(active_chain, m1_distances, **kwargs):\n",
    "    \"\"\"\n",
    "    Sets the M1A angle and distance from mono first optical element to M1bis\n",
    "    \"\"\"\n",
    "    \n",
    "    dist_next = kwargs.get(\"dist_next\", 5)\n",
    "    verbose = kwargs.get(\"verbose\", False)\n",
    "\n",
    "    if verbose:\n",
    "        print(\"\\n>>>> Aligning M1\")\n",
    "   \n",
    "    active_chain[2].theta = active_chain[3].theta\n",
    "    active_chain[2].next  = active_chain[3]\n",
    "    active_chain[3].next = active_chain[4]\n",
    "    active_chain[4].distance_from_previous = dist_next\n",
    "\n",
    "    if \"1B\" in active_chain[3].name:\n",
    "        active_chain[4].distance_from_previous += (m1_distances[1][1]-m1_distances[0][1])       \n",
    "\n",
    "    if verbose:\n",
    "        name = active_chain[3].name\n",
    "        angle = active_chain[3].theta/degree\n",
    "        dist = active_chain[3].distance_from_previous\n",
    "        print(f\"M1A-{name} alignment: grazing angle {angle:.2f} degrees and {dist:.3f} m between them\")"
   ]
  },
  {
   "cell_type": "markdown",
   "id": "8c61688f",
   "metadata": {},
   "source": [
    "### Monochromator\n",
    "\n",
    "[Back to the top](#toc)"
   ]
  },
  {
   "cell_type": "markdown",
   "id": "a5316697",
   "metadata": {},
   "source": [
    "#### Grating 1600 l/mm"
   ]
  },
  {
   "cell_type": "code",
   "execution_count": null,
   "id": "637f64da",
   "metadata": {},
   "outputs": [],
   "source": [
    "# grating_1600.distance_from_previous = 5.0\n",
    "# grating_1600.line_density = 1600/milli\n",
    "# grating_1600.from_solemio(1e-10, 1e-10, 0.7660444, -0.56176)     # RC20240502 - where did you get this?\n",
    "# grating_1600.order_align = 1 \n",
    "# grating_1600.order_use = 1 \n",
    "# grating_1600.phi = -90*degree\n",
    "# grating_1600.recording_mode = opx.RecordingMode.recording_output\n",
    "# grating_1600.next = m2\n",
    "# grating_1600.show_vls_law(300e-3,3)\n",
    "\n",
    "grating_1600.distance_from_previous = 5.0\n",
    "grating_1600.line_density = 1600/milli\n",
    "grating_1600.phi = -90*degree\n",
    "grating_1600.order_align = 1\n",
    "grating_1600.order_use = 1\n",
    "grating_1600.recording_mode = opx.RecordingMode.recording_output\n",
    "grating_1600.next = m2"
   ]
  },
  {
   "cell_type": "markdown",
   "id": "5adb66d2",
   "metadata": {},
   "source": [
    "#### Grating 2400 l/mm"
   ]
  },
  {
   "cell_type": "code",
   "execution_count": null,
   "id": "77097756",
   "metadata": {},
   "outputs": [],
   "source": [
    "grating_2400.distance_from_previous = 5.0\n",
    "grating_2400.line_density = 2400/milli\n",
    "grating_2400.phi = -90*degree\n",
    "grating_2400.order_align = 1\n",
    "grating_2400.order_use = 1\n",
    "grating_2400.recording_mode = opx.RecordingMode.recording_output\n",
    "grating_2400.next = m2"
   ]
  },
  {
   "cell_type": "markdown",
   "id": "49fc7a5d",
   "metadata": {},
   "source": [
    "#### M2"
   ]
  },
  {
   "cell_type": "code",
   "execution_count": null,
   "id": "156443b1",
   "metadata": {},
   "outputs": [],
   "source": [
    "m2.phi = 180*degree\n",
    "m2.recording_mode = opx.RecordingMode.recording_output\n",
    "m2.next = m3"
   ]
  },
  {
   "cell_type": "markdown",
   "id": "c1d5c695",
   "metadata": {},
   "source": [
    "#### M3 - vertical/horizontal deflection"
   ]
  },
  {
   "cell_type": "code",
   "execution_count": null,
   "id": "2e73af31",
   "metadata": {},
   "outputs": [],
   "source": [
    "m3.theta = 0.44*degree\n",
    "m3.recording_mode = opx.RecordingMode.recording_output\n",
    "m3.next = mono_exit_slit"
   ]
  },
  {
   "cell_type": "markdown",
   "id": "08bf75d7",
   "metadata": {},
   "source": [
    "#### Alignment script"
   ]
  },
  {
   "cell_type": "code",
   "execution_count": null,
   "id": "d70aff5e",
   "metadata": {},
   "outputs": [],
   "source": [
    "def align_m3(active_chain, **kwargs):\n",
    "\n",
    "    m3_orientation = kwargs.get(\"m3_orientation\", 'horizontal')\n",
    "    verbose = kwargs.get(\"verbose\", False)\n",
    "\n",
    "    if verbose:\n",
    "        print(\"\\n>>>> Aligning M3\")\n",
    "\n",
    "    if m3_orientation in ['ver', 'vertical', 'up']:\n",
    "        vertical = True\n",
    "    elif m3_orientation in ['hor', 'horizontal', 'side']:\n",
    "        vertical = False\n",
    "    else:\n",
    "        raise ValueError(\"No orientation given to M3\") \n",
    "\n",
    "    for count, oe in enumerate(active_chain):\n",
    "        if \"m3\" in oe.name.lower():\n",
    "            mirror = oe\n",
    "            mirror_oe_pos = count\n",
    "\n",
    "    p = 1E23\n",
    "    theta = mirror.theta\n",
    "\n",
    "    if vertical:\n",
    "        qminor, qmajor = 1E23, active_chain[mirror_oe_pos+1].distance_from_previous\n",
    "        phi, curvature_radius, axis_angle = 180 * degree, \"major\", 0 * degree\n",
    "        phi_mes = 0\n",
    "        reflection_type = \"bounce-up\"\n",
    "    else:\n",
    "        qminor, qmajor = active_chain[mirror_oe_pos+1].distance_from_previous, 1E23\n",
    "        phi, curvature_radius, axis_angle = 90 * degree, \"minor\", 90 * degree\n",
    "        phi_mes = phi\n",
    "        reflection_type = \"side-bounce\"\n",
    "\n",
    "    rminor = coddington_equations(theta/degree, p=p, q=qminor)[\"R\"][1]\n",
    "    rmajor = coddington_equations(theta/degree, p=p, q=qmajor)[\"R\"][0]\n",
    "\n",
    "    if verbose:\n",
    "        print(f\"Toroidal mirror with {reflection_type} reflection:\")\n",
    "        print(f\"- source at {p:.3e} m\")\n",
    "        print(f\"- (sagittal) image at {qminor:.3e} m\")\n",
    "        print(f\"- (meridional/tangential) image at {qmajor:.3e} m\")\n",
    "        print(\"\\nApplying the Coddington equations:\")\n",
    "        print(f\"- minor (sagittal) radius {rminor:.3e} m\")\n",
    "        print(f\"- major (meridional/tangential) radius {rmajor:.3e} m\")\n",
    "\n",
    "    mirror.phi = phi\n",
    "    mirror.curvature = 1 / (rmajor if curvature_radius == \"major\" else rminor)\n",
    "    mirror.axis_angle = axis_angle\n",
    "    active_chain[mirror_oe_pos+1].phi = phi_mes\n"
   ]
  },
  {
   "cell_type": "markdown",
   "id": "c85e74e5",
   "metadata": {},
   "source": [
    "#### Mono exit slits"
   ]
  },
  {
   "cell_type": "code",
   "execution_count": null,
   "id": "47c792c2",
   "metadata": {},
   "outputs": [],
   "source": [
    "mono_exit_slit.distance_from_previous = 3.8 + 0.2\n",
    "# mono_exit_slit.add_rectangular_stop(20*micro, 20*micro, opacity=0)\n",
    "mono_exit_slit.recording_mode = opx.RecordingMode.recording_output"
   ]
  },
  {
   "cell_type": "markdown",
   "id": "3ea6465d",
   "metadata": {},
   "source": [
    "#### Alignment script"
   ]
  },
  {
   "cell_type": "code",
   "execution_count": null,
   "id": "4b190be0",
   "metadata": {},
   "outputs": [],
   "source": [
    "def align_mono(active_chain, wavelength, alignment_condition, alignment_condition_value,\n",
    "               GM2_trans_dist, GM3_proj_dist, **kwargs):\n",
    "    \"\"\"\n",
    "    Sets the grating and M2 angles and relative distances between G/M2/M3\n",
    "    \"\"\"\n",
    "\n",
    "    verbose = kwargs.get(\"verbose\", False)\n",
    "\n",
    "    grating = None\n",
    "    for count, oe in enumerate(active_chain):\n",
    "        if \"reseau\" in oe.name.lower() or \"grating\" in oe.name.lower():\n",
    "            grating = oe\n",
    "            mono_oe_pos = count\n",
    "\n",
    "    if grating is None:\n",
    "        raise ValueError(\"No grating appears in this beamline configuration\")\n",
    "    \n",
    "    gdict = opx.align_grating(grating, verbose=0, \n",
    "                             apply_alignment=True, \n",
    "                             return_parameters=True,\n",
    "                             condition=alignment_condition, \n",
    "                             condition_value=alignment_condition_value, \n",
    "                             lambda_align=wavelength, \n",
    "                             order=grating.order_align,\n",
    "                             line_density=grating.line_density)\n",
    "    \n",
    "    gm2 = GM2_trans_dist/np.sin(gdict[\"deviation\"])\n",
    "    m2m3 = GM3_proj_dist-(GM2_trans_dist/np.tan(gdict[\"deviation\"]))\n",
    "\n",
    "    active_chain[int(mono_oe_pos+1)].theta = gdict[\"deviation\"]/2\n",
    "    active_chain[int(mono_oe_pos+1)].distance_from_previous = gm2 \n",
    "\n",
    "    active_chain[int(mono_oe_pos+2)].distance_from_previous = m2m3\n",
    "\n",
    "    if verbose:\n",
    "        if alignment_condition == 'omega':\n",
    "            alignment_condition_str =f\"{alignment_condition_value/degree :.3f}\"\n",
    "        else:\n",
    "            alignment_condition_str =alignment_condition_value\n",
    "        print(f\"\\n>>>> {grating.name} grating alignment for \"+\n",
    "              f\"{alignment_condition} {alignment_condition_str} - wavelength \" +\n",
    "              f\"{wavelength/nano:.3f} nm (E={hc/wavelength:.3f} eV)\")\n",
    "        print(f\"> alpha {gdict['alpha_deg']:.6f} deg\")\n",
    "        print(f\"> beta {gdict['beta_deg']:.6f} deg\")\n",
    "        if alignment_condition == 'omega':\n",
    "            cff_value = np.sin(gdict['beta'])/np.sin(gdict['alpha'])\n",
    "            print(f\">> cff {cff_value:.2f}\")\n",
    "        print(f\"> G-M2 distance {gm2:.6f} m\")\n",
    "        print(f\"> theta_m2 {(gdict['alpha_deg']+gdict['beta_deg'])/2:.6f} deg\")\n",
    "        print(f\"> M2-M3 distance {m2m3:.6f} m\")"
   ]
  },
  {
   "cell_type": "markdown",
   "id": "a4eaec0c",
   "metadata": {},
   "source": [
    "### Beamline alignment procedure"
   ]
  },
  {
   "cell_type": "code",
   "execution_count": null,
   "id": "b3076ae7",
   "metadata": {},
   "outputs": [],
   "source": [
    "def align_call(alignment_wvl, emission_wvl, alignment_condition, alignment_condition_value, \n",
    "               m1_distances, GM2_trans_dist, GM3_proj_dist, **kwargs):\n",
    "\n",
    "    align_undulator(Deimos.active_chain, emission_wvl, **kwargs)\n",
    "    align_m1(Deimos.active_chain, m1_distances, **kwargs)\n",
    "    align_mono(Deimos.active_chain, alignment_wvl, alignment_condition, \n",
    "               alignment_condition_value, GM2_trans_dist, GM3_proj_dist, **kwargs)\n",
    "    align_m3(Deimos.active_chain, **kwargs)\n",
    "\n",
    "Deimos.align_steps = align_call\n",
    "\n",
    "def set_bl(energy_alignment, alignment_condition, alignment_condition_value, \n",
    "               m1_distances=m1_distances, GM2_trans_dist=20e-3, GM3_proj_dist=700e-3, **kwargs):\n",
    "\n",
    "    energy_radiate =  kwargs.get(\"energy_radiate\", energy_alignment)\n",
    "    dE =  kwargs.get(\"dE\", 0)\n",
    "    nrays = kwargs.get(\"nrays\", 500)\n",
    "\n",
    "    alignment_wvl = hc/energy_alignment\n",
    "    emission_wvl = hc/energy_radiate\n",
    "\n",
    "    Deimos.align(alignment_wvl, emission_wvl, \n",
    "                 alignment_condition=alignment_condition, \n",
    "                 alignment_condition_value=alignment_condition_value, \n",
    "                 m1_distances=m1_distances, GM2_trans_dist=GM2_trans_dist,\n",
    "                 GM3_proj_dist=GM3_proj_dist, **kwargs)\n",
    "\n",
    "    Deimos.clear_impacts(clear_source=True)\n",
    "    Deimos.active_chain[0].nrays = nrays\n",
    "    if dE==0:\n",
    "        Deimos.generate(emission_wvl)\n",
    "    else:\n",
    "        for E in np.arange(energy_radiate*(1-dE), energy_radiate*(1+dE)):\n",
    "            Deimos.generate(hc/E)\n",
    "    Deimos.radiate()"
   ]
  },
  {
   "cell_type": "markdown",
   "id": "056cf44f",
   "metadata": {},
   "source": [
    "### M1 and mono design test"
   ]
  },
  {
   "cell_type": "code",
   "execution_count": null,
   "id": "3ad20a80",
   "metadata": {},
   "outputs": [],
   "source": [
    "nrays = 20000\n",
    "verbose = False\n",
    "rt_fldr = './results/pyoptix/mono_II/'"
   ]
  },
  {
   "cell_type": "code",
   "execution_count": null,
   "id": "8a476905",
   "metadata": {},
   "outputs": [],
   "source": [
    "Deimos.active_chain = \"SII_M1B_G1600_mono\""
   ]
  },
  {
   "cell_type": "code",
   "execution_count": null,
   "id": "f0ca21c9",
   "metadata": {},
   "outputs": [],
   "source": [
    "align_m3(Deimos.active_chain, m3_orientation='vertical', verbose=True)"
   ]
  },
  {
   "cell_type": "code",
   "execution_count": null,
   "id": "9ec9580e",
   "metadata": {},
   "outputs": [],
   "source": [
    "align_m3(Deimos.active_chain, m3_orientation='horizontal', verbose=True)"
   ]
  },
  {
   "cell_type": "code",
   "execution_count": null,
   "id": "136b84d6",
   "metadata": {},
   "outputs": [],
   "source": [
    "E = 350\n",
    "configs = [\"SII_M1B_G1600_mono\", \"SII_M1C_G1600_mono\", \"SII_M1B_G2400_mono\"]\n",
    "m3_orientations = ['horizontal', 'vertical']\n",
    "for config in configs:\n",
    "    print(f\"\\n\\n>>>>>>>>>>>>>>>>>>>>>>>>>>>>>>>>>>>>>>> {config}\")\n",
    "\n",
    "    Deimos.active_chain = config\n",
    "    alignment = \"cff\" if 'G1600' in Deimos.active_chain_name else \"omega\"\n",
    "    alignment_value = 0.2 if alignment == \"cff\" else 0.692 * degree\n",
    "\n",
    "    for orient in m3_orientations:\n",
    "        set_bl(E, alignment_condition=alignment, alignment_condition_value=alignment_value, \n",
    "            verbose=verbose, m3_orientation=orient, nrays=nrays)\n",
    "        # Deimos.show_active_chain_orientation()\n",
    "        oe = mono_exit_slit\n",
    "        stats = bm.get_beam_stats(save_beam_to_csv(oe.get_impacts(), None), verbose=verbose)\n",
    "        f_name = rt_fldr + f\"{Deimos.active_chain_name}_@_{oe.name}_m3_{orient}_E{E}eV_{nrays:.0f}_rays.csv\"\n",
    "        beam = save_beam_to_csv(oe.get_impacts(), f_name)"
   ]
  },
  {
   "cell_type": "code",
   "execution_count": null,
   "id": "0d0ef57d",
   "metadata": {},
   "outputs": [],
   "source": [
    "e0, ei, ef, dE = 0, 350, 5000, 5\n",
    "ne = int((ef-ei)/dE)+1\n",
    "energy = np.linspace(ei, ef, ne)"
   ]
  },
  {
   "cell_type": "code",
   "execution_count": null,
   "id": "455add1a",
   "metadata": {},
   "outputs": [],
   "source": [
    "nrays = 20000\n",
    "\n",
    "configs = []\n",
    "\n",
    "und = ['SII']\n",
    "mirror = ['M1B', 'M1C']\n",
    "mono = ['G1600', 'G2400']\n",
    "\n",
    "endstation = ['mono']\n",
    "# endstation = ['WLT_A', 'WLT_B']\n",
    "\n",
    "oe_1 = mono_exit_slit\n",
    "oe_2 = None\n",
    "\n",
    "for u in und:\n",
    "    for mr in mirror:\n",
    "        for mn in mono:\n",
    "            for ends in endstation:\n",
    "                if '1B' in mr and '2400' in mn:\n",
    "                    pass\n",
    "                else:\n",
    "                    configs.append(f'{u}_{mr}_{mn}_{ends}')\n",
    "\n",
    "verbose = False\n",
    "\n",
    "rt_fldr = './results/pyoptix/mono_II/'\n",
    "# rt_fldr = './results/pyoptix/sample_II/'\n",
    "\n",
    "\n",
    "for config in configs:\n",
    "    print(f\"\\n\\n>>>>>>>>>>>>>>>>>>>>>>>>>>>>>>>>>>>>>>> {config}\")\n",
    "    Deimos.active_chain = config\n",
    "\n",
    "    if 'M1B' in config:\n",
    "        energy_range = energy < 1500\n",
    "    elif 'G1600' in config:\n",
    "        energy_range = np.logical_and((energy > 500), (energy < 2000))\n",
    "    elif 'G2400' in config:\n",
    "        energy_range = np.logical_and((energy > 1000), (energy < 4000))\n",
    "\n",
    "    config_stats = bm.initialise_beam_stats_dict(len(energy), config)\n",
    "    stats_dicts = [config_stats]\n",
    "    if oe_2 is not None:\n",
    "        config_stats_2 = bm.initialise_beam_stats_dict(len(energy), config)\n",
    "        stats_dicts.append(config_stats_2)\n",
    "\n",
    "    for i, in_range in enumerate(energy_range):\n",
    "        if in_range:\n",
    "            # Set beamline parameters\n",
    "            alignment = \"cff\" if 'G1600' in Deimos.active_chain_name else \"omega\"\n",
    "            alignment_value = 0.2 if alignment == \"cff\" else 0.692 * degree\n",
    "            set_bl(energy[i], alignment_condition=alignment, alignment_condition_value=alignment_value, \n",
    "                   verbose=verbose, nrays=nrays, center_undulator=0, m3_orientation='vertical')\n",
    "\n",
    "            for oe_element, stats_dict in zip([oe_1, oe_2], stats_dicts):\n",
    "                if oe_element is None:\n",
    "                    continue\n",
    "                stats = bm.get_beam_stats(save_beam_to_csv(oe_element.get_impacts(), None), verbose=verbose)\n",
    "                \n",
    "                for axis in ['X', 'Y']:\n",
    "                    stats_dict[config][axis]['focus_distance'][i] = stats[axis]['focus_distance']\n",
    "                    for category in ['sigma', 'sigma_p']:\n",
    "                        for stat in ['mean', 'std', 'fwhm', 'skew', 'kurtosis']:\n",
    "                            stats_dict[config][axis][category][stat][i] = stats[axis][category][stat]\n",
    "\n",
    "    f_name = rt_fldr + f\"{Deimos.active_chain_name}_@_{oe_1.name}_energy_scan_{nrays:.0f}_rays_stats.csv\"\n",
    "    bm.save_beam_stats_to_csv(config_stats, energy, f_name, scan_type='energy')\n",
    "    if oe_2 is not None:\n",
    "        f_name = rt_fldr + f\"{Deimos.active_chain_name}_@_{oe_2.name}_energy_scan_{nrays:.0f}_rays_stats.csv\"\n",
    "        bm.save_beam_stats_to_csv(config_stats_2, energy, f_name, scan_type='energy')"
   ]
  },
  {
   "cell_type": "raw",
   "id": "9603da76",
   "metadata": {
    "vscode": {
     "languageId": "raw"
    }
   },
   "source": [
    "opx.plot_spd_plotly(oe.get_diagram(distance_from_oe=0), oe_name=oe.name, x_key=\"X\", y_key=\"dX\", \n",
    "                show_map=False, light_plot=False, orthonorm=False, save_in_file=\"\", return_fwhm=False, ) "
   ]
  },
  {
   "cell_type": "raw",
   "id": "f02a7be0",
   "metadata": {
    "vscode": {
     "languageId": "raw"
    }
   },
   "source": [
    "opx.plot_spd_plotly(oe.get_diagram(distance_from_oe=0), oe_name=oe.name, x_key=\"Y\", y_key=\"dY\", \n",
    "                show_map=False, light_plot=False, orthonorm=False, save_in_file=\"\", return_fwhm=False,) "
   ]
  },
  {
   "cell_type": "markdown",
   "id": "8bee20ea",
   "metadata": {},
   "source": [
    "### Focusing optics\n",
    "\n",
    "[Back to the top](#toc)"
   ]
  },
  {
   "cell_type": "markdown",
   "id": "4044180b",
   "metadata": {
    "vscode": {
     "languageId": "raw"
    }
   },
   "source": [
    "In order to place the focusing system we fix the distance from mono exit slit (secondary source) and the image plane. This distance,\n",
    "throw, is of $10$ m. We also set as $0.5$ m the distance between the centre of first and second focusing mirrors (M4 and M5). The distance between the first and second experimental stations (cromag and mk2T) is of $2$ m."
   ]
  },
  {
   "cell_type": "code",
   "execution_count": null,
   "id": "382fd2d8",
   "metadata": {},
   "outputs": [],
   "source": [
    "throw = 10\n",
    "sep_KB = 0.5\n",
    "sep_exp_stations = 2.0"
   ]
  },
  {
   "cell_type": "markdown",
   "id": "f069c68f",
   "metadata": {},
   "source": [
    "#### KB-A"
   ]
  },
  {
   "cell_type": "markdown",
   "id": "447ca8a1",
   "metadata": {},
   "source": [
    "##### M4A (KB horizontal focusing)"
   ]
  },
  {
   "cell_type": "code",
   "execution_count": null,
   "id": "66983107",
   "metadata": {},
   "outputs": [],
   "source": [
    "m4a.theta = 0.44*degree\n",
    "# m4a.phi = -90*degree # HFM\n",
    "# m4a.phi = 180*degree # VFM\n",
    "m4a.theta0 = m4a.theta\n",
    "m4a.recording_mode = opx.RecordingMode.recording_output\n",
    "m4a.next = m5a"
   ]
  },
  {
   "cell_type": "markdown",
   "id": "c41960cb",
   "metadata": {},
   "source": [
    "##### M5A (KB - vertical focusing)"
   ]
  },
  {
   "cell_type": "code",
   "execution_count": null,
   "id": "9ac7bb14",
   "metadata": {},
   "outputs": [],
   "source": [
    "m5a.distance_from_previous = sep_KB\n",
    "m5a.theta = 0.44*degree\n",
    "m5a.phi = -90*degree\n",
    "m5a.theta0 = m5a.theta\n",
    "m5a.recording_mode = opx.RecordingMode.recording_output\n",
    "m5a.next = cromag"
   ]
  },
  {
   "cell_type": "markdown",
   "id": "05936f18",
   "metadata": {},
   "source": [
    "#### KB-B"
   ]
  },
  {
   "cell_type": "markdown",
   "id": "268a6086",
   "metadata": {},
   "source": [
    "##### M4B (KB - horizontal focusing)"
   ]
  },
  {
   "cell_type": "code",
   "execution_count": null,
   "id": "2dbb74cb",
   "metadata": {},
   "outputs": [],
   "source": [
    "m4b.theta = 0.44*degree\n",
    "m4b.theta0 = m4b.theta\n",
    "m4b.recording_mode = opx.RecordingMode.recording_output\n",
    "m4b.next = m5b"
   ]
  },
  {
   "cell_type": "markdown",
   "id": "2cddfc8e",
   "metadata": {},
   "source": [
    "##### M5A (KB - vertical focusing)"
   ]
  },
  {
   "cell_type": "code",
   "execution_count": null,
   "id": "e09f93bd",
   "metadata": {},
   "outputs": [],
   "source": [
    "m5b.distance_from_previous = sep_KB\n",
    "m5b.theta = 0.44*degree\n",
    "m5b.phi = -90*degree\n",
    "m5b.theta0 = m5b.theta\n",
    "m5b.recording_mode = opx.RecordingMode.recording_output\n",
    "m5b.next = cromag"
   ]
  },
  {
   "cell_type": "markdown",
   "id": "c13e0dbc",
   "metadata": {},
   "source": [
    "#### Endstations\n",
    "\n",
    "[Back to the top](#toc)"
   ]
  },
  {
   "cell_type": "markdown",
   "id": "3031ef54-0592-41e4-ba5b-691ae565b00c",
   "metadata": {},
   "source": [
    "##### CroMag"
   ]
  },
  {
   "cell_type": "code",
   "execution_count": null,
   "id": "4dda9929",
   "metadata": {},
   "outputs": [],
   "source": [
    "cromag.recording_mode = opx.RecordingMode.recording_output\n",
    "cromag.next = mk2t"
   ]
  },
  {
   "cell_type": "markdown",
   "id": "28fd3a81",
   "metadata": {},
   "source": [
    "##### mK2T"
   ]
  },
  {
   "cell_type": "code",
   "execution_count": null,
   "id": "eb9d45e9",
   "metadata": {},
   "outputs": [],
   "source": [
    "mk2t.distance_from_previous = sep_exp_stations\n",
    "mk2t.phi = 0\n",
    "mk2t.recording_mode = opx.RecordingMode.recording_output"
   ]
  },
  {
   "cell_type": "markdown",
   "id": "ab025095",
   "metadata": {},
   "source": [
    "### Alignment script"
   ]
  },
  {
   "cell_type": "code",
   "execution_count": null,
   "id": "6e9d8595",
   "metadata": {},
   "outputs": [],
   "source": [
    "def align_kb(active_chain, p, q, kb_orientation, **kwargs):\n",
    "\n",
    "    verbose = kwargs.get(\"verbose\", False)\n",
    "    dq = kwargs.get(\"dq\", 0)\n",
    "\n",
    "    for count, oe in enumerate(active_chain):\n",
    "        if \"m4\" in oe.name.lower():\n",
    "            mirror_oe_pos = count\n",
    "        \n",
    "    dKB = (active_chain[mirror_oe_pos+1].distance_from_previous)/2\n",
    "\n",
    "    if verbose:\n",
    "        print(\"\\n> First mirror\")\n",
    "        print(f\"- source at {(p-dKB):.3e} m\")\n",
    "        print(f\"- image at  {(q+dKB+dq):.3e} m\")\n",
    "        print(f\"--   throw {(p+q+dq):.3e} m\")\n",
    "\n",
    "        print(\"> Second mirror\")\n",
    "        print(f\"- source at {(p+dKB):.3e} m\")\n",
    "        print(f\"-  image at {(q-dKB+dq):.3e} m\")\n",
    "        print(f\"--   throw {(p+q+dq):.3e} m\")\n",
    "\n",
    "        print(f\"> Distance between mirrors is {dKB:.3e} m\")\n",
    "\n",
    "    # FIRST MIRROR\n",
    "    active_chain[mirror_oe_pos].distance_from_previous = (p-dKB)\n",
    "    active_chain[mirror_oe_pos].inverse_p = -1/(p-dKB)\n",
    "    active_chain[mirror_oe_pos].inverse_q = 1/(q+dKB+dq)\n",
    "\n",
    "    # SECOND MIRROR\n",
    "    active_chain[mirror_oe_pos+1].inverse_p = -1/(p+dKB)\n",
    "    active_chain[mirror_oe_pos+1].inverse_q = 1/(q-dKB+dq)\n",
    "\n",
    "    active_chain[mirror_oe_pos+2].distance_from_previous = (q-dKB)\n",
    "\n",
    "    if kb_orientation.lower() in ['hv', 'h-v', 'h/v', 'hfm-vfm', 'hfm/vfm']:\n",
    "        active_chain[mirror_oe_pos].phi = -90*degree\n",
    "        active_chain[mirror_oe_pos+2].phi = 180*degree\n",
    "    elif kb_orientation.lower() in ['vh', 'v-h', 'v/h', 'vfm-hfm', 'vfm/hfm']:   \n",
    "        active_chain[mirror_oe_pos].phi = 180*degree\n",
    "        active_chain[mirror_oe_pos+2].phi = -90*degree"
   ]
  },
  {
   "cell_type": "markdown",
   "id": "01a39966",
   "metadata": {},
   "source": [
    "### Beamline alignment procedure"
   ]
  },
  {
   "cell_type": "code",
   "execution_count": null,
   "id": "23508023",
   "metadata": {},
   "outputs": [],
   "source": [
    "def align_call(alignment_wvl, emission_wvl, alignment_condition, alignment_condition_value, \n",
    "               m1_distances, GM2_trans_dist, GM3_proj_dist, **kwargs):\n",
    "\n",
    "    align_undulator(Deimos.active_chain, emission_wvl, **kwargs)\n",
    "    align_m1(Deimos.active_chain, m1_distances, **kwargs)\n",
    "    align_mono(Deimos.active_chain, alignment_wvl, alignment_condition, \n",
    "               alignment_condition_value, GM2_trans_dist, GM3_proj_dist, **kwargs)\n",
    "    align_m3(Deimos.active_chain, **kwargs)\n",
    "    align_kb(Deimos.active_chain, **kwargs)\n",
    "\n",
    "Deimos.align_steps = align_call\n",
    "\n",
    "def set_bl(energy_alignment, alignment_condition, alignment_condition_value, \n",
    "               m1_distances=m1_distances, GM2_trans_dist=20e-3, GM3_proj_dist=700e-3, **kwargs):\n",
    "\n",
    "    energy_radiate =  kwargs.get(\"energy_radiate\", energy_alignment)\n",
    "    dE =  kwargs.get(\"dE\", 0)\n",
    "    nrays = kwargs.get(\"nrays\", 500)\n",
    "\n",
    "    alignment_wvl = hc/energy_alignment\n",
    "    emission_wvl = hc/energy_radiate\n",
    "\n",
    "    Deimos.align(alignment_wvl, emission_wvl, \n",
    "                 alignment_condition=alignment_condition, \n",
    "                 alignment_condition_value=alignment_condition_value, \n",
    "                 m1_distances=m1_distances, GM2_trans_dist=GM2_trans_dist,\n",
    "                 GM3_proj_dist=GM3_proj_dist, **kwargs)\n",
    "\n",
    "    Deimos.clear_impacts(clear_source=True)\n",
    "    Deimos.active_chain[0].nrays = nrays\n",
    "    if dE==0:\n",
    "        Deimos.generate(emission_wvl)\n",
    "    else:\n",
    "        for E in np.arange(energy_radiate*(1-dE), energy_radiate*(1+dE)):\n",
    "            Deimos.generate(hc/E)\n",
    "    Deimos.radiate()"
   ]
  },
  {
   "cell_type": "markdown",
   "id": "2f6cbe4f",
   "metadata": {},
   "source": [
    "### KB design test"
   ]
  },
  {
   "cell_type": "code",
   "execution_count": null,
   "id": "e3e5fbd2",
   "metadata": {},
   "outputs": [],
   "source": [
    "nrays = 20000\n",
    "verbose = False\n",
    "E = 350\n",
    "rt_fldr = './results/pyoptix/sample_II/'\n",
    "\n",
    "Deimos.active_chain = \"SII_M1B_G1600_WLT_A\"\n",
    "\n",
    "alignment = \"cff\" if 'G1600' in Deimos.active_chain_name else \"omega\"\n",
    "alignment_value = 0.2 if alignment == \"cff\" else 0.692 * degree\n",
    "\n",
    "oe_1 = cromag\n",
    "oe_2 = mk2t\n",
    "\n",
    "p = np.linspace(1, 9, 801)\n",
    "dq = 0\n",
    "\n",
    "kb_orientation='hv'\n",
    "\n",
    "config_stats = bm.initialise_beam_stats_dict(len(p), oe_1.name)\n",
    "stats_dicts = [config_stats]\n",
    "if oe_2 is not None:\n",
    "      config_stats_2 = bm.initialise_beam_stats_dict(len(p), oe_2.name)\n",
    "      stats_dicts.append(config_stats_2)\n",
    "\n",
    "for i, mono_dist in enumerate(p):\n",
    "\n",
    "      set_bl(E, alignment_condition=alignment, alignment_condition_value=alignment_value, \n",
    "             verbose=verbose, nrays=nrays, center_undulator=0, m3_orientation='vertical', \n",
    "             p=mono_dist, q=throw - mono_dist, dq=dq, kb_orientation=kb_orientation)\n",
    "      \n",
    "      for oe_element, stats_dict in zip([oe_1, oe_2], stats_dicts):\n",
    "            config = oe_element.name\n",
    "            if oe_element is None:\n",
    "                  continue\n",
    "            stats = bm.get_beam_stats(save_beam_to_csv(oe_element.get_impacts(), None), verbose=verbose)\n",
    "            \n",
    "            for axis in ['X', 'Y']:\n",
    "                  stats_dict[config][axis]['focus_distance'][i] = stats[axis]['focus_distance']\n",
    "                  for category in ['sigma', 'sigma_p']:\n",
    "                        for stat in ['mean', 'std', 'fwhm', 'skew', 'kurtosis']:\n",
    "                              stats_dict[config][axis][category][stat][i] = stats[axis][category][stat]\n",
    "\n",
    "f_name = rt_fldr + f\"{Deimos.active_chain_name}_@_{oe_1.name}_{kb_orientation}_p_scan_{nrays:.0f}_rays_stats.csv\"\n",
    "bm.save_beam_stats_to_csv(config_stats, p, f_name)\n",
    "if oe_2 is not None:\n",
    "      f_name = rt_fldr + f\"{Deimos.active_chain_name}_@_{oe_2.name}_{kb_orientation}_p_scan_{nrays:.0f}_rays_stats.csv\"\n",
    "      bm.save_beam_stats_to_csv(config_stats_2, p, f_name)\n",
    "\n",
    "kb_orientation='vh'\n",
    "\n",
    "config_stats = bm.initialise_beam_stats_dict(len(p), oe_1.name)\n",
    "stats_dicts = [config_stats]\n",
    "if oe_2 is not None:\n",
    "      config_stats_2 = bm.initialise_beam_stats_dict(len(p), oe_2.name)\n",
    "      stats_dicts.append(config_stats_2)\n",
    "\n",
    "for i, mono_dist in enumerate(p):\n",
    "\n",
    "      set_bl(E, alignment_condition=alignment, alignment_condition_value=alignment_value, \n",
    "             verbose=verbose, nrays=nrays, center_undulator=0, m3_orientation='vertical', \n",
    "             p=mono_dist, q=throw - mono_dist, dq=dq, kb_orientation=kb_orientation)\n",
    "      \n",
    "      for oe_element, stats_dict in zip([oe_1, oe_2], stats_dicts):\n",
    "            config = oe_element.name\n",
    "            if oe_element is None:\n",
    "                  continue\n",
    "            stats = bm.get_beam_stats(save_beam_to_csv(oe_element.get_impacts(), None), verbose=verbose)\n",
    "            \n",
    "            for axis in ['X', 'Y']:\n",
    "                  stats_dict[config][axis]['focus_distance'][i] = stats[axis]['focus_distance']\n",
    "                  for category in ['sigma', 'sigma_p']:\n",
    "                        for stat in ['mean', 'std', 'fwhm', 'skew', 'kurtosis']:\n",
    "                              stats_dict[config][axis][category][stat][i] = stats[axis][category][stat]\n",
    "\n",
    "f_name = rt_fldr + f\"{Deimos.active_chain_name}_@_{oe_1.name}_{kb_orientation}_p_scan_{nrays:.0f}_rays_stats.csv\"\n",
    "bm.save_beam_stats_to_csv(config_stats, p, f_name)\n",
    "if oe_2 is not None:\n",
    "      f_name = rt_fldr + f\"{Deimos.active_chain_name}_@_{oe_2.name}_{kb_orientation}_p_scan_{nrays:.0f}_rays_stats.csv\"\n",
    "      bm.save_beam_stats_to_csv(config_stats_2, p, f_name)"
   ]
  },
  {
   "cell_type": "code",
   "execution_count": null,
   "id": "32c0e9e3",
   "metadata": {},
   "outputs": [],
   "source": [
    "stats_LE_cromag  = bm.load_stats_from_csv(r\".\\results\\pyoptix\\sample_II\\SII_M1B_G1600_WLT_A_@_cromag_hv_p_scan_20000_rays_stats.csv\")\n",
    "stats_LE_mk2t    = bm.load_stats_from_csv(r\".\\results\\pyoptix\\sample_II\\SII_M1B_G1600_WLT_A_@_mk2t_hv_p_scan_20000_rays_stats.csv\")"
   ]
  },
  {
   "cell_type": "code",
   "execution_count": null,
   "id": "b668e6bc",
   "metadata": {},
   "outputs": [],
   "source": [
    "title = \"KB-A (H/V) - position scan\"\n",
    "\n",
    "fig = PlotManager()\n",
    "fig.image, fig.x = stats_LE_cromag['cromag']['X']['sigma']['std']*1E6, stats_LE_cromag['cromag']['scan']\n",
    "fig.additional_info(title, \"distance from mono exit slit [m]\", \"beam size [µm]\", \n",
    "                    xmin=0, xmax=10, ymin=-5, ymax=155).aesthetics(LaTex=True, grid=True)\n",
    "fig.info_1d_plot(4, 'hor. (cromag)', LineStyle=':').plot_1d(enable=False)\n",
    "fig.image, fig.x = stats_LE_mk2t['mk2t']['X']['sigma']['std']*1E6, stats_LE_mk2t['mk2t']['scan']\n",
    "fig.info_1d_plot(4, 'hor. (mk2T)', LineStyle='--').plot_1d(enable=False, hold=True)\n",
    "\n",
    "fig.image= stats_LE_cromag['cromag']['Y']['sigma']['std']*1E6\n",
    "fig.info_1d_plot(5, 'ver. (cromag)', LineStyle=':').plot_1d(enable=False, hold=True)\n",
    "fig.image= stats_LE_mk2t['mk2t']['Y']['sigma']['std']*1E6\n",
    "fig.info_1d_plot(5, 'ver. (mk2T)', LineStyle='--').plot_1d(enable=False, hold=True)\n",
    "fig.image, fig.x = [-5, 155], [5, 5]\n",
    "fig.info_1d_plot(-2, 'chosen pos.', LineStyle='-.').plot_1d(enable=True, hold=True)\n",
    "\n",
    "fig = PlotManager()\n",
    "fig.image, fig.x = stats_LE_cromag['cromag']['X']['sigma_p']['std']*1E6, stats_LE_cromag['cromag']['scan']\n",
    "fig.additional_info(title, \"distance from mono exit slit [m]\", \"beam divergence [µrad]\", \n",
    "                    xmin=0, xmax=10, ymin=-5, ymax=105).aesthetics(LaTex=True, grid=True)\n",
    "fig.info_1d_plot(4, 'hor.', LineStyle='+').plot_1d(enable=False)\n",
    "fig.image, fig.x = stats_LE_mk2t['mk2t']['Y']['sigma_p']['std']*1E6, stats_LE_mk2t['mk2t']['scan']\n",
    "fig.info_1d_plot(5, 'ver.', LineStyle='x').plot_1d(enable=True, hold=True)\n",
    "\n",
    "fig = PlotManager()\n",
    "fig.image, fig.x = stats_LE_cromag['cromag']['X']['sigma']['skew'], stats_LE_cromag['cromag']['scan']\n",
    "fig.additional_info(title, \"distance from mono exit slit [m]\", \"Skewness\", \n",
    "                    xmin=0, xmax=10, ymin=-1, ymax=1).aesthetics(LaTex=True, grid=True)\n",
    "fig.info_1d_plot(4, 'hor. (cromag)', LineStyle='-').plot_1d(enable=False)\n",
    "fig.image, fig.x = stats_LE_mk2t['mk2t']['X']['sigma']['skew'], stats_LE_mk2t['mk2t']['scan']\n",
    "fig.info_1d_plot(4, 'hor. (mk2T)', LineStyle=':').plot_1d(enable=False, hold=True)\n",
    "\n",
    "fig.image= stats_LE_cromag['cromag']['Y']['sigma']['skew']\n",
    "fig.info_1d_plot(5, 'ver. (cromag)', LineStyle='-').plot_1d(enable=False, hold=True)\n",
    "fig.image= stats_LE_mk2t['mk2t']['Y']['sigma']['skew']\n",
    "fig.info_1d_plot(5, 'ver. (mk2T)', LineStyle=':').plot_1d(enable=True, hold=True)\n",
    "\n",
    "fig = PlotManager()\n",
    "fig.image, fig.x = stats_LE_cromag['cromag']['X']['sigma']['kurtosis'], stats_LE_cromag['cromag']['scan']\n",
    "fig.additional_info(title, \"distance from mono exit slit [m]\", \"Excess Kurtosis\", \n",
    "                    xmin=0, xmax=10, ymin=-1, ymax=1).aesthetics(LaTex=True, grid=True)\n",
    "fig.info_1d_plot(4, 'hor. (cromag)', LineStyle='-').plot_1d(enable=False)\n",
    "fig.image, fig.x = stats_LE_mk2t['mk2t']['X']['sigma']['kurtosis'], stats_LE_mk2t['mk2t']['scan']\n",
    "fig.info_1d_plot(4, 'hor. (mk2T)', LineStyle=':').plot_1d(enable=False, hold=True)\n",
    "\n",
    "fig.image= stats_LE_cromag['cromag']['Y']['sigma']['kurtosis']\n",
    "fig.info_1d_plot(5, 'ver. (cromag)', LineStyle='-').plot_1d(enable=False, hold=True)\n",
    "fig.image= stats_LE_mk2t['mk2t']['Y']['sigma']['kurtosis']\n",
    "fig.info_1d_plot(5, 'ver. (mk2T)', LineStyle=':').plot_1d(enable=True, hold=True)\n"
   ]
  },
  {
   "cell_type": "code",
   "execution_count": null,
   "id": "c35ad217",
   "metadata": {},
   "outputs": [],
   "source": [
    "stats_LE_cromag  = bm.load_stats_from_csv(r\".\\results\\pyoptix\\sample_II\\SII_M1B_G1600_WLT_A_@_cromag_vh_p_scan_20000_rays_stats.csv\")\n",
    "stats_LE_mk2t    = bm.load_stats_from_csv(r\".\\results\\pyoptix\\sample_II\\SII_M1B_G1600_WLT_A_@_mk2t_vh_p_scan_20000_rays_stats.csv\")"
   ]
  },
  {
   "cell_type": "code",
   "execution_count": null,
   "id": "f50c6d14",
   "metadata": {},
   "outputs": [],
   "source": [
    "title = \"KB-A (V/H) - position scan\"\n",
    "\n",
    "fig = PlotManager()\n",
    "fig.image, fig.x = stats_LE_cromag['cromag']['X']['sigma']['std']*1E6, stats_LE_cromag['cromag']['scan']\n",
    "fig.additional_info(title, \"distance from mono exit slit [m]\", \"beam size [µm]\", \n",
    "                    xmin=0, xmax=10, ymin=-5, ymax=155).aesthetics(LaTex=True, grid=True)\n",
    "fig.info_1d_plot(4, 'hor. (cromag)', LineStyle=':').plot_1d(enable=False)\n",
    "fig.image, fig.x = stats_LE_mk2t['mk2t']['X']['sigma']['std']*1E6, stats_LE_mk2t['mk2t']['scan']\n",
    "fig.info_1d_plot(4, 'hor. (mk2T)', LineStyle='--').plot_1d(enable=False, hold=True)\n",
    "\n",
    "fig.image= stats_LE_cromag['cromag']['Y']['sigma']['std']*1E6\n",
    "fig.info_1d_plot(5, 'ver. (cromag)', LineStyle=':').plot_1d(enable=False, hold=True)\n",
    "fig.image= stats_LE_mk2t['mk2t']['Y']['sigma']['std']*1E6\n",
    "fig.info_1d_plot(5, 'ver. (mk2T)', LineStyle='--').plot_1d(enable=False, hold=True)\n",
    "fig.image, fig.x = [-5, 155], [5, 5]\n",
    "fig.info_1d_plot(-2, 'chosen pos.', LineStyle='-.').plot_1d(enable=True, hold=True)\n",
    "\n",
    "fig = PlotManager()\n",
    "fig.image, fig.x = stats_LE_cromag['cromag']['X']['sigma_p']['std']*1E6, stats_LE_cromag['cromag']['scan']\n",
    "fig.additional_info(title, \"distance from mono exit slit [m]\", \"beam divergence [µrad]\", \n",
    "                    xmin=0, xmax=10, ymin=-5, ymax=105).aesthetics(LaTex=True, grid=True)\n",
    "fig.info_1d_plot(4, 'hor.', LineStyle='+').plot_1d(enable=False)\n",
    "fig.image, fig.x = stats_LE_mk2t['mk2t']['Y']['sigma_p']['std']*1E6, stats_LE_mk2t['mk2t']['scan']\n",
    "fig.info_1d_plot(5, 'ver.', LineStyle='x').plot_1d(enable=True, hold=True)\n",
    "\n",
    "fig = PlotManager()\n",
    "fig.image, fig.x = stats_LE_cromag['cromag']['X']['sigma']['skew'], stats_LE_cromag['cromag']['scan']\n",
    "fig.additional_info(title, \"distance from mono exit slit [m]\", \"Skewness\", \n",
    "                    xmin=0, xmax=10, ymin=-1, ymax=1).aesthetics(LaTex=True, grid=True)\n",
    "fig.info_1d_plot(4, 'hor. (cromag)', LineStyle='-').plot_1d(enable=False)\n",
    "fig.image, fig.x = stats_LE_mk2t['mk2t']['X']['sigma']['skew'], stats_LE_mk2t['mk2t']['scan']\n",
    "fig.info_1d_plot(4, 'hor. (mk2T)', LineStyle=':').plot_1d(enable=False, hold=True)\n",
    "\n",
    "fig.image= stats_LE_cromag['cromag']['Y']['sigma']['skew']\n",
    "fig.info_1d_plot(5, 'ver. (cromag)', LineStyle='-').plot_1d(enable=False, hold=True)\n",
    "fig.image= stats_LE_mk2t['mk2t']['Y']['sigma']['skew']\n",
    "fig.info_1d_plot(5, 'ver. (mk2T)', LineStyle=':').plot_1d(enable=True, hold=True)\n",
    "\n",
    "fig = PlotManager()\n",
    "fig.image, fig.x = stats_LE_cromag['cromag']['X']['sigma']['kurtosis'], stats_LE_cromag['cromag']['scan']\n",
    "fig.additional_info(title, \"distance from mono exit slit [m]\", \"Excess Kurtosis\", \n",
    "                    xmin=0, xmax=10, ymin=-1, ymax=1).aesthetics(LaTex=True, grid=True)\n",
    "fig.info_1d_plot(4, 'hor. (cromag)', LineStyle='-').plot_1d(enable=False)\n",
    "fig.image, fig.x = stats_LE_mk2t['mk2t']['X']['sigma']['kurtosis'], stats_LE_mk2t['mk2t']['scan']\n",
    "fig.info_1d_plot(4, 'hor. (mk2T)', LineStyle=':').plot_1d(enable=False, hold=True)\n",
    "\n",
    "fig.image= stats_LE_cromag['cromag']['Y']['sigma']['kurtosis']\n",
    "fig.info_1d_plot(5, 'ver. (cromag)', LineStyle='-').plot_1d(enable=False, hold=True)\n",
    "fig.image= stats_LE_mk2t['mk2t']['Y']['sigma']['kurtosis']\n",
    "fig.info_1d_plot(5, 'ver. (mk2T)', LineStyle=':').plot_1d(enable=True, hold=True)\n"
   ]
  },
  {
   "cell_type": "code",
   "execution_count": null,
   "id": "54548a9f",
   "metadata": {},
   "outputs": [],
   "source": [
    "Deimos.active_chain = \"SII_M1B_G1600_WLT_B\"\n",
    "\n",
    "alignment = \"cff\" if 'G1600' in Deimos.active_chain_name else \"omega\"\n",
    "alignment_value = 0.2 if alignment == \"cff\" else 0.692 * degree\n",
    "\n",
    "oe_1 = cromag\n",
    "oe_2 = mk2t\n",
    "\n",
    "p = np.linspace(1, 9, 801)\n",
    "dq = sep_exp_stations\n",
    "\n",
    "kb_orientation='hv'\n",
    "\n",
    "config_stats = bm.initialise_beam_stats_dict(len(p), oe_1.name)\n",
    "stats_dicts = [config_stats]\n",
    "if oe_2 is not None:\n",
    "      config_stats_2 = bm.initialise_beam_stats_dict(len(p), oe_2.name)\n",
    "      stats_dicts.append(config_stats_2)\n",
    "\n",
    "for i, mono_dist in enumerate(p):\n",
    "\n",
    "      set_bl(E, alignment_condition=alignment, alignment_condition_value=alignment_value, \n",
    "             verbose=verbose, nrays=nrays, center_undulator=0, m3_orientation='vertical', \n",
    "             p=mono_dist, q=throw - mono_dist, dq=dq, kb_orientation=kb_orientation)\n",
    "      \n",
    "      for oe_element, stats_dict in zip([oe_1, oe_2], stats_dicts):\n",
    "            config = oe_element.name\n",
    "            if oe_element is None:\n",
    "                  continue\n",
    "            stats = bm.get_beam_stats(save_beam_to_csv(oe_element.get_impacts(), None), verbose=verbose)\n",
    "            \n",
    "            for axis in ['X', 'Y']:\n",
    "                  stats_dict[config][axis]['focus_distance'][i] = stats[axis]['focus_distance']\n",
    "                  for category in ['sigma', 'sigma_p']:\n",
    "                        for stat in ['mean', 'std', 'fwhm', 'skew', 'kurtosis']:\n",
    "                              stats_dict[config][axis][category][stat][i] = stats[axis][category][stat]\n",
    "\n",
    "f_name = rt_fldr + f\"{Deimos.active_chain_name}_@_{oe_1.name}_{kb_orientation}_p_scan_{nrays:.0f}_rays_stats.csv\"\n",
    "bm.save_beam_stats_to_csv(config_stats, p, f_name)\n",
    "if oe_2 is not None:\n",
    "      f_name = rt_fldr + f\"{Deimos.active_chain_name}_@_{oe_2.name}_{kb_orientation}_p_scan_{nrays:.0f}_rays_stats.csv\"\n",
    "      bm.save_beam_stats_to_csv(config_stats_2, p, f_name)\n",
    "\n",
    "kb_orientation='vh'\n",
    "\n",
    "config_stats = bm.initialise_beam_stats_dict(len(p), oe_1.name)\n",
    "stats_dicts = [config_stats]\n",
    "if oe_2 is not None:\n",
    "      config_stats_2 = bm.initialise_beam_stats_dict(len(p), oe_2.name)\n",
    "      stats_dicts.append(config_stats_2)\n",
    "\n",
    "for i, mono_dist in enumerate(p):\n",
    "\n",
    "      set_bl(E, alignment_condition=alignment, alignment_condition_value=alignment_value, \n",
    "             verbose=verbose, nrays=nrays, center_undulator=0, m3_orientation='vertical', \n",
    "             p=mono_dist, q=throw - mono_dist, dq=dq, kb_orientation=kb_orientation)\n",
    "      \n",
    "      for oe_element, stats_dict in zip([oe_1, oe_2], stats_dicts):\n",
    "            config = oe_element.name\n",
    "            if oe_element is None:\n",
    "                  continue\n",
    "            stats = bm.get_beam_stats(save_beam_to_csv(oe_element.get_impacts(), None), verbose=verbose)\n",
    "            \n",
    "            for axis in ['X', 'Y']:\n",
    "                  stats_dict[config][axis]['focus_distance'][i] = stats[axis]['focus_distance']\n",
    "                  for category in ['sigma', 'sigma_p']:\n",
    "                        for stat in ['mean', 'std', 'fwhm', 'skew', 'kurtosis']:\n",
    "                              stats_dict[config][axis][category][stat][i] = stats[axis][category][stat]\n",
    "\n",
    "f_name = rt_fldr + f\"{Deimos.active_chain_name}_@_{oe_1.name}_{kb_orientation}_p_scan_{nrays:.0f}_rays_stats.csv\"\n",
    "bm.save_beam_stats_to_csv(config_stats, p, f_name)\n",
    "if oe_2 is not None:\n",
    "      f_name = rt_fldr + f\"{Deimos.active_chain_name}_@_{oe_2.name}_{kb_orientation}_p_scan_{nrays:.0f}_rays_stats.csv\"\n",
    "      bm.save_beam_stats_to_csv(config_stats_2, p, f_name)"
   ]
  },
  {
   "cell_type": "code",
   "execution_count": null,
   "id": "44829c2b",
   "metadata": {},
   "outputs": [],
   "source": [
    "stats_LE_cromag  = bm.load_stats_from_csv(r\".\\results\\pyoptix\\sample_II\\SII_M1B_G1600_WLT_B_@_cromag_hv_p_scan_20000_rays_stats.csv\")\n",
    "stats_LE_mk2t    = bm.load_stats_from_csv(r\".\\results\\pyoptix\\sample_II\\SII_M1B_G1600_WLT_B_@_mk2t_hv_p_scan_20000_rays_stats.csv\")"
   ]
  },
  {
   "cell_type": "code",
   "execution_count": null,
   "id": "ccc8889f",
   "metadata": {},
   "outputs": [],
   "source": [
    "title = \"KB-B (H/V) - position scan\"\n",
    "\n",
    "fig = PlotManager()\n",
    "fig.image, fig.x = stats_LE_cromag['cromag']['X']['sigma']['std']*1E6, stats_LE_cromag['cromag']['scan']\n",
    "fig.additional_info(title, \"distance from mono exit slit [m]\", \"beam size [µm]\", \n",
    "                    xmin=0, xmax=10, ymin=-5, ymax=155).aesthetics(LaTex=True, grid=True)\n",
    "fig.info_1d_plot(2, 'hor. (cromag)', LineStyle=':').plot_1d(enable=False)\n",
    "fig.image, fig.x = stats_LE_mk2t['mk2t']['X']['sigma']['std']*1E6, stats_LE_mk2t['mk2t']['scan']\n",
    "fig.info_1d_plot(2, 'hor. (mk2T)', LineStyle='--').plot_1d(enable=False, hold=True)\n",
    "\n",
    "fig.image= stats_LE_cromag['cromag']['Y']['sigma']['std']*1E6\n",
    "fig.info_1d_plot(3, 'ver. (cromag)', LineStyle=':').plot_1d(enable=False, hold=True)\n",
    "fig.image= stats_LE_mk2t['mk2t']['Y']['sigma']['std']*1E6\n",
    "fig.info_1d_plot(3, 'ver. (mk2T)', LineStyle='--').plot_1d(enable=False, hold=True)\n",
    "fig.image, fig.x = [-5, 155], [5, 5]\n",
    "fig.info_1d_plot(-2, 'chosen pos.', LineStyle='-.').plot_1d(enable=True, hold=True)\n",
    "\n",
    "fig = PlotManager()\n",
    "fig.image, fig.x = stats_LE_cromag['cromag']['X']['sigma_p']['std']*1E6, stats_LE_cromag['cromag']['scan']\n",
    "fig.additional_info(title, \"distance from mono exit slit [m]\", \"beam divergence [µrad]\", \n",
    "                    xmin=0, xmax=10, ymin=-5, ymax=105).aesthetics(LaTex=True, grid=True)\n",
    "fig.info_1d_plot(2, 'hor.', LineStyle='+').plot_1d(enable=False)\n",
    "fig.image, fig.x = stats_LE_mk2t['mk2t']['Y']['sigma_p']['std']*1E6, stats_LE_mk2t['mk2t']['scan']\n",
    "fig.info_1d_plot(3, 'ver.', LineStyle='x').plot_1d(enable=True, hold=True)\n",
    "\n",
    "fig = PlotManager()\n",
    "fig.image, fig.x = stats_LE_cromag['cromag']['X']['sigma']['skew'], stats_LE_cromag['cromag']['scan']\n",
    "fig.additional_info(title, \"distance from mono exit slit [m]\", \"Skewness\", \n",
    "                    xmin=0, xmax=10, ymin=-1, ymax=1).aesthetics(LaTex=True, grid=True)\n",
    "fig.info_1d_plot(2, 'hor. (cromag)', LineStyle='-').plot_1d(enable=False)\n",
    "fig.image, fig.x = stats_LE_mk2t['mk2t']['X']['sigma']['skew'], stats_LE_mk2t['mk2t']['scan']\n",
    "fig.info_1d_plot(2, 'hor. (mk2T)', LineStyle=':').plot_1d(enable=False, hold=True)\n",
    "\n",
    "fig.image= stats_LE_cromag['cromag']['Y']['sigma']['skew']\n",
    "fig.info_1d_plot(3, 'ver. (cromag)', LineStyle='-').plot_1d(enable=False, hold=True)\n",
    "fig.image= stats_LE_mk2t['mk2t']['Y']['sigma']['skew']\n",
    "fig.info_1d_plot(3, 'ver. (mk2T)', LineStyle=':').plot_1d(enable=True, hold=True)\n",
    "\n",
    "fig = PlotManager()\n",
    "fig.image, fig.x = stats_LE_cromag['cromag']['X']['sigma']['kurtosis'], stats_LE_cromag['cromag']['scan']\n",
    "fig.additional_info(title, \"distance from mono exit slit [m]\", \"Excess Kurtosis\", \n",
    "                    xmin=0, xmax=10, ymin=-1, ymax=1).aesthetics(LaTex=True, grid=True)\n",
    "fig.info_1d_plot(2, 'hor. (cromag)', LineStyle='-').plot_1d(enable=False)\n",
    "fig.image, fig.x = stats_LE_mk2t['mk2t']['X']['sigma']['kurtosis'], stats_LE_mk2t['mk2t']['scan']\n",
    "fig.info_1d_plot(2, 'hor. (mk2T)', LineStyle=':').plot_1d(enable=False, hold=True)\n",
    "\n",
    "fig.image= stats_LE_cromag['cromag']['Y']['sigma']['kurtosis']\n",
    "fig.info_1d_plot(3, 'ver. (cromag)', LineStyle='-').plot_1d(enable=False, hold=True)\n",
    "fig.image= stats_LE_mk2t['mk2t']['Y']['sigma']['kurtosis']\n",
    "fig.info_1d_plot(3, 'ver. (mk2T)', LineStyle=':').plot_1d(enable=True, hold=True)"
   ]
  },
  {
   "cell_type": "code",
   "execution_count": null,
   "id": "bc6d0484",
   "metadata": {},
   "outputs": [],
   "source": [
    "stats_LE_cromag  = bm.load_stats_from_csv(r\".\\results\\pyoptix\\sample_II\\SII_M1B_G1600_WLT_B_@_cromag_vh_p_scan_20000_rays_stats.csv\")\n",
    "stats_LE_mk2t    = bm.load_stats_from_csv(r\".\\results\\pyoptix\\sample_II\\SII_M1B_G1600_WLT_B_@_mk2t_vh_p_scan_20000_rays_stats.csv\")"
   ]
  },
  {
   "cell_type": "code",
   "execution_count": null,
   "id": "f006745a",
   "metadata": {},
   "outputs": [],
   "source": [
    "title = \"KB-B (V/H) - position scan\"\n",
    "\n",
    "fig = PlotManager()\n",
    "fig.image, fig.x = stats_LE_cromag['cromag']['X']['sigma']['std']*1E6, stats_LE_cromag['cromag']['scan']\n",
    "fig.additional_info(title, \"distance from mono exit slit [m]\", \"beam size [µm]\", \n",
    "                    xmin=0, xmax=10, ymin=-5, ymax=155).aesthetics(LaTex=True, grid=True)\n",
    "fig.info_1d_plot(2, 'hor. (cromag)', LineStyle=':').plot_1d(enable=False)\n",
    "fig.image, fig.x = stats_LE_mk2t['mk2t']['X']['sigma']['std']*1E6, stats_LE_mk2t['mk2t']['scan']\n",
    "fig.info_1d_plot(2, 'hor. (mk2T)', LineStyle='--').plot_1d(enable=False, hold=True)\n",
    "\n",
    "fig.image= stats_LE_cromag['cromag']['Y']['sigma']['std']*1E6\n",
    "fig.info_1d_plot(3, 'ver. (cromag)', LineStyle=':').plot_1d(enable=False, hold=True)\n",
    "fig.image= stats_LE_mk2t['mk2t']['Y']['sigma']['std']*1E6\n",
    "fig.info_1d_plot(3, 'ver. (mk2T)', LineStyle='--').plot_1d(enable=False, hold=True)\n",
    "fig.image, fig.x = [-5, 155], [5, 5]\n",
    "fig.info_1d_plot(-2, 'chosen pos.', LineStyle='-.').plot_1d(enable=True, hold=True)\n",
    "\n",
    "fig = PlotManager()\n",
    "fig.image, fig.x = stats_LE_cromag['cromag']['X']['sigma_p']['std']*1E6, stats_LE_cromag['cromag']['scan']\n",
    "fig.additional_info(title, \"distance from mono exit slit [m]\", \"beam divergence [µrad]\", \n",
    "                    xmin=0, xmax=10, ymin=-5, ymax=105).aesthetics(LaTex=True, grid=True)\n",
    "fig.info_1d_plot(2, 'hor.', LineStyle='+').plot_1d(enable=False)\n",
    "fig.image, fig.x = stats_LE_mk2t['mk2t']['Y']['sigma_p']['std']*1E6, stats_LE_mk2t['mk2t']['scan']\n",
    "fig.info_1d_plot(3, 'ver.', LineStyle='x').plot_1d(enable=True, hold=True)\n",
    "\n",
    "fig = PlotManager()\n",
    "fig.image, fig.x = stats_LE_cromag['cromag']['X']['sigma']['skew'], stats_LE_cromag['cromag']['scan']\n",
    "fig.additional_info(title, \"distance from mono exit slit [m]\", \"Skewness\", \n",
    "                    xmin=0, xmax=10, ymin=-1, ymax=1).aesthetics(LaTex=True, grid=True)\n",
    "fig.info_1d_plot(2, 'hor. (cromag)', LineStyle='-').plot_1d(enable=False)\n",
    "fig.image, fig.x = stats_LE_mk2t['mk2t']['X']['sigma']['skew'], stats_LE_mk2t['mk2t']['scan']\n",
    "fig.info_1d_plot(2, 'hor. (mk2T)', LineStyle=':').plot_1d(enable=False, hold=True)\n",
    "\n",
    "fig.image= stats_LE_cromag['cromag']['Y']['sigma']['skew']\n",
    "fig.info_1d_plot(3, 'ver. (cromag)', LineStyle='-').plot_1d(enable=False, hold=True)\n",
    "fig.image= stats_LE_mk2t['mk2t']['Y']['sigma']['skew']\n",
    "fig.info_1d_plot(3, 'ver. (mk2T)', LineStyle=':').plot_1d(enable=True, hold=True)\n",
    "\n",
    "fig = PlotManager()\n",
    "fig.image, fig.x = stats_LE_cromag['cromag']['X']['sigma']['kurtosis'], stats_LE_cromag['cromag']['scan']\n",
    "fig.additional_info(title, \"distance from mono exit slit [m]\", \"Excess Kurtosis\", \n",
    "                    xmin=0, xmax=10, ymin=-1, ymax=1).aesthetics(LaTex=True, grid=True)\n",
    "fig.info_1d_plot(2, 'hor. (cromag)', LineStyle='-').plot_1d(enable=False)\n",
    "fig.image, fig.x = stats_LE_mk2t['mk2t']['X']['sigma']['kurtosis'], stats_LE_mk2t['mk2t']['scan']\n",
    "fig.info_1d_plot(2, 'hor. (mk2T)', LineStyle=':').plot_1d(enable=False, hold=True)\n",
    "\n",
    "fig.image= stats_LE_cromag['cromag']['Y']['sigma']['kurtosis']\n",
    "fig.info_1d_plot(3, 'ver. (cromag)', LineStyle='-').plot_1d(enable=False, hold=True)\n",
    "fig.image= stats_LE_mk2t['mk2t']['Y']['sigma']['kurtosis']\n",
    "fig.info_1d_plot(3, 'ver. (mk2T)', LineStyle=':').plot_1d(enable=True, hold=True)"
   ]
  },
  {
   "cell_type": "markdown",
   "id": "82ef55b8-66a1-450b-a880-32228df96d33",
   "metadata": {},
   "source": [
    "<a id=\"exec\"></a>\n",
    "## Simulation execution\n",
    "[Back to the top](#toc)"
   ]
  },
  {
   "cell_type": "markdown",
   "id": "f344b4b1",
   "metadata": {},
   "source": [
    "### Available beamline configurations"
   ]
  },
  {
   "cell_type": "code",
   "execution_count": null,
   "id": "95462cf6",
   "metadata": {},
   "outputs": [],
   "source": [
    "print(\"Low energy configurations:\")\n",
    "for chain_name in Deimos.chains:    \n",
    "    if \"M1B\" in chain_name:\n",
    "        print(chain_name,\":\\n\\t\",Deimos.chains[chain_name])"
   ]
  },
  {
   "cell_type": "code",
   "execution_count": null,
   "id": "4598bb24",
   "metadata": {},
   "outputs": [],
   "source": [
    "print(\"High energy configurations:\")\n",
    "for chain_name in Deimos.chains:    \n",
    "    if \"M1C\" in chain_name:\n",
    "        print(chain_name,\":\\n\\t\",Deimos.chains[chain_name])"
   ]
  },
  {
   "cell_type": "markdown",
   "id": "1741e75a",
   "metadata": {},
   "source": [
    "The beamline can be conviniently simulated by selecting an **active chain** and an energy:\n",
    "\n",
    "```python\n",
    "Deimos.active_chain = \"U52_M1B_G1600_mono\"\n",
    "set_bl(350, alignment_condition=\"cff\", alignment_condition_value=0.2, verbose=True)\n",
    "```\n",
    "\n",
    "To check the orientation of the optical elements, draw the beamline:\n",
    "\n",
    "```python\n",
    "Deimos.show_active_chain_orientation()\n",
    "Deimos.draw_active_chain()\n",
    "spots = Deimos.draw_to_scale()\n",
    "```"
   ]
  },
  {
   "cell_type": "markdown",
   "id": "6574b528-3e00-4344-ab65-d6bd001e448e",
   "metadata": {},
   "source": [
    "<a id=\"calcu\"></a>\n",
    "# Calculations\n",
    "[Back to the top](#toc)"
   ]
  },
  {
   "cell_type": "code",
   "execution_count": null,
   "id": "610b35c7",
   "metadata": {},
   "outputs": [],
   "source": [
    "e0, ei, ef, dE = 0, 350, 5000, 5\n",
    "ne = int((ef-ei)/dE)+1\n",
    "energy = np.linspace(ei, ef, ne)"
   ]
  },
  {
   "cell_type": "code",
   "execution_count": null,
   "id": "82d4aaba",
   "metadata": {},
   "outputs": [],
   "source": [
    "nrays = 20000\n",
    "\n",
    "configs = []\n",
    "\n",
    "und = ['SII']\n",
    "mirror = ['M1B', 'M1C']\n",
    "mono = ['G1600', 'G2400']\n",
    "\n",
    "# endstation = ['mono']\n",
    "endstation = ['WLT_A', 'WLT_B']\n",
    "\n",
    "# oe = mono_exit_slit\n",
    "# oe = foc_hor\n",
    "oe_1 = cromag\n",
    "oe_2 = mk2t\n",
    "\n",
    "for u in und:\n",
    "    for mr in mirror:\n",
    "        for mn in mono:\n",
    "            for ends in endstation:\n",
    "                if '1B' in mr and '2400' in mn:\n",
    "                    pass\n",
    "                else:\n",
    "                    configs.append(f'{u}_{mr}_{mn}_{ends}')\n",
    "\n",
    "verbose = False\n",
    "\n",
    "# rt_fldr = './results/pyoptix/mono/'\n",
    "rt_fldr = './results/pyoptix/sample_II/'\n",
    "\n",
    "kb_orientation='hv'\n",
    "p = 5\n",
    "\n",
    "for config in configs:\n",
    "    print(f\"\\n\\n>>>>>>>>>>>>>>>>>>>>>>>>>>>>>>>>>>>>>>> {config}\")\n",
    "    Deimos.active_chain = config\n",
    "\n",
    "    if 'WLT_A' in config:\n",
    "        dq = 0\n",
    "    elif 'WLT_B' in config:\n",
    "        dq = sep_exp_stations\n",
    "\n",
    "    if 'M1B' in config:\n",
    "        energy_range = energy < 1500\n",
    "    elif 'G1600' in config:\n",
    "        energy_range = np.logical_and((energy > 500), (energy < 2000))\n",
    "    elif 'G2400' in config:\n",
    "        energy_range = np.logical_and((energy > 1000), (energy < 4000))\n",
    "\n",
    "    config_stats = bm.initialise_beam_stats_dict(len(energy), config)\n",
    "    stats_dicts = [config_stats]\n",
    "    if oe_2 is not None:\n",
    "        config_stats_2 = bm.initialise_beam_stats_dict(len(energy), config)\n",
    "        stats_dicts.append(config_stats_2)\n",
    "\n",
    "    for i, in_range in enumerate(energy_range):\n",
    "        if in_range:\n",
    "            # Set beamline parameters\n",
    "            alignment = \"cff\" if 'G1600' in Deimos.active_chain_name else \"omega\"\n",
    "            alignment_value = 0.2 if alignment == \"cff\" else 0.692 * degree\n",
    "            set_bl(energy[i], alignment_condition=alignment, alignment_condition_value=alignment_value, \n",
    "                   verbose=verbose, nrays=nrays, center_undulator=0, m3_orientation='vertical', \n",
    "                   p=p, q=throw-p, dq=dq, kb_orientation=kb_orientation)\n",
    "\n",
    "            for oe_element, stats_dict in zip([oe_1, oe_2], stats_dicts):\n",
    "                if oe_element is None:\n",
    "                    continue\n",
    "                stats = bm.get_beam_stats(save_beam_to_csv(oe_element.get_impacts(), None), verbose=verbose)\n",
    "                \n",
    "                for axis in ['X', 'Y']:\n",
    "                    stats_dict[config][axis]['focus_distance'][i] = stats[axis]['focus_distance']\n",
    "                    for category in ['sigma', 'sigma_p']:\n",
    "                        for stat in ['mean', 'std', 'fwhm', 'skew', 'kurtosis']:\n",
    "                            stats_dict[config][axis][category][stat][i] = stats[axis][category][stat]\n",
    "\n",
    "    f_name = rt_fldr + f\"{Deimos.active_chain_name}_@_{oe_1.name}_energy_scan_{nrays:.0f}_rays_stats.csv\"\n",
    "    bm.save_beam_stats_to_csv(config_stats, energy, f_name, scan_type='energy')\n",
    "    if oe_2 is not None:\n",
    "        f_name = rt_fldr + f\"{Deimos.active_chain_name}_@_{oe_2.name}_energy_scan_{nrays:.0f}_rays_stats.csv\"\n",
    "        bm.save_beam_stats_to_csv(config_stats_2, energy, f_name, scan_type='energy')\n",
    "\n",
    "for config in configs:\n",
    "    print(f\"\\n\\n>>>>>>>>>>>>>>>>>>>>>>>>>>>>>>>>>>>>>>> {config}\")\n",
    "    Deimos.active_chain = config\n",
    "    \n",
    "    if 'WLT_A' in config:\n",
    "        dq = 0\n",
    "    elif 'WLT_B' in config:\n",
    "        dq = sep_exp_stations\n",
    "\n",
    "    if 'M1B' in config:\n",
    "        energy_range = [350, 1000]\n",
    "    elif 'G1600' in config:\n",
    "        energy_range = [500, 1000, 1500, 2000]\n",
    "    elif 'G2400' in config:\n",
    "        energy_range = [1000, 1500, 2000, 2500, 3000, 3500, 4000]\n",
    "\n",
    "    for E in energy_range:\n",
    "        alignment = \"cff\" if 'G1600' in Deimos.active_chain_name else \"omega\"\n",
    "        alignment_value = 0.2 if alignment == \"cff\" else 0.692 * degree\n",
    "        set_bl(E, alignment_condition=alignment, alignment_condition_value=alignment_value, \n",
    "               verbose=verbose, nrays=nrays, center_undulator=0, m3_orientation='vertical', \n",
    "                   p=p, q=throw-p, dq=dq, kb_orientation=kb_orientation)\n",
    "\n",
    "        f_name = rt_fldr + f\"{Deimos.active_chain_name}_@_{oe_1.name}_E{E}eV_{nrays:.0f}_rays.csv\"\n",
    "        beam = save_beam_to_csv(oe_1.get_impacts(), f_name)\n",
    "\n",
    "        if oe_2 is not None:\n",
    "            f_name = rt_fldr + f\"{Deimos.active_chain_name}_@_{oe_2.name}_E{E}eV_{nrays:.0f}_rays.csv\"\n",
    "            beam = save_beam_to_csv(oe_2.get_impacts(), f_name)"
   ]
  },
  {
   "cell_type": "markdown",
   "id": "4eb123f9-4228-48e5-a92a-c9f68bb376a6",
   "metadata": {},
   "source": [
    "<a id=\"monores\"></a>\n",
    "## Monochromator resolution \n",
    "[Back to the top](#toc)"
   ]
  },
  {
   "cell_type": "markdown",
   "id": "de4bd377",
   "metadata": {},
   "source": [
    "### Calculation of the beamline energy resolution"
   ]
  },
  {
   "cell_type": "code",
   "execution_count": null,
   "id": "74aa7419",
   "metadata": {},
   "outputs": [],
   "source": [
    "def align_call(alignment_wvl, emission_wvl, alignment_condition, alignment_condition_value, \n",
    "               m1_distances, GM2_trans_dist, GM3_proj_dist, **kwargs):\n",
    "\n",
    "    align_undulator(Deimos.active_chain, emission_wvl, **kwargs)\n",
    "    align_m1(Deimos.active_chain, m1_distances, **kwargs)\n",
    "    align_mono(Deimos.active_chain, alignment_wvl, alignment_condition, \n",
    "               alignment_condition_value, GM2_trans_dist, GM3_proj_dist, **kwargs)\n",
    "    align_m3(Deimos.active_chain, **kwargs)\n",
    "\n",
    "Deimos.align_steps = align_call"
   ]
  },
  {
   "cell_type": "code",
   "execution_count": null,
   "id": "b33cdf71",
   "metadata": {},
   "outputs": [],
   "source": [
    "def beamline_energy_resolution(energy, active_chains, alignment_condition, alignment_condition_values, nrays=500):\n",
    "\n",
    "    total_steps = len(energy)\n",
    "    bar_length = 10\n",
    "    resolution = {'energy':energy}\n",
    "\n",
    "    for algn in alignment_condition_values:\n",
    "        print(f'{alignment_condition} {algn:.2f}')\n",
    "        for k, config in enumerate(active_chains):\n",
    "            Deimos.active_chain = config\n",
    "            curves = []\n",
    "            for i, E in enumerate(energy):\n",
    "                if i % (total_steps // 10) == 0:\n",
    "                    progress = int(np.ceil(100*i / total_steps))\n",
    "                    num_hashes = int(progress / bar_length)\n",
    "                    bar = '#' * num_hashes + '-' * (bar_length - num_hashes)\n",
    "                    print(f\"\\rProgress: [{bar}] {progress:.0f}%\", end='')\n",
    "\n",
    "                lambda_align = hc/E\n",
    "                res=Deimos.get_resolution(mono_slit=mono_exit_slit, wavelength=lambda_align, orientation=\"vertical\", dlambda_over_lambda=1/5000,\n",
    "                                            show_spd=False, verbose=0, nrays=nrays, criterion=\"fwhm\", alignment_condition=alignment_condition, \n",
    "                                            alignment_condition_value=algn, m1_distances=m1_distances, GM2_trans_dist=20e-3, GM3_proj_dist=700e-3, m3_orientation='vertical')\n",
    "\n",
    "                curves.append(res)\n",
    "            print(\"\\rProgress: [##########] 100%\")\n",
    "            resolution[f'{config}_{alignment_condition}_{algn:.2f}'] = curves\n",
    "\n",
    "    return resolution"
   ]
  },
  {
   "cell_type": "code",
   "execution_count": null,
   "id": "5a44de33-0cac-4814-85ed-47b0f4b31198",
   "metadata": {},
   "outputs": [],
   "source": [
    "e0, ei, ef, dE = 0, 250, 5000, 5\n",
    "ne = int((ef-ei)/dE)+1\n",
    "energy = np.linspace(ei, ef, ne)\n",
    "nrays = 5000"
   ]
  },
  {
   "cell_type": "code",
   "execution_count": null,
   "id": "1d71f781",
   "metadata": {},
   "outputs": [],
   "source": [
    "active_chains = ['SII_M1B_G1600_mono', 'SII_M1C_G1600_mono']\n",
    "gtn = re.search(r'(?P<grating>G\\d+)',active_chains[0])\n",
    "resolution = beamline_energy_resolution(energy, active_chains, 'cff', [0.1, 0.2, 0.3, 0.5, 0.8], nrays=nrays)\n",
    "save_resolution_curve(resolution, f\"./results/pyoptix/deimos_II_resolution_curves_{gtn.group('grating')}_{nrays:.0f}_rays.csv\")"
   ]
  },
  {
   "cell_type": "code",
   "execution_count": null,
   "id": "de2e1dd6",
   "metadata": {},
   "outputs": [],
   "source": [
    "active_chains = ['SII_M1C_G2400_mono']\n",
    "gtn = re.search(r'(?P<grating>G\\d+)',active_chains[0])\n",
    "resolution = beamline_energy_resolution(energy, active_chains, 'omega', [0.692*degree], nrays=nrays)\n",
    "save_resolution_curve(resolution, f\"./results/pyoptix/deimos_II_resolution_curves_{gtn.group('grating')}_{nrays:.0f}_rays.csv\")"
   ]
  }
 ],
 "metadata": {
  "kernelspec": {
   "display_name": "PyOptiX",
   "language": "python",
   "name": "python3"
  },
  "language_info": {
   "codemirror_mode": {
    "name": "ipython",
    "version": 3
   },
   "file_extension": ".py",
   "mimetype": "text/x-python",
   "name": "python",
   "nbconvert_exporter": "python",
   "pygments_lexer": "ipython3",
   "version": "3.11.9"
  },
  "toc-autonumbering": true,
  "toc-showcode": false,
  "toc-showmarkdowntxt": false,
  "toc-showtags": false
 },
 "nbformat": 4,
 "nbformat_minor": 5
}
