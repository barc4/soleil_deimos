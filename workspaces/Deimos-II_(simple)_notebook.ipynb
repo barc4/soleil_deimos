{
 "cells": [
  {
   "cell_type": "markdown",
   "id": "9fae2161",
   "metadata": {},
   "source": [
    "<a id=\"toc\"></a>\n",
    "# DEIMOS beamline simulation with PyOptiX\n",
    "***\n",
    "\n",
    "Contents :\n",
    "1. [Optical elements declaration](#def_opt)\n",
    "1. [Definition of optical parameters](#def_param)\n",
    "1. [Alignment scripts](#alignement)\n",
    "1. [Simulation execution](#exec)\n",
    "1. [Visualisation](#visu)\n",
    "1. [Monochromator resolution](#monores)"
   ]
  },
  {
   "cell_type": "code",
   "execution_count": null,
   "id": "0be8df2d",
   "metadata": {},
   "outputs": [],
   "source": [
    "__author__ = ['Rafael Celestre']\n",
    "__contact__ = 'rafael.celestre@synchrotron-soleil.fr'\n",
    "__license__ = 'GPL-3.0'\n",
    "__copyright__ = 'Synchrotron SOLEIL, Saint Aubin, France'\n",
    "__created__ = '21/OCT/2024'\n",
    "__changed__ = '21/OCT/2024'\n",
    "\n",
    "\n",
    "import ctypes\n",
    "\n",
    "import numpy as np\n",
    "import pandas as pd\n",
    "import pyoptix\n",
    "import pyoptix.classes as opx\n",
    "from barc4xoc.aux_pyoptix import read_pyoptix_beam_from_csv, save_beam_data_to_csv\n",
    "from barc4xoc.misc import coddington_equations\n",
    "from scipy.constants import c, degree, eV, h, micro, milli, nano, pi, pico\n",
    "\n",
    "hc = h*c/eV\n",
    "\n",
    "pyoptix.set_aperture_active(False)\n",
    "pyoptix.output_notebook()\n"
   ]
  },
  {
   "cell_type": "markdown",
   "id": "18308042",
   "metadata": {
    "tags": [],
    "toc-hr-collapsed": true
   },
   "source": [
    "<a id=\"def_opt\"></a>\n",
    "## Optical elements declaration\n",
    "[Back to the top](#toc)"
   ]
  },
  {
   "cell_type": "code",
   "execution_count": 2,
   "id": "263e78af",
   "metadata": {},
   "outputs": [],
   "source": [
    "Deimos = opx.Beamline(name=\"Deimos - current\")\n",
    "\n",
    "# ------------------\n",
    "# source\n",
    "# ------------------\n",
    "undulator_U52 = opx.UndulatorSource(name=\"U52\")         # HU52 - 350eV - 2500eV\n",
    "undulator_U65 = opx.UndulatorSource(name=\"U65\")         # EMPHU65 - same energy range, but 1.8m downstream\n",
    "undulator_SII = opx.UndulatorSource(name=\"SII\")         # HU52 - 350eV - 2500eV with SOLEIL-II magnetic lattice\n",
    "\n",
    "# ------------------\n",
    "# optical elements\n",
    "# ------------------\n",
    "pupil = opx.PlaneFilm(name=\"pupil\")\n",
    "\n",
    "# M1\n",
    "m1a = opx.PlaneMirror(name=\"M1A\")\n",
    "m1b = opx.ToroidalMirror(name=\"M1B\")\n",
    "m1c = opx.ToroidalMirror(name=\"M1C\")\n",
    "\n",
    "# monochromator\n",
    "grating_1600 = opx.PlaneHoloGrating(name=\"grating_1600\")   # VGD\n",
    "grating_2400 = opx.PlaneGrating(name=\"grating_2400\")       # MCA\n",
    "\n",
    "m2 = opx.PlaneMirror(name=\"M2\")\n",
    "m3 = opx.CylindricalMirror(name=\"M3\")\n",
    "foc_hor = opx.PlaneFilm(name=\"foc_hor\")\n",
    "mono_exit_slit = opx.PlaneFilm(name=\"mono_exit_slit\")\n",
    "\n",
    "# M4\n",
    "# m4a = opx.ToroidalMirror(name=\"M4A\")\n",
    "# m4b = opx.ToroidalMirror(name=\"M4B\")\n",
    "m4a = opx.ConicCylindricalMirror(name=\"M4A\")\n",
    "m4b = opx.ConicCylindricalMirror(name=\"M4B\")\n",
    "\n",
    "# M5\n",
    "# m5a = opx.ToroidalMirror(name=\"M5A\")\n",
    "# m5b = opx.ToroidalMirror(name=\"M5B\")\n",
    "m5a = opx.ConicCylindricalMirror(name=\"M5A\")\n",
    "m5b = opx.ConicCylindricalMirror(name=\"M5B\")\n",
    "\n",
    "# ------------------\n",
    "# endstations\n",
    "# ------------------\n",
    "cromag = opx.PlaneFilm(name=\"cromag\")\n",
    "mk2t = opx.PlaneFilm(name=\"mk2t\")"
   ]
  },
  {
   "cell_type": "code",
   "execution_count": 3,
   "id": "449fad40",
   "metadata": {},
   "outputs": [],
   "source": [
    "undulators = [undulator_U52, undulator_U65, undulator_SII]\n",
    "m1 = [m1b, m1c]\n",
    "gratings = [grating_1600, grating_2400]\n",
    "wolters = [[m4a, m5a], [m4b, m5b], []]\n",
    "endstations = [cromag, mk2t]\n",
    "\n",
    "for undulator in undulators:\n",
    "    for m1bis in m1:\n",
    "        for grating in gratings:\n",
    "            beamline = [undulator, pupil, m1a, m1bis, grating, m2, m3, foc_hor, mono_exit_slit]           \n",
    "            for focusing in wolters:\n",
    "                if len(focusing) > 1:\n",
    "                    chain_name = f\"{undulator.name}_{m1bis.name}_G{grating.name.split('_')[1]}_WLT_{focusing[-2].name[-1]}\"\n",
    "                    Deimos.chains[chain_name] = beamline + focusing + endstations\n",
    "                else:\n",
    "                    chain_name = f\"{undulator.name}_{m1bis.name}_G{grating.name.split('_')[1]}_mono_exit_slit\"\n",
    "                    Deimos.chains[chain_name] = beamline\n"
   ]
  },
  {
   "cell_type": "code",
   "execution_count": null,
   "id": "2c3f13e6",
   "metadata": {},
   "outputs": [],
   "source": [
    "print(\"Low energy configurations:\\n\")\n",
    "for chain_name in Deimos.chains:    \n",
    "    if \"M1B\" in chain_name:\n",
    "        print(chain_name,\":\\n\\t\",Deimos.chains[chain_name])"
   ]
  },
  {
   "cell_type": "code",
   "execution_count": null,
   "id": "cfe58c23",
   "metadata": {},
   "outputs": [],
   "source": [
    "print(\"High energy configurations:\\n\")\n",
    "for chain_name in Deimos.chains:    \n",
    "    if \"M1C\" in chain_name:\n",
    "        print(chain_name,\":\\n\\t\",Deimos.chains[chain_name])"
   ]
  },
  {
   "cell_type": "markdown",
   "id": "eecc68f4",
   "metadata": {
    "tags": []
   },
   "source": [
    "<a id=\"def_param\"></a>\n",
    "## Definition of optical parameters\n",
    "\n",
    "In this section we define the static parameters of the optical elements. Characteristics that change with \n",
    "either configuration or energy are defined in the [Alignment scripts](#alignement) section.\n",
    "\n",
    "[Back to the top](#toc)"
   ]
  },
  {
   "cell_type": "code",
   "execution_count": null,
   "id": "8e24a49e",
   "metadata": {},
   "outputs": [],
   "source": [
    "electron_parameters = pd.read_csv(r\"./resources/2023-04-26-Dimensions-SOLEIL-actuel-pour-Stephane-BAC.csv\", delimiter=\";\")\n",
    "electron_parameters.loc[electron_parameters['BeamLineName'].str.contains('DEIMOS')]"
   ]
  },
  {
   "cell_type": "markdown",
   "id": "204246dd",
   "metadata": {},
   "source": [
    "### HU52 undulator"
   ]
  },
  {
   "cell_type": "code",
   "execution_count": null,
   "id": "25e25546",
   "metadata": {},
   "outputs": [],
   "source": [
    "src_name = \"DEIMOS_1\" # centre of straight section\n",
    "\n",
    "e_beam = opx.ElectronBeam()\n",
    "e_beam.from_twiss(energy=2.75, energy_spread=0.1025/100, current=0.500,\n",
    "                  emittance=3.94*nano, coupling=1/100,\n",
    "                  beta_x=float(electron_parameters[electron_parameters.BeamLineName == src_name][\"betaX(m)\"].iloc[0]), \n",
    "                  eta_x=float(electron_parameters[electron_parameters.BeamLineName == src_name][\"etax(m)\"].iloc[0]), \n",
    "                  etap_x=float(electron_parameters[electron_parameters.BeamLineName == src_name][\"etaxp(-)\"].iloc[0]), \n",
    "                  alpha_x=float(electron_parameters[electron_parameters.BeamLineName == src_name][\"alphax(-)\"].iloc[0]),\n",
    "                  beta_y=float(electron_parameters[electron_parameters.BeamLineName == src_name][\"betaZ(m)\"].iloc[0]), \n",
    "                  eta_y=float(electron_parameters[electron_parameters.BeamLineName == src_name][\"etaz(m)\"].iloc[0]), \n",
    "                  etap_y=float(electron_parameters[electron_parameters.BeamLineName == src_name][\"etazp(-)\"].iloc[0]), \n",
    "                  alpha_y=float(electron_parameters[electron_parameters.BeamLineName == src_name][\"alphaz(-)\"].iloc[0]))\n",
    "e_beam.print_rms()\n",
    "\n",
    "hu52 = opx.MagneticStructure(period_length=52.4e-3, number_of_periods=30)\n",
    "\n",
    "undulator_U52.electron_beam = e_beam\n",
    "undulator_U52.magnetic_structure = hu52\n",
    "\n",
    "undulator_U52.write_syned_config(r\".\\resources\\oasys_soleil_hu52\",\"Soleil - HU52\")"
   ]
  },
  {
   "cell_type": "markdown",
   "id": "bcfbad1c",
   "metadata": {},
   "source": [
    "### HU65 undulator"
   ]
  },
  {
   "cell_type": "code",
   "execution_count": null,
   "id": "c8ad6cdd",
   "metadata": {},
   "outputs": [],
   "source": [
    "src_name = \"DEIMOS_2\" # centre of straight section\n",
    "\n",
    "e_beam = opx.ElectronBeam()\n",
    "e_beam.from_twiss(energy=2.75, energy_spread=0.1025/100, current=0.500,\n",
    "                  emittance=3.94*nano, coupling=1/100,\n",
    "                  beta_x=float(electron_parameters[electron_parameters.BeamLineName == src_name][\"betaX(m)\"].iloc[0]), \n",
    "                  eta_x=float(electron_parameters[electron_parameters.BeamLineName == src_name][\"etax(m)\"].iloc[0]), \n",
    "                  etap_x=float(electron_parameters[electron_parameters.BeamLineName == src_name][\"etaxp(-)\"].iloc[0]), \n",
    "                  alpha_x=float(electron_parameters[electron_parameters.BeamLineName == src_name][\"alphax(-)\"].iloc[0]),\n",
    "                  beta_y=float(electron_parameters[electron_parameters.BeamLineName == src_name][\"betaZ(m)\"].iloc[0]), \n",
    "                  eta_y=float(electron_parameters[electron_parameters.BeamLineName == src_name][\"etaz(m)\"].iloc[0]), \n",
    "                  etap_y=float(electron_parameters[electron_parameters.BeamLineName == src_name][\"etazp(-)\"].iloc[0]), \n",
    "                  alpha_y=float(electron_parameters[electron_parameters.BeamLineName == src_name][\"alphaz(-)\"].iloc[0]))\n",
    "e_beam.print_rms()\n",
    "\n",
    "emphu65 = opx.MagneticStructure(period_length=65e-3, number_of_periods=24)\n",
    "\n",
    "undulator_U65.electron_beam = e_beam\n",
    "undulator_U65.magnetic_structure = emphu65\n",
    "\n",
    "undulator_U65.write_syned_config(r\".\\resources\\oasys_soleil_emphu65\",\"Soleil - EMPHU65\")"
   ]
  },
  {
   "cell_type": "markdown",
   "id": "b61e2f51",
   "metadata": {},
   "source": [
    "### SOLEIL-II lattice (HU52 undulator)"
   ]
  },
  {
   "cell_type": "code",
   "execution_count": null,
   "id": "f9be9940",
   "metadata": {},
   "outputs": [],
   "source": [
    "e_beam = opx.ElectronBeam()\n",
    "e_beam.from_twiss(energy=2.75, energy_spread=0.0906/100, current=0.500,\n",
    "                  emittance_x=84.55*pico, emittance_y=25.36*pico,\n",
    "                  beta_x=1.59, eta_x=0, etap_x=0, alpha_x=0,\n",
    "                  beta_y=1.51, eta_y=0, etap_y=0, alpha_y=0)\n",
    "e_beam.print_rms()\n",
    "\n",
    "hu52 = opx.MagneticStructure(period_length=52.4e-3, number_of_periods=30)\n",
    "\n",
    "undulator_SII.electron_beam = e_beam\n",
    "undulator_SII.magnetic_structure = hu52\n",
    "\n",
    "undulator_SII.write_syned_config(r\".\\resources\\oasys_soleil-II_hu52\",\"Soleil-II - HU52\")"
   ]
  },
  {
   "cell_type": "markdown",
   "id": "4e6b1af3",
   "metadata": {},
   "source": [
    "### Entrance pupil\n",
    "[Back to the top](#toc)"
   ]
  },
  {
   "cell_type": "code",
   "execution_count": 10,
   "id": "078edd79",
   "metadata": {},
   "outputs": [],
   "source": [
    "pupil.distance_from_previous = 21\n",
    "pupil.recording_mode = opx.RecordingMode.recording_output\n",
    "pupil.next = m1a"
   ]
  },
  {
   "cell_type": "markdown",
   "id": "69d41704",
   "metadata": {},
   "source": [
    "### M1\n",
    "\n",
    "[Back to the top](#toc)"
   ]
  },
  {
   "cell_type": "code",
   "execution_count": null,
   "id": "4f7436e6",
   "metadata": {},
   "outputs": [],
   "source": [
    "m1_grazing_angles = [1.5*degree, 0.43*degree]\n",
    "\n",
    "m1_distances = opx.M1_triad_distances(incident_angle=m1_grazing_angles,\n",
    "                                      transverse_distance=41e-3, \n",
    "                                      verbose=1)"
   ]
  },
  {
   "cell_type": "markdown",
   "id": "5323bb5f",
   "metadata": {},
   "source": [
    "#### - M1A"
   ]
  },
  {
   "cell_type": "code",
   "execution_count": 12,
   "id": "16e9dc6c",
   "metadata": {},
   "outputs": [],
   "source": [
    "m1a.distance_from_previous = 0\n",
    "m1a.phi = -90*degree # rad\n",
    "m1a.recording_mode = opx.RecordingMode.recording_output"
   ]
  },
  {
   "cell_type": "markdown",
   "id": "b15721c6",
   "metadata": {},
   "source": [
    "#### - M1B"
   ]
  },
  {
   "cell_type": "code",
   "execution_count": null,
   "id": "c8805cbb",
   "metadata": {},
   "outputs": [],
   "source": [
    "p = pupil.distance_from_previous + m1_distances[0][0]\n",
    "qminor = 1E23\n",
    "qmajor = (m1_distances[1][1]-m1_distances[0][1]) + 5 + 0.7 + 4 # we focus on the mochromator slit\n",
    "\n",
    "rminor = coddington_equations(m1_grazing_angles[0]/degree, p=p, q=qminor)[\"R\"][1]\n",
    "rmajor = coddington_equations(m1_grazing_angles[0]/degree, p=p, q=qmajor)[\"R\"][0]\n",
    "\n",
    "print(\"Toroidal mirror with side-bounce reflection:\")\n",
    "print(f\"- source at {p:.3f} m\")\n",
    "print(f\"- (sagittal) image at {qminor:.2e} m\")\n",
    "print(f\"- (meridional/tangential) image at {qmajor:.3f} m\")\n",
    "\n",
    "print(\"\\nApplying the Coddington equations:\")\n",
    "print(f\"- minor (sagittal) radius {rminor:.3f} m\")\n",
    "print(f\"- major (meridional/tangential) radius {rmajor:.3f} m\")\n",
    "\n",
    "m1b.distance_from_previous = m1_distances[0][0]\n",
    "m1b.theta = 2.53*degree # rad\n",
    "m1b.phi = 180*degree # rad\n",
    "m1b.minor_curvature = 1/rminor # m-1   # m1b.minor_curvature = 1/1.894 # m-1\n",
    "m1b.major_curvature = 1/rmajor # m-1   # m1b.major_curvature = 1/228.0 # m-1\n",
    "m1b.recording_mode = opx.RecordingMode.recording_output\n",
    "m1b.next = grating_1600"
   ]
  },
  {
   "cell_type": "markdown",
   "id": "cf45f590",
   "metadata": {},
   "source": [
    "#### - M1C"
   ]
  },
  {
   "cell_type": "code",
   "execution_count": null,
   "id": "2a02b533",
   "metadata": {},
   "outputs": [],
   "source": [
    "p = pupil.distance_from_previous + m1_distances[1][0]\n",
    "qminor = 1E23\n",
    "qmajor = 5 + 0.7 + 4 # we focus on the mochromator slit\n",
    "\n",
    "rminor = coddington_equations(m1_grazing_angles[1]/degree, p=p, q=qminor)[\"R\"][1]\n",
    "rmajor = coddington_equations(m1_grazing_angles[1]/degree, p=p, q=qmajor)[\"R\"][0]\n",
    "\n",
    "print(\"Toroidal mirror with side-bounce reflection:\")\n",
    "print(f\"- source at {p:.3e} m\")\n",
    "print(f\"- (sagittal) image at {qminor:.3e} m\")\n",
    "print(f\"- (meridional/tangential) image at {qmajor:.3e} m\")\n",
    "\n",
    "print(\"\\nApplying the Coddington equations:\")\n",
    "print(f\"- minor (sagittal) radius {rminor:.3e} m\")\n",
    "print(f\"- major (meridional/tangential) radius {rmajor:.3e} m\")\n",
    "\n",
    "m1c.distance_from_previous = m1_distances[1][0]\n",
    "m1c.theta = 1.2*degree # rad\n",
    "m1c.phi = 180*degree # rad\n",
    "m1c.minor_curvature = 1/rminor   # m-1   # m1c.minor_curvature = 1/0.91  # m-1\n",
    "m1c.major_curvature = 1/rmajor   # m-1   # m1c.major_curvature = 1/455   # m-1\n",
    "m1b.recording_mode = opx.RecordingMode.recording_output\n",
    "m1b.next = grating_2400"
   ]
  },
  {
   "cell_type": "markdown",
   "id": "8c61688f",
   "metadata": {},
   "source": [
    "### Monochromator\n",
    "\n",
    "[Back to the top](#toc)"
   ]
  },
  {
   "cell_type": "markdown",
   "id": "a5316697",
   "metadata": {},
   "source": [
    "#### Grating 1600 l/mm"
   ]
  },
  {
   "cell_type": "code",
   "execution_count": null,
   "id": "637f64da",
   "metadata": {},
   "outputs": [],
   "source": [
    "grating_1600.distance_from_previous = 5.0\n",
    "grating_1600.line_density = 1600/milli\n",
    "grating_1600.from_solemio(1e-10, 1e-10, 0.7660444, -0.56176)     # RC20240502 - where did you get this?\n",
    "grating_1600.order_align = 1 \n",
    "grating_1600.order_use = 1 \n",
    "grating_1600.phi = -90*degree\n",
    "grating_1600.recording_mode = opx.RecordingMode.recording_output\n",
    "grating_1600.next = m2\n",
    "\n",
    "grating_1600.show_vls_law(300e-3,3)"
   ]
  },
  {
   "cell_type": "markdown",
   "id": "5adb66d2",
   "metadata": {},
   "source": [
    "#### Grating 2400 l/mm"
   ]
  },
  {
   "cell_type": "code",
   "execution_count": 16,
   "id": "77097756",
   "metadata": {},
   "outputs": [],
   "source": [
    "grating_2400.distance_from_previous = 5.0\n",
    "grating_2400.line_density = 2400/milli\n",
    "grating_2400.phi = -90*degree\n",
    "grating_2400.order_align = 1\n",
    "grating_2400.order_use = 1\n",
    "grating_2400.recording_mode = opx.RecordingMode.recording_input\n",
    "grating_2400.next = m2"
   ]
  },
  {
   "cell_type": "markdown",
   "id": "49fc7a5d",
   "metadata": {},
   "source": [
    "#### M2"
   ]
  },
  {
   "cell_type": "code",
   "execution_count": 17,
   "id": "156443b1",
   "metadata": {},
   "outputs": [],
   "source": [
    "m2.phi = 180*degree\n",
    "m2.recording_mode = opx.RecordingMode.recording_output\n",
    "m2.next = m3"
   ]
  },
  {
   "cell_type": "markdown",
   "id": "c1d5c695",
   "metadata": {},
   "source": [
    "#### M3"
   ]
  },
  {
   "cell_type": "code",
   "execution_count": null,
   "id": "d70aff5e",
   "metadata": {},
   "outputs": [],
   "source": [
    "p = 1E23\n",
    "qminor = 4\n",
    "qmajor = 1E23\n",
    "\n",
    "rminor = coddington_equations(m1_grazing_angles[1]/degree, p=p, q=qminor)[\"R\"][1]\n",
    "rmajor = coddington_equations(m1_grazing_angles[1]/degree, p=p, q=qmajor)[\"R\"][0]\n",
    "\n",
    "print(\"Toroidal mirror with side-bounce reflection:\")\n",
    "print(f\"- source at {p:.3e} m\")\n",
    "print(f\"- (sagittal) image at {qminor:.3e} m\")\n",
    "print(f\"- (meridional/tangential) image at {qmajor:.3e} m\")\n",
    "\n",
    "print(\"\\nApplying the Coddington equations:\")\n",
    "print(f\"- minor (sagittal) radius {rminor:.3e} m\")\n",
    "print(f\"- major (meridional/tangential) radius {rmajor:.3e} m\")\n",
    "\n",
    "\n",
    "m3.theta = m1_grazing_angles[1] # rad\n",
    "m3.phi = 90*degree    # rad\n",
    "m3.curvature = 1/rminor  # m-1\n",
    "m3.axis_angle = 90*degree # sagittal cylinder \n",
    "m3.recording_mode = opx.RecordingMode.recording_output\n",
    "m3.next = foc_hor"
   ]
  },
  {
   "cell_type": "markdown",
   "id": "2eda1d8d",
   "metadata": {},
   "source": [
    "#### Horizontal focusing"
   ]
  },
  {
   "cell_type": "code",
   "execution_count": 29,
   "id": "8830237d",
   "metadata": {},
   "outputs": [],
   "source": [
    "foc_hor.distance_from_previous = 0.2\n",
    "foc_hor.phi = 90*degree # rad\n",
    "foc_hor.recording_mode = opx.RecordingMode.recording_output\n",
    "foc_hor.next = mono_exit_slit"
   ]
  },
  {
   "cell_type": "markdown",
   "id": "c85e74e5",
   "metadata": {},
   "source": [
    "### Mono exit slits"
   ]
  },
  {
   "cell_type": "code",
   "execution_count": 30,
   "id": "47c792c2",
   "metadata": {},
   "outputs": [],
   "source": [
    "mono_exit_slit.distance_from_previous = 3.8\n",
    "mono_exit_slit.phi = 0*degree # rad\n",
    "# mono_exit_slit.add_rectangular_stop(20*micro, 20*micro, opacity=0)\n",
    "mono_exit_slit.recording_mode = opx.RecordingMode.recording_output"
   ]
  },
  {
   "cell_type": "markdown",
   "id": "8bee20ea",
   "metadata": {},
   "source": [
    "### Focusing optics\n",
    "\n",
    "[Back to the top](#toc)"
   ]
  },
  {
   "cell_type": "markdown",
   "id": "447ca8a1",
   "metadata": {},
   "source": [
    "#### M4A-E"
   ]
  },
  {
   "cell_type": "code",
   "execution_count": 21,
   "id": "66983107",
   "metadata": {},
   "outputs": [],
   "source": [
    "m4a.distance_from_previous = 5.5\n",
    "m4a.theta = 1.2*degree\n",
    "m4a.phi = 90*degree\n",
    "m4a.minor_curvature = 1/188.1 # m-1\n",
    "m4a.major_curvature = 1/296.2 # m-1\n",
    "m4a.recording_mode = opx.RecordingMode.recording_output\n",
    "m4a.next = m5a "
   ]
  },
  {
   "cell_type": "markdown",
   "id": "268a6086",
   "metadata": {},
   "source": [
    "#### M4B-E"
   ]
  },
  {
   "cell_type": "code",
   "execution_count": 22,
   "id": "2dbb74cb",
   "metadata": {},
   "outputs": [],
   "source": [
    "m4b.distance_from_previous = 5.5\n",
    "m4b.theta = 1.2*degree\n",
    "m4b.phi = 90*degree\n",
    "m4b.minor_curvature = 1/0.3761 # m-1\n",
    "m4b.major_curvature = 1/347.3 # m-1\n",
    "m5a.recording_mode = opx.RecordingMode.recording_input\n",
    "m4b.next = m5b "
   ]
  },
  {
   "cell_type": "markdown",
   "id": "c41960cb",
   "metadata": {},
   "source": [
    "#### M5A-E"
   ]
  },
  {
   "cell_type": "code",
   "execution_count": 23,
   "id": "9ac7bb14",
   "metadata": {},
   "outputs": [],
   "source": [
    "m5a.distance_from_previous = 0.4\n",
    "m5a.theta = 1.2*degree\n",
    "m5a.minor_curvature = 1/0.0833 # m-1\n",
    "m5a.major_curvature = 1/967. # m-1\n",
    "m5a.recording_mode = opx.RecordingMode.recording_input\n",
    "m5a.next = cromag "
   ]
  },
  {
   "cell_type": "markdown",
   "id": "7a3fc72f",
   "metadata": {},
   "source": [
    "### M5B-E"
   ]
  },
  {
   "cell_type": "code",
   "execution_count": 24,
   "id": "0b50c655",
   "metadata": {},
   "outputs": [],
   "source": [
    "m5b.distance_from_previous = 0.4\n",
    "m5b.theta = 1.2*degree\n",
    "m5b.minor_curvature = 1/0.15   # m-1\n",
    "m5b.major_curvature = 1/3000.0 # m-1\n",
    "m5b.recording_mode = opx.RecordingMode.recording_input\n",
    "m5b.next = cromag "
   ]
  },
  {
   "cell_type": "markdown",
   "id": "c13e0dbc",
   "metadata": {},
   "source": [
    "### Endstations\n",
    "\n",
    "[Back to the top](#toc)"
   ]
  },
  {
   "cell_type": "markdown",
   "id": "3031ef54-0592-41e4-ba5b-691ae565b00c",
   "metadata": {},
   "source": [
    "#### CroMag"
   ]
  },
  {
   "cell_type": "code",
   "execution_count": 25,
   "id": "4dda9929",
   "metadata": {},
   "outputs": [],
   "source": [
    "cromag.distance_from_previous = 3 # m\n",
    "cromag.phi = -90*degree\n",
    "cromag.recording_mode = opx.RecordingMode.recording_output\n",
    "cromag.next = mk2t"
   ]
  },
  {
   "cell_type": "markdown",
   "id": "28fd3a81",
   "metadata": {},
   "source": [
    "#### mK2T"
   ]
  },
  {
   "cell_type": "code",
   "execution_count": 26,
   "id": "eb9d45e9",
   "metadata": {},
   "outputs": [],
   "source": [
    "mk2t.distance_from_previous = 1.76\n",
    "mk2t.phi = -90*degree\n",
    "mk2t.recording_mode = opx.RecordingMode.recording_output"
   ]
  },
  {
   "cell_type": "markdown",
   "id": "7e4d9fe5",
   "metadata": {
    "tags": []
   },
   "source": [
    "<a id=\"alignement\"></a>\n",
    "## Alignment scripts\n",
    "\n",
    "In this section we define the all the parameters that change with either configuration or energy. These scripts are tailored\n",
    "for each \n",
    "\n",
    "[Back to the top](#toc)"
   ]
  },
  {
   "cell_type": "markdown",
   "id": "202a1b3d",
   "metadata": {},
   "source": [
    "### Undulators"
   ]
  },
  {
   "cell_type": "code",
   "execution_count": 27,
   "id": "21026703",
   "metadata": {},
   "outputs": [],
   "source": [
    "def align_undulator(active_chain, wavelength, **kwargs):\n",
    "    \"\"\"\n",
    "    Sets photon beam size and divergence as a function of wavelength in [m]\n",
    "    \"\"\"\n",
    "\n",
    "    verbose = kwargs.get(\"verbose\", False)\n",
    "    dist_slit = kwargs.get(\"dist_slit\", 21)\n",
    "    \n",
    "    if verbose:\n",
    "        print(\"\\n>>>> Aligning undulator\")\n",
    "\n",
    "    active_chain[0].set_undulator(wavelength, **kwargs)\n",
    "    active_chain[1].distance_from_previous = dist_slit\n",
    "    if \"65\" in active_chain[0].name:\n",
    "        active_chain[1].distance_from_previous -= (\n",
    "            float(electron_parameters[electron_parameters.BeamLineName == \"DEIMOS_2\"][\"Long_Pos(m)\"].iloc[0])-\n",
    "            float(electron_parameters[electron_parameters.BeamLineName == \"DEIMOS_1\"][\"Long_Pos(m)\"].iloc[0])\n",
    "        )\n"
   ]
  },
  {
   "cell_type": "markdown",
   "id": "c5ea8ee2",
   "metadata": {},
   "source": [
    "### M1 "
   ]
  },
  {
   "cell_type": "code",
   "execution_count": 28,
   "metadata": {},
   "outputs": [],
   "source": [
    "def align_m1(active_chain, m1_distances, **kwargs):\n",
    "    \"\"\"\n",
    "    Sets the M1A angle and distance from mono first optical element to M1bis\n",
    "    \"\"\"\n",
    "    \n",
    "    dist_next = kwargs.get(\"dist_next\", 5)\n",
    "    verbose = kwargs.get(\"verbose\", False)\n",
    "\n",
    "    if verbose:\n",
    "        print(\"\\n>>>> Aligning M1\")\n",
    "   \n",
    "    active_chain[2].theta = active_chain[3].theta\n",
    "    active_chain[2].next  = active_chain[3]\n",
    "    active_chain[3].next = active_chain[4]\n",
    "    active_chain[4].distance_from_previous = dist_next\n",
    "\n",
    "    if \"1B\" in active_chain[3].name:\n",
    "        active_chain[4].distance_from_previous += (m1_distances[1][1]-m1_distances[0][1])       \n",
    "\n",
    "    if verbose:\n",
    "        name = active_chain[3].name\n",
    "        angle = active_chain[3].theta/degree\n",
    "        dist = active_chain[3].distance_from_previous\n",
    "        print(f\"M1A-{name} alignment: grazing angle {angle:.2f} degrees and {dist:.3f} m between them\")"
   ]
  },
  {
   "cell_type": "markdown",
   "id": "3b97359f",
   "metadata": {},
   "source": [
    "### Monochromator "
   ]
  },
  {
   "cell_type": "code",
   "execution_count": 29,
   "id": "68bb5463",
   "metadata": {},
   "outputs": [],
   "source": [
    "def align_mono(active_chain, wavelength, alignment_condition, alignment_condition_value,\n",
    "               GM2_trans_dist, GM3_proj_dist, **kwargs):\n",
    "    \"\"\"\n",
    "    Sets the grating and M2 angles and relative distances between G/M2/M3\n",
    "    \"\"\"\n",
    "\n",
    "    verbose = kwargs.get(\"verbose\", False)\n",
    "\n",
    "    grating = None\n",
    "    for count, oe in enumerate(active_chain):\n",
    "        if \"reseau\" in oe.name.lower() or \"grating\" in oe.name.lower():\n",
    "            grating = oe\n",
    "            mono_oe_pos = count\n",
    "\n",
    "    if grating is None:\n",
    "        raise ValueError(\"No grating appears in this beamline configuration\")\n",
    "    \n",
    "    gdict = opx.align_grating(grating, verbose=0, \n",
    "                             apply_alignment=True, \n",
    "                             return_parameters=True,\n",
    "                             condition=alignment_condition, \n",
    "                             condition_value=alignment_condition_value, \n",
    "                             lambda_align=wavelength, \n",
    "                             order=grating.order_align,\n",
    "                             line_density=grating.line_density)\n",
    "    \n",
    "    gm2 = GM2_trans_dist/np.sin(gdict[\"deviation\"])\n",
    "    m2m3 = GM3_proj_dist-(GM2_trans_dist/np.tan(gdict[\"deviation\"]))\n",
    "\n",
    "    active_chain[int(mono_oe_pos+1)].theta = gdict[\"deviation\"]/2\n",
    "    active_chain[int(mono_oe_pos+1)].distance_from_previous = gm2 \n",
    "\n",
    "    active_chain[int(mono_oe_pos+2)].distance_from_previous = m2m3\n",
    "\n",
    "    if verbose:\n",
    "        print(f\"\\n>>>> {grating.name} grating alignment for a \"+\n",
    "              f\"{alignment_condition} {alignment_condition_value} - wavelength \" +\n",
    "              f\"{wavelength/nano:.3f} nm (E={hc/wavelength:.3f} eV)\")\n",
    "        print(f\"> alpha {gdict['alpha_deg']:.6f} deg\")\n",
    "        print(f\"> beta {gdict['beta_deg']:.6f} deg\")\n",
    "        print(f\"> G-M2 distance {gm2:.6f} m\")\n",
    "        print(f\"> theta_m2 {(gdict['alpha_deg']+gdict['beta_deg'])/2:.6f} deg\")\n",
    "        print(f\"> M2-M3 distance {m2m3:.6f} m\")\n"
   ]
  },
  {
   "cell_type": "markdown",
   "id": "377ad681",
   "metadata": {},
   "source": [
    "### Beamline alignment procedure"
   ]
  },
  {
   "cell_type": "code",
   "execution_count": 30,
   "id": "836fe2a8",
   "metadata": {},
   "outputs": [],
   "source": [
    "def align_call(alignment_wvl, emission_wvl, alignment_condition, alignment_condition_value, \n",
    "               m1_distances, GM2_trans_dist, GM3_proj_dist, **kwargs):\n",
    "\n",
    "    align_undulator(Deimos.active_chain, emission_wvl, **kwargs)\n",
    "    align_m1(Deimos.active_chain, m1_distances, **kwargs)\n",
    "    align_mono(Deimos.active_chain, alignment_wvl, alignment_condition, \n",
    "               alignment_condition_value, GM2_trans_dist, GM3_proj_dist, **kwargs)\n",
    "    \n",
    "Deimos.align_steps = align_call\n",
    "\n",
    "def set_bl(energy_alignment, alignment_condition, alignment_condition_value, \n",
    "               m1_distances=m1_distances, GM2_trans_dist=20e-3, GM3_proj_dist=700e-3, **kwargs):\n",
    "\n",
    "    energy_radiate =  kwargs.get(\"energy_radiate\", energy_alignment)\n",
    "    dE =  kwargs.get(\"dE\", 0)\n",
    "    rays = kwargs.get(\"rays\", 500)\n",
    "\n",
    "    alignment_wvl = hc/energy_alignment\n",
    "    emission_wvl = hc/energy_radiate\n",
    "\n",
    "    Deimos.align(alignment_wvl, emission_wvl, \n",
    "                 alignment_condition=alignment_condition, \n",
    "                 alignment_condition_value=alignment_condition_value, \n",
    "                 m1_distances=m1_distances, GM2_trans_dist=GM2_trans_dist,\n",
    "                 GM3_proj_dist=GM3_proj_dist, **kwargs)\n",
    "\n",
    "    Deimos.clear_impacts(clear_source=True)\n",
    "    Deimos.active_chain[0].nrays = rays\n",
    "    if dE==0:\n",
    "        Deimos.generate(emission_wvl)\n",
    "    else:\n",
    "        for E in np.arange(energy_radiate*(1-dE), energy_radiate*(1+dE)):\n",
    "            Deimos.generate(hc/E)\n",
    "    Deimos.radiate()"
   ]
  },
  {
   "cell_type": "markdown",
   "id": "82ef55b8-66a1-450b-a880-32228df96d33",
   "metadata": {},
   "source": [
    "<a id=\"exec\"></a>\n",
    "## Simulation execution\n",
    "[Back to the top](#toc)"
   ]
  },
  {
   "cell_type": "markdown",
   "id": "f344b4b1",
   "metadata": {},
   "source": [
    "### Available beamline configurations"
   ]
  },
  {
   "cell_type": "code",
   "execution_count": null,
   "id": "95462cf6",
   "metadata": {},
   "outputs": [],
   "source": [
    "print(\"Low energy configurations:\")\n",
    "for chain_name in Deimos.chains:    \n",
    "    if \"1600\" in chain_name:\n",
    "        print(chain_name,\":\\n\\t\",Deimos.chains[chain_name])"
   ]
  },
  {
   "cell_type": "code",
   "execution_count": null,
   "id": "4598bb24",
   "metadata": {},
   "outputs": [],
   "source": [
    "print(\"High energy configurations:\")\n",
    "for chain_name in Deimos.chains:    \n",
    "    if \"2400\" in chain_name:\n",
    "        print(chain_name,\":\\n\\t\",Deimos.chains[chain_name])"
   ]
  },
  {
   "cell_type": "markdown",
   "id": "1741e75a",
   "metadata": {},
   "source": [
    "The beamline can be conviniently simulated by selecting an **active chain** and an energy:\n",
    "\n",
    "```python\n",
    "Deimos.active_chain = \"U52_G1600_mono_exit_slit\"\n",
    "set_bl(350, alignment_condition=\"cff\", alignment_condition_value=0.2, verbose=True)\n",
    "```\n",
    "\n",
    "To check the orientation of the optical elements, draw the beamline:\n",
    "\n",
    "```python\n",
    "Deimos.show_active_chain_orientation()\n",
    "Deimos.draw_active_chain()\n",
    "spots = Deimos.draw_to_scale()\n",
    "```"
   ]
  },
  {
   "cell_type": "markdown",
   "id": "6574b528-3e00-4344-ab65-d6bd001e448e",
   "metadata": {},
   "source": [
    "<a id=\"visu\"></a>\n",
    "# Visualisations \n",
    "[Back to the top](#toc)"
   ]
  },
  {
   "cell_type": "code",
   "execution_count": 33,
   "id": "96c4fa75",
   "metadata": {},
   "outputs": [],
   "source": [
    "rays = 5000\n",
    "E = 350"
   ]
  },
  {
   "cell_type": "markdown",
   "id": "fef1e065",
   "metadata": {},
   "source": [
    "### HU52 with 1600 l/mm grating - E=350 eV\n",
    "\n",
    "[Back to the top](#toc)"
   ]
  },
  {
   "cell_type": "code",
   "execution_count": null,
   "id": "9f7f6881",
   "metadata": {},
   "outputs": [],
   "source": [
    "Deimos.active_chain = \"U52_G1600_mono_exit_slit\"\n",
    "set_bl(E, alignment_condition=\"cff\", alignment_condition_value=0.2, verbose=True, rays=rays, center_undulator=0)"
   ]
  },
  {
   "cell_type": "markdown",
   "id": "a1a8695e",
   "metadata": {},
   "source": [
    "#### Horizontal focusing slits"
   ]
  },
  {
   "cell_type": "code",
   "execution_count": null,
   "id": "2f5aa8f5",
   "metadata": {},
   "outputs": [],
   "source": [
    "oe = foc_hor\n",
    "f = opx.get_optimal_focalization_distance(oe, verbose=True)"
   ]
  },
  {
   "cell_type": "code",
   "execution_count": null,
   "id": "0a5ad5b7",
   "metadata": {},
   "outputs": [],
   "source": [
    "opx.plot_spd_plotly(oe.get_diagram(distance_from_oe=0), oe_name=oe.name, x_key=\"X\", y_key=\"dX\", \n",
    "                show_map=False, light_plot=False, orthonorm=False, save_in_file=\"\", return_fwhm=False, ) "
   ]
  },
  {
   "cell_type": "code",
   "execution_count": null,
   "id": "58df8f96",
   "metadata": {},
   "outputs": [],
   "source": [
    "opx.plot_spd_plotly(oe.get_diagram(distance_from_oe=0), oe_name=oe.name, x_key=\"Y\", y_key=\"dY\", \n",
    "                show_map=False, light_plot=False, orthonorm=False, save_in_file=\"\", return_fwhm=False,) "
   ]
  },
  {
   "cell_type": "markdown",
   "id": "f04cd469",
   "metadata": {},
   "source": [
    "#### Mono exit slit"
   ]
  },
  {
   "cell_type": "code",
   "execution_count": null,
   "id": "176b7b4a",
   "metadata": {},
   "outputs": [],
   "source": [
    "oe = mono_exit_slit\n",
    "f = opx.get_optimal_focalization_distance(oe, verbose=True)"
   ]
  },
  {
   "cell_type": "code",
   "execution_count": null,
   "id": "93ea7c82",
   "metadata": {},
   "outputs": [],
   "source": [
    "opx.plot_spd_plotly(oe.get_diagram(distance_from_oe=0), oe_name=oe.name, x_key=\"X\", y_key=\"dX\", \n",
    "                show_map=False, light_plot=False, orthonorm=False, save_in_file=\"\", return_fwhm=False, ) "
   ]
  },
  {
   "cell_type": "code",
   "execution_count": null,
   "id": "f172cb0e",
   "metadata": {},
   "outputs": [],
   "source": [
    "opx.plot_spd_plotly(oe.get_diagram(distance_from_oe=0), oe_name=oe.name, x_key=\"Y\", y_key=\"dY\", \n",
    "                show_map=False, light_plot=False, orthonorm=False, save_in_file=\"\", return_fwhm=False, ) "
   ]
  },
  {
   "cell_type": "markdown",
   "id": "de7c619c",
   "metadata": {},
   "source": [
    "### Endstations with M4A-M5A (Wolter A) pair"
   ]
  },
  {
   "cell_type": "code",
   "execution_count": null,
   "id": "60acb4c6",
   "metadata": {},
   "outputs": [],
   "source": [
    "Deimos.active_chain = \"U52_G1600_WLT_A\"\n",
    "set_bl(E, alignment_condition=\"cff\", alignment_condition_value=0.2, verbose=True, rays=rays, center_undulator=0)"
   ]
  },
  {
   "cell_type": "markdown",
   "id": "5f52a42a",
   "metadata": {},
   "source": [
    "#### cromag"
   ]
  },
  {
   "cell_type": "code",
   "execution_count": null,
   "id": "aafc1df5",
   "metadata": {},
   "outputs": [],
   "source": [
    "oe = cromag\n",
    "f = opx.get_optimal_focalization_distance(oe, verbose=True)"
   ]
  },
  {
   "cell_type": "code",
   "execution_count": null,
   "id": "98dd99ad",
   "metadata": {},
   "outputs": [],
   "source": [
    "opx.plot_spd_plotly(oe.get_diagram(distance_from_oe=0), oe_name=oe.name, x_key=\"X\", y_key=\"dX\", \n",
    "                show_map=False, light_plot=False, orthonorm=False, save_in_file=\"\", return_fwhm=False, ) "
   ]
  },
  {
   "cell_type": "code",
   "execution_count": null,
   "id": "da25dbdb",
   "metadata": {},
   "outputs": [],
   "source": [
    "opx.plot_spd_plotly(oe.get_diagram(distance_from_oe=0), oe_name=oe.name, x_key=\"Y\", y_key=\"dY\", \n",
    "                show_map=False, light_plot=False, orthonorm=False, save_in_file=\"\", return_fwhm=False, ) "
   ]
  },
  {
   "cell_type": "markdown",
   "id": "39d8acc9",
   "metadata": {},
   "source": [
    "#### mK2T"
   ]
  },
  {
   "cell_type": "code",
   "execution_count": null,
   "id": "2ef937f8",
   "metadata": {},
   "outputs": [],
   "source": [
    "oe = mk2t\n",
    "f = opx.get_optimal_focalization_distance(oe, verbose=True)"
   ]
  },
  {
   "cell_type": "code",
   "execution_count": null,
   "id": "b820e920",
   "metadata": {},
   "outputs": [],
   "source": [
    "opx.plot_spd_plotly(oe.get_diagram(distance_from_oe=0), oe_name=oe.name, x_key=\"X\", y_key=\"dX\", \n",
    "                show_map=False, light_plot=False, orthonorm=False, save_in_file=\"\", return_fwhm=False, ) "
   ]
  },
  {
   "cell_type": "code",
   "execution_count": null,
   "id": "f8f3bff8",
   "metadata": {},
   "outputs": [],
   "source": [
    "\n",
    "opx.plot_spd_plotly(oe.get_diagram(distance_from_oe=0), oe_name=oe.name, x_key=\"Y\", y_key=\"dY\", \n",
    "                show_map=False, light_plot=False, orthonorm=False, save_in_file=\"\", return_fwhm=False, ) "
   ]
  },
  {
   "cell_type": "markdown",
   "id": "1bb8ff61",
   "metadata": {},
   "source": [
    "#### Endstations with M4B-M5B pair"
   ]
  },
  {
   "cell_type": "code",
   "execution_count": null,
   "id": "85a2cefa",
   "metadata": {},
   "outputs": [],
   "source": [
    "Deimos.active_chain = \"U52_G1600_WLT_B\"\n",
    "set_bl(E, alignment_condition=\"cff\", alignment_condition_value=0.2, verbose=True, rays=rays, center_undulator=0)"
   ]
  },
  {
   "cell_type": "markdown",
   "id": "961aee82",
   "metadata": {},
   "source": [
    "#### cromag"
   ]
  },
  {
   "cell_type": "code",
   "execution_count": null,
   "id": "7cd9a852",
   "metadata": {},
   "outputs": [],
   "source": [
    "oe = cromag\n",
    "f = opx.get_optimal_focalization_distance(oe, verbose=True)"
   ]
  },
  {
   "cell_type": "code",
   "execution_count": null,
   "id": "23d98b57",
   "metadata": {},
   "outputs": [],
   "source": [
    "opx.plot_spd_plotly(oe.get_diagram(distance_from_oe=0), oe_name=oe.name, x_key=\"X\", y_key=\"dX\", \n",
    "                show_map=False, light_plot=False, orthonorm=False, save_in_file=\"\", return_fwhm=False, ) "
   ]
  },
  {
   "cell_type": "code",
   "execution_count": null,
   "id": "4c33a12a",
   "metadata": {},
   "outputs": [],
   "source": [
    "opx.plot_spd_plotly(oe.get_diagram(distance_from_oe=0), oe_name=oe.name, x_key=\"Y\", y_key=\"dY\", \n",
    "                show_map=False, light_plot=False, orthonorm=False, save_in_file=\"\", return_fwhm=False, ) "
   ]
  },
  {
   "cell_type": "markdown",
   "id": "0524db4f",
   "metadata": {},
   "source": [
    "#### mK2T"
   ]
  },
  {
   "cell_type": "code",
   "execution_count": null,
   "id": "278465df",
   "metadata": {},
   "outputs": [],
   "source": [
    "oe = mk2t\n",
    "f = opx.get_optimal_focalization_distance(oe, verbose=True)"
   ]
  },
  {
   "cell_type": "code",
   "execution_count": null,
   "id": "ac3f65f0",
   "metadata": {},
   "outputs": [],
   "source": [
    "opx.plot_spd_plotly(oe.get_diagram(distance_from_oe=0), oe_name=oe.name, x_key=\"X\", y_key=\"dX\", \n",
    "                show_map=False, light_plot=False, orthonorm=False, save_in_file=\"\", return_fwhm=False, ) "
   ]
  },
  {
   "cell_type": "code",
   "execution_count": null,
   "id": "b8a62428",
   "metadata": {},
   "outputs": [],
   "source": [
    "\n",
    "opx.plot_spd_plotly(oe.get_diagram(distance_from_oe=0), oe_name=oe.name, x_key=\"Y\", y_key=\"dY\", \n",
    "                show_map=False, light_plot=False, orthonorm=False, save_in_file=\"\", return_fwhm=False, ) "
   ]
  },
  {
   "cell_type": "markdown",
   "id": "4eb123f9-4228-48e5-a92a-c9f68bb376a6",
   "metadata": {},
   "source": [
    "<a id=\"monores\"></a>\n",
    "## Monochromator resolution \n",
    "[Back to the top](#toc)"
   ]
  },
  {
   "cell_type": "code",
   "execution_count": null,
   "id": "5a44de33-0cac-4814-85ed-47b0f4b31198",
   "metadata": {},
   "outputs": [],
   "source": []
  },
  {
   "cell_type": "code",
   "execution_count": null,
   "id": "1d71f781",
   "metadata": {},
   "outputs": [],
   "source": []
  }
 ],
 "metadata": {
  "kernelspec": {
   "display_name": "PyOptiX",
   "language": "python",
   "name": "python3"
  },
  "language_info": {
   "codemirror_mode": {
    "name": "ipython",
    "version": 3
   },
   "file_extension": ".py",
   "mimetype": "text/x-python",
   "name": "python",
   "nbconvert_exporter": "python",
   "pygments_lexer": "ipython3",
   "version": "3.11.9"
  },
  "toc-autonumbering": true,
  "toc-showcode": false,
  "toc-showmarkdowntxt": false,
  "toc-showtags": false
 },
 "nbformat": 4,
 "nbformat_minor": 5
}
