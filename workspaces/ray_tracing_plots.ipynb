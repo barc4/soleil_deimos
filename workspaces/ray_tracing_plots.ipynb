{
 "cells": [
  {
   "cell_type": "markdown",
   "metadata": {},
   "source": [
    "<a id=\"toc\"></a>\n",
    "# Ray tracing plots with barc4plots\n",
    "***\n",
    "\n",
    "Contents :\n",
    "1. [Energy resolution](#Eres)"
   ]
  },
  {
   "cell_type": "code",
   "execution_count": null,
   "metadata": {},
   "outputs": [],
   "source": [
    "__author__ = ['Rafael Celestre']\n",
    "__contact__ = 'rafael.celestre@synchrotron-soleil.fr'\n",
    "__license__ = 'GPL-3.0'\n",
    "__copyright__ = 'Synchrotron SOLEIL, Saint Aubin, France'\n",
    "__created__ = '22/OCT/2024'\n",
    "__changed__ = '06/NOV/2024'\n",
    "\n",
    "import re\n",
    "import sys\n",
    "from array import array\n",
    "from glob import glob\n",
    "from copy import deepcopy\n",
    "import barc4xoc.beam as xbm\n",
    "from barc4xoc.misc import moving_average\n",
    "import numpy as np\n",
    "from barc4plots.barc4plots import PlotManager\n",
    "from barc4xoc.aux_pyoptix import read_beam_from_csv, read_resolution_curve\n",
    "from barc4xoc.grating import treat_energy_resolution\n",
    "from barc4xoc.plots import plot_beam\n",
    "# checking we are using the correct python:\n",
    "print(sys.executable)\n",
    "print(sys.version)\n",
    "# %matplotlib widget\n",
    "\n",
    "%load_ext autoreload\n",
    "%autoreload 2"
   ]
  },
  {
   "cell_type": "code",
   "execution_count": null,
   "metadata": {},
   "outputs": [],
   "source": [
    "energy_resolution = False\n",
    "\n",
    "mono_exit_slit = False\n",
    "mono_exit_slit_II = False\n",
    "\n",
    "wolter_A_cromag = False\n",
    "wolter_A_mk2T = False\n",
    "\n",
    "KB_A_cromag = False\n",
    "KB_A_mk2T = False\n",
    "\n",
    "wolter_B_cromag = False\n",
    "wolter_B_mk2T = False\n",
    "\n",
    "KB_B_cromag = False\n",
    "KB_B_mk2T = False\n",
    "\n",
    "dispersion_2d = True\n",
    "\n",
    "pattern = r\"[^\\\\]+(?=\\.[^.]+$)\""
   ]
  },
  {
   "cell_type": "markdown",
   "metadata": {},
   "source": [
    "<a id=\"Eres\"></a>\n",
    "## Energy resolution\n",
    "[Back to the top](#toc)"
   ]
  },
  {
   "cell_type": "code",
   "execution_count": null,
   "metadata": {},
   "outputs": [],
   "source": [
    "e0, ei, ef, dE = 0, 250, 5000, 5"
   ]
  },
  {
   "cell_type": "code",
   "execution_count": null,
   "metadata": {},
   "outputs": [],
   "source": [
    "if energy_resolution:\n",
    "    DRC_1600 = treat_energy_resolution(read_resolution_curve(r\".\\results\\pyoptix\\mono\\deimos_resolution_curves_G1600_5000_rays.csv\"), deltaE=500, fit=False)\n",
    "\n",
    "    scan = [10, 20, 30, 50, 80]\n",
    "    img = PlotManager()\n",
    "    img.additional_info('resolving power', \"energy [eV]\",  \"E/$\\Delta$E ($\\\\times$1E3)\", xmin=e0, xmax=ef+(ei-e0), ymin=5, ymax=30, \n",
    "                        sort_ax=False, sort_ax_lim=False).aesthetics(400, True, True, 0, 1, True, 4)\n",
    "\n",
    "    for i, cff in enumerate(scan):\n",
    "        img.image, img.x = DRC_1600[f\"U52_M1B_G1600_mono_cff_0.{cff}\"]/1E3, DRC_1600[\"energy\"]\n",
    "        img.info_1d_plot(i, '', 1, \".\", alpha=0.1).plot_1d(enable=False, hold=not(i==0))\n",
    "\n",
    "    for i, cff in enumerate(scan):\n",
    "        img.image, img.x = DRC_1600[f\"U52_M1B_G1600_mono_cff_0.{cff}_fit_moving_avg\"]/1E3, DRC_1600[\"energy\"]\n",
    "        img.info_1d_plot(i, f'cff = 0.{cff}', 1, \"-\", alpha=1).plot_1d(enable=(i==len(scan)-1), hold=True)"
   ]
  },
  {
   "cell_type": "code",
   "execution_count": null,
   "metadata": {},
   "outputs": [],
   "source": [
    "if energy_resolution:\n",
    "    DRC_1600 = treat_energy_resolution(read_resolution_curve(r\".\\results\\pyoptix\\deimos_II_resolution_curves_G1600_5000_rays.csv\"), deltaE=500, fit=False)\n",
    "\n",
    "    scan = [10, 20, 30, 50, 80]\n",
    "    img = PlotManager()\n",
    "    img.additional_info('resolving power', \"energy [eV]\",  \"E/$\\Delta$E ($\\\\times$1E3)\", xmin=e0, xmax=ef+(ei-e0), ymin=5, ymax=35, \n",
    "                        sort_ax=False, sort_ax_lim=False).aesthetics(400, True, True, 0, 1, True, 4)\n",
    "\n",
    "    for i, cff in enumerate(scan):\n",
    "        img.image, img.x = DRC_1600[f\"SII_M1B_G1600_mono_cff_0.{cff}\"]/1E3, DRC_1600[\"energy\"]\n",
    "        img.info_1d_plot(i, '', 1, \".\", alpha=0.1).plot_1d(enable=False, hold=not(i==0))\n",
    "\n",
    "    for i, cff in enumerate(scan):\n",
    "        img.image, img.x = DRC_1600[f\"SII_M1B_G1600_mono_cff_0.{cff}_fit_moving_avg\"]/1E3, DRC_1600[\"energy\"]\n",
    "        img.info_1d_plot(i, f'cff = 0.{cff}', 1, \"-\", alpha=1).plot_1d(enable=(i==len(scan)-1), hold=True)"
   ]
  },
  {
   "cell_type": "code",
   "execution_count": null,
   "metadata": {},
   "outputs": [],
   "source": [
    "if energy_resolution:\n",
    "    DRC_2400 = treat_energy_resolution(read_resolution_curve(r\".\\results\\pyoptix\\mono\\deimos_resolution_curves_G2400_5000_rays.csv\"), deltaE=500, fit=False)\n",
    "\n",
    "    img = PlotManager()\n",
    "    img.additional_info('resolving power', \"energy [eV]\",  \"E/$\\Delta$E ($\\\\times$1E3)\", xmin=e0, xmax=ef+(ei-e0), ymin=5, ymax=30, \n",
    "                        sort_ax=False, sort_ax_lim=False).aesthetics(400, True, True, 0, 1, True, 4)\n",
    "    img.image, img.x = DRC_2400[\"U52_M1C_G2400_mono_omega_0.01\"]/1E3, DRC_2400[\"energy\"]\n",
    "    img.info_1d_plot(3, '', 1, \".\", alpha=0.1).plot_1d(enable=False)\n",
    "\n",
    "    img.image, img.x = DRC_2400[\"U52_M1C_G2400_mono_omega_0.01_fit_moving_avg\"]/1E3, DRC_2400[\"energy\"]\n",
    "    img.info_1d_plot(3, 'HE/G2400/$\\Omega$=0.692', 1, \"-\", alpha=1).plot_1d(enable=True, hold=True)"
   ]
  },
  {
   "cell_type": "code",
   "execution_count": null,
   "metadata": {},
   "outputs": [],
   "source": [
    "if energy_resolution:\n",
    "    DRC_2400 = treat_energy_resolution(read_resolution_curve(r\".\\results\\pyoptix\\deimos_II_resolution_curves_G2400_5000_rays.csv\"), deltaE=500, fit=False)\n",
    "\n",
    "    img = PlotManager()\n",
    "    img.additional_info('resolving power', \"energy [eV]\",  \"E/$\\Delta$E ($\\\\times$1E3)\", xmin=e0, xmax=ef+(ei-e0), ymin=5, ymax=30, \n",
    "                        sort_ax=False, sort_ax_lim=False).aesthetics(400, True, True, 0, 1, True, 4)\n",
    "    img.image, img.x = DRC_2400[\"SII_M1C_G2400_mono_omega_0.01\"]/1E3, DRC_2400[\"energy\"]\n",
    "    img.info_1d_plot(3, '', 1, \".\", alpha=0.1).plot_1d(enable=False)\n",
    "\n",
    "    img.image, img.x = DRC_2400[\"SII_M1C_G2400_mono_omega_0.01_fit_moving_avg\"]/1E3, DRC_2400[\"energy\"]\n",
    "    img.info_1d_plot(3, 'HE/G2400/$\\Omega$=0.692', 1, \"-\", alpha=1).plot_1d(enable=True, hold=True)"
   ]
  },
  {
   "cell_type": "markdown",
   "metadata": {},
   "source": [
    "<a id=\"mono_exit_slit\"></a>\n",
    "## Mono exit slit\n",
    "[Back to the top](#toc)"
   ]
  },
  {
   "cell_type": "markdown",
   "metadata": {},
   "source": [
    "### Deimos"
   ]
  },
  {
   "cell_type": "code",
   "execution_count": null,
   "metadata": {},
   "outputs": [],
   "source": [
    "def plot_scan(configs, labels, type_of_plot, prange, **kwargs):\n",
    "\n",
    "    colours = kwargs.get('colours', range(len(configs)))\n",
    "\n",
    "    img = PlotManager()\n",
    "    img.additional_info(type_of_plot[0], \"energy [eV]\",  type_of_plot[1], \n",
    "                        xmin=prange[0], xmax=prange[1], ymin=prange[2], ymax=prange[3], \n",
    "                        sort_ax=False, sort_ax_lim=False).aesthetics(400, True, True, 0, 1, True, 4)\n",
    "    for i, (config, label) in enumerate(zip(configs, labels)):\n",
    "\n",
    "        group_name = list(config.keys())[0]\n",
    "\n",
    "        if len(type_of_plot)>4:\n",
    "            stat = deepcopy(config[group_name][type_of_plot[2]][type_of_plot[3]][type_of_plot[4]])\n",
    "            if type_of_plot[4] == 'std' or type_of_plot[4] == 'fwhm':\n",
    "                stat *= 1E6\n",
    "        else:\n",
    "            stat = deepcopy(config[group_name][type_of_plot[2]][type_of_plot[3]])\n",
    "\n",
    "        stat[stat==0] = np.nan\n",
    "        img.image, img.x = stat, config[group_name][\"scan\"]\n",
    "        img.info_1d_plot(colours[i], label, 1, \"-\").plot_1d(enable=(i==len(configs)-1), hold=(i!=0))"
   ]
  },
  {
   "cell_type": "code",
   "execution_count": null,
   "metadata": {},
   "outputs": [],
   "source": [
    "if mono_exit_slit:\n",
    "    \n",
    "    stats_LE_B = xbm.load_stats_from_csv(r\".\\results\\pyoptix\\mono\\U52_M1B_G1600_mono_@_mono_foc_ver_energy_scan_20000_rays_stats.csv\")\n",
    "    stats_LE_C = xbm.load_stats_from_csv(r\".\\results\\pyoptix\\mono\\U52_M1C_G1600_mono_@_mono_foc_ver_energy_scan_20000_rays_stats.csv\")\n",
    "    stats_HE_C = xbm.load_stats_from_csv(r\".\\results\\pyoptix\\mono\\U52_M1C_G2400_mono_@_mono_foc_ver_energy_scan_20000_rays_stats.csv\")\n",
    "\n",
    "    stats_LE_B_SII = xbm.load_stats_from_csv(r\".\\results\\pyoptix\\mono\\SII_M1B_G1600_mono_@_mono_foc_ver_energy_scan_20000_rays_stats.csv\")\n",
    "    stats_LE_C_SII = xbm.load_stats_from_csv(r\".\\results\\pyoptix\\mono\\SII_M1C_G1600_mono_@_mono_foc_ver_energy_scan_20000_rays_stats.csv\")\n",
    "    stats_HE_C_SII = xbm.load_stats_from_csv(r\".\\results\\pyoptix\\mono\\SII_M1C_G2400_mono_@_mono_foc_ver_energy_scan_20000_rays_stats.csv\")\n",
    "\n",
    "    configs = [stats_LE_B, stats_LE_B_SII, stats_LE_C, stats_LE_C_SII, stats_HE_C, stats_HE_C_SII]\n",
    "    labels = ['LE/G1600/cff=0.2', '(small $\\epsilon$)',\n",
    "            'HE/G1600/cff=0.2', '(small $\\epsilon$)',\n",
    "            'LE/2400/$\\Omega$=0.692', '(small $\\epsilon$)']\n",
    "\n",
    "    colours = [0, 3, 1, 4, 2, 5]"
   ]
  },
  {
   "cell_type": "code",
   "execution_count": null,
   "metadata": {},
   "outputs": [],
   "source": [
    "if mono_exit_slit:\n",
    "    print(\">>>>>>>>>>>>>>>>>>>>>> VERTICAL\")\n",
    "    direction = \"Y\"\n",
    "    caracteristic = \"sigma\"\n",
    "    prange = [e0, ef+(ei-e0), 0, 20]\n",
    "    type_of_plot = [\"Beam size\",\"rms (µm)\", direction, caracteristic, \"std\"]\n",
    "    plot_scan(configs, labels, type_of_plot, prange,  colours=colours)\n",
    "    prange = [e0, ef+(ei-e0), -0.12, 0.12]\n",
    "    type_of_plot = [\"Moments\",\"Skewness\", direction, caracteristic, \"skew\"]\n",
    "    plot_scan(configs, labels, type_of_plot, prange, colours=colours)\n",
    "    prange = [e0, ef+(ei-e0), -0.3, 1.5]\n",
    "    type_of_plot = [\"Moments\",\"Excess Kurtosis\", direction, caracteristic, \"kurtosis\"]\n",
    "    plot_scan(configs, labels, type_of_plot, prange, colours=colours)\n",
    "    direction = \"Y\"\n",
    "    caracteristic = \"sigma_p\"\n",
    "    prange = [e0, ef+(ei-e0), 0, 100]\n",
    "    type_of_plot = [\"beam divergence\",\"rms (µrad)\", direction, caracteristic, \"std\"]\n",
    "    plot_scan(configs, labels, type_of_plot, prange, colours=colours)\n",
    "    \n",
    "    print(\">>>>>>>>>>>>>>>>>>>>>> HORIZONTAL\")\n",
    "    direction = \"X\"\n",
    "    caracteristic = \"sigma\"\n",
    "    prange = [e0, ef+(ei-e0), 175, 625]\n",
    "    type_of_plot = [\"Beam size\",\"rms (µm)\", direction, caracteristic, \"std\"]\n",
    "    plot_scan(configs, labels, type_of_plot, prange, colours=colours)\n",
    "    prange = [e0, ef+(ei-e0), -0.12, 0.12]\n",
    "    type_of_plot = [\"Moments\",\"Skewness\", direction, caracteristic, \"skew\"]\n",
    "    plot_scan(configs, labels, type_of_plot, prange, colours=colours)\n",
    "    prange = [e0, ef+(ei-e0), -0.25, 0.25]\n",
    "    type_of_plot = [\"Moments\",\"Excess Kurtosis\", direction, caracteristic, \"kurtosis\"]\n",
    "    plot_scan(configs, labels, type_of_plot, prange, colours=colours)\n",
    "    direction = \"X\"\n",
    "    caracteristic = \"sigma_p\"\n",
    "    prange = [e0, ef+(ei-e0), 45, 165]\n",
    "    type_of_plot = [\"beam divergence\",\"rms (µrad)\", direction, caracteristic, \"std\"]\n",
    "    plot_scan(configs, labels, type_of_plot, prange, colours=colours)"
   ]
  },
  {
   "cell_type": "code",
   "execution_count": null,
   "metadata": {},
   "outputs": [],
   "source": [
    "if mono_exit_slit and dispersion_2d:\n",
    "    simulations = sorted(glob(r\".\\results\\pyoptix\\mono\\*_M1B_G1600*_foc_ver_E350eV_20000*.csv\"))\n",
    "    for sim in simulations:\n",
    "        print(re.search(pattern, sim).group(0))\n",
    "        beam = xbm.read_beam_from_csv(sim)\n",
    "        stats = xbm.get_beam_stats(beam, verbose=True)\n",
    "        plot_beam(beam, \"phase_space\", direction='x', aspect_ratio=False, prange=[-2500, 2500, -800, 800])\n",
    "        plot_beam(beam, \"phase_space\", direction='y', aspect_ratio=False, prange=[-100, 100, -400, 400])\n",
    "        plot_beam(beam, \"size\", direction='y', aspect_ratio=False, prange=[-2500, 2500, -100, 100])"
   ]
  },
  {
   "cell_type": "code",
   "execution_count": null,
   "metadata": {},
   "outputs": [],
   "source": [
    "if mono_exit_slit and dispersion_2d:\n",
    "    simulations = sorted(glob(r\".\\results\\pyoptix\\mono\\*_M1C_G1600*_foc_ver_E1000eV_20000*.csv\"))\n",
    "    for sim in simulations:\n",
    "        print(re.search(pattern, sim).group(0))\n",
    "        beam = xbm.read_beam_from_csv(sim)\n",
    "        stats = xbm.get_beam_stats(beam, verbose=True)\n",
    "        plot_beam(beam, \"phase_space\", direction='x', aspect_ratio=False, prange=[-2500, 2500, -800, 800])\n",
    "        plot_beam(beam, \"phase_space\", direction='y', aspect_ratio=False, prange=[-100, 100, -400, 400])\n",
    "        plot_beam(beam, \"size\", direction='y', aspect_ratio=False, prange=[-2500, 2500, -100, 100])"
   ]
  },
  {
   "cell_type": "code",
   "execution_count": null,
   "metadata": {},
   "outputs": [],
   "source": [
    "if mono_exit_slit and dispersion_2d:\n",
    "    simulations = sorted(glob(r\".\\results\\pyoptix\\mono\\*_M1C_G2400*_foc_ver_E2000eV_20000*.csv\"))\n",
    "    for sim in simulations:\n",
    "        print(re.search(pattern, sim).group(0))\n",
    "        beam = xbm.read_beam_from_csv(sim)\n",
    "        stats = xbm.get_beam_stats(beam, verbose=True)\n",
    "        plot_beam(beam, \"phase_space\", direction='x', aspect_ratio=False, prange=[-2500, 2500, -800, 800])\n",
    "        plot_beam(beam, \"phase_space\", direction='y', aspect_ratio=False, prange=[-100, 100, -400, 400])\n",
    "        plot_beam(beam, \"size\", direction='y', aspect_ratio=False, prange=[-2500, 2500, -100, 100])"
   ]
  },
  {
   "cell_type": "markdown",
   "metadata": {},
   "source": [
    "### Deimos-II"
   ]
  },
  {
   "cell_type": "code",
   "execution_count": null,
   "metadata": {},
   "outputs": [],
   "source": [
    "if mono_exit_slit_II and dispersion_2d:\n",
    "    simulations = sorted(glob(r\".\\results\\pyoptix\\mono_II\\SII_M1B_G1600_mono_@_mono_foc_ver_m3_*_E350eV_20000_rays.csv\"))\n",
    "    for sim in simulations:\n",
    "        print(re.search(pattern, sim).group(0))\n",
    "        beam = xbm.read_beam_from_csv(sim)\n",
    "        stats = xbm.get_beam_stats(beam, verbose=True)\n",
    "        plot_beam(beam, \"phase_space\", direction='x', aspect_ratio=False, prange=[-55, 55, -275, 275])\n",
    "        plot_beam(beam, \"phase_space\", direction='y', aspect_ratio=False, prange=[-75, 75, -250, 250])\n",
    "        plot_beam(beam, \"size\", direction='y', aspect_ratio=True, prange=[-75, 75, -55, 55])"
   ]
  },
  {
   "cell_type": "code",
   "execution_count": null,
   "metadata": {},
   "outputs": [],
   "source": [
    "if mono_exit_slit_II and dispersion_2d:\n",
    "    simulations = sorted(glob(r\".\\results\\pyoptix\\mono_II\\SII_M1C_G1600_mono_@_mono_foc_ver_m3_*_E350eV_20000_rays.csv\"))\n",
    "    for sim in simulations:\n",
    "        print(re.search(pattern, sim).group(0))\n",
    "        beam = xbm.read_beam_from_csv(sim)\n",
    "        stats = xbm.get_beam_stats(beam, verbose=True)\n",
    "        plot_beam(beam, \"phase_space\", direction='x', aspect_ratio=False, prange=[-55, 55, -275, 275])\n",
    "        plot_beam(beam, \"phase_space\", direction='y', aspect_ratio=False, prange=[-75, 75, -250, 250])\n",
    "        plot_beam(beam, \"size\", direction='y', aspect_ratio=True, prange=[-75, 75, -55, 55])"
   ]
  },
  {
   "cell_type": "code",
   "execution_count": null,
   "metadata": {},
   "outputs": [],
   "source": [
    "if mono_exit_slit_II and dispersion_2d:\n",
    "    simulations = sorted(glob(r\".\\results\\pyoptix\\mono_II\\SII_M1C_G2400_mono_@_mono_foc_ver_m3_*_E350eV_20000_rays.csv\"))\n",
    "    for sim in simulations:\n",
    "        print(re.search(pattern, sim).group(0))\n",
    "        beam = xbm.read_beam_from_csv(sim)\n",
    "        stats = xbm.get_beam_stats(beam, verbose=True)\n",
    "        plot_beam(beam, \"phase_space\", direction='x', aspect_ratio=False, prange=[-55, 55, -275, 275])\n",
    "        plot_beam(beam, \"phase_space\", direction='y', aspect_ratio=False, prange=[-75, 75, -250, 250])\n",
    "        plot_beam(beam, \"size\", direction='y', aspect_ratio=True, prange=[-75, 75, -55, 55])"
   ]
  },
  {
   "cell_type": "markdown",
   "metadata": {},
   "source": [
    "<a id=\"exp-stat\"></a>\n",
    "## Experimental stations\n",
    "[Back to the top](#toc)"
   ]
  },
  {
   "cell_type": "markdown",
   "metadata": {},
   "source": [
    "### Wolter A - cromag"
   ]
  },
  {
   "cell_type": "code",
   "execution_count": null,
   "metadata": {},
   "outputs": [],
   "source": [
    "focus = 'WLT_A'\n",
    "exp = 'cromag'\n",
    "directory = 'sample'\n",
    "\n",
    "if wolter_A_cromag:\n",
    "    source = 'U52'\n",
    "    stats_LE_B = xbm.load_stats_from_csv(rf\".\\results\\pyoptix\\{directory}\\{source}_M1B_G1600_{focus}_@_{exp}_energy_scan_20000_rays_stats.csv\")\n",
    "    stats_LE_C = xbm.load_stats_from_csv(rf\".\\results\\pyoptix\\{directory}\\{source}_M1C_G1600_{focus}_@_{exp}_energy_scan_20000_rays_stats.csv\")\n",
    "    stats_HE_C = xbm.load_stats_from_csv(rf\".\\results\\pyoptix\\{directory}\\{source}_M1C_G2400_{focus}_@_{exp}_energy_scan_20000_rays_stats.csv\")\n",
    "    source = 'SII'\n",
    "    stats_LE_B_SII = xbm.load_stats_from_csv(rf\".\\results\\pyoptix\\{directory}\\{source}_M1B_G1600_{focus}_@_{exp}_energy_scan_20000_rays_stats.csv\")\n",
    "    stats_LE_C_SII = xbm.load_stats_from_csv(rf\".\\results\\pyoptix\\{directory}\\{source}_M1C_G1600_{focus}_@_{exp}_energy_scan_20000_rays_stats.csv\")\n",
    "    stats_HE_C_SII = xbm.load_stats_from_csv(rf\".\\results\\pyoptix\\{directory}\\{source}_M1C_G2400_{focus}_@_{exp}_energy_scan_20000_rays_stats.csv\")\n",
    "\n",
    "    configs = [stats_LE_B, stats_LE_B_SII, stats_LE_C, stats_LE_C_SII, stats_HE_C, stats_HE_C_SII]\n",
    "    labels = ['LE/G1600/cff=0.2', '(small $\\epsilon$)',\n",
    "            'HE/G1600/cff=0.2', '(small $\\epsilon$)',\n",
    "            'HE/2400/$\\Omega$=0.692', '(small $\\epsilon$)']\n",
    "\n",
    "    colours = [0, 3, 1, 4, 2, 5]"
   ]
  },
  {
   "cell_type": "code",
   "execution_count": null,
   "metadata": {},
   "outputs": [],
   "source": [
    "if wolter_A_cromag:\n",
    "    print(\">>>>>>>>>>>>>>>>>>>>>> VERTICAL\")\n",
    "    direction = \"Y\"\n",
    "    caracteristic = \"sigma\"\n",
    "    prange = [e0, ef+(ei-e0), 0, 12]\n",
    "    type_of_plot = [\"Beam size\",\"rms (µm)\", direction, caracteristic, \"std\"]\n",
    "    plot_scan(configs, labels, type_of_plot, prange,  colours=colours)\n",
    "    prange = [e0, ef+(ei-e0), -0.25, 0.25]\n",
    "    type_of_plot = [\"Moments\",\"Skewness\", direction, caracteristic, \"skew\"]\n",
    "    plot_scan(configs, labels, type_of_plot, prange, colours=colours)\n",
    "    prange = [e0, ef+(ei-e0), -0.3, 7]\n",
    "    type_of_plot = [\"Moments\",\"Excess Kurtosis\", direction, caracteristic, \"kurtosis\"]\n",
    "    plot_scan(configs, labels, type_of_plot, prange, colours=colours)\n",
    "    direction = \"Y\"\n",
    "    caracteristic = \"sigma_p\"\n",
    "    prange = [e0, ef+(ei-e0), 0, 200]\n",
    "    type_of_plot = [\"beam divergence\",\"rms (µrad)\", direction, caracteristic, \"std\"]\n",
    "    plot_scan(configs, labels, type_of_plot, prange, colours=colours)\n",
    "\n",
    "\n",
    "    print(\">>>>>>>>>>>>>>>>>>>>>> HORIZONTAL\")\n",
    "    direction = \"X\"\n",
    "    caracteristic = \"sigma\"\n",
    "    prange = [e0, ef+(ei-e0), 0, 25]\n",
    "    type_of_plot = [\"Beam size\",\"rms (µm)\", direction, caracteristic, \"std\"]\n",
    "    plot_scan(configs, labels, type_of_plot, prange,  colours=colours)\n",
    "    prange = [e0, ef+(ei-e0), -0.25, 0.25]\n",
    "    type_of_plot = [\"Moments\",\"Skewness\", direction, caracteristic, \"skew\"]\n",
    "    plot_scan(configs, labels, type_of_plot, prange, colours=colours)\n",
    "    prange = [e0, ef+(ei-e0), -0.3, 3]\n",
    "    type_of_plot = [\"Moments\",\"Excess Kurtosis\", direction, caracteristic, \"kurtosis\"]\n",
    "    plot_scan(configs, labels, type_of_plot, prange, colours=colours)\n",
    "\n",
    "    direction = \"X\"\n",
    "    caracteristic = \"sigma_p\"\n",
    "    prange = [e0, ef+(ei-e0), 100, 500]\n",
    "    type_of_plot = [\"beam divergence\",\"rms (µrad)\", direction, caracteristic, \"std\"]\n",
    "    plot_scan(configs, labels, type_of_plot, prange, colours=colours)\n"
   ]
  },
  {
   "cell_type": "code",
   "execution_count": null,
   "metadata": {},
   "outputs": [],
   "source": [
    "if wolter_A_cromag and dispersion_2d:\n",
    "    simulations = sorted(glob(r\".\\results\\pyoptix\\sample\\*_M1B_G1600_WLT_A_@_cromag_E350eV_20000_rays.csv\"))\n",
    "    for sim in simulations:\n",
    "        print(re.search(pattern, sim).group(0))\n",
    "        beam = xbm.read_beam_from_csv(sim)\n",
    "        stats = xbm.get_beam_stats(beam, verbose=True)\n",
    "        plot_beam(beam, \"phase_space\", direction='x', aspect_ratio=False, prange=[-100, 100, -2000, 2000])\n",
    "        plot_beam(beam, \"phase_space\", direction='y', aspect_ratio=False, prange=[-40, 40, -800, 800])\n",
    "        plot_beam(beam, \"size\", direction='y', aspect_ratio=False, prange=[-100, 100, -40, 40])"
   ]
  },
  {
   "cell_type": "code",
   "execution_count": null,
   "metadata": {},
   "outputs": [],
   "source": [
    "if wolter_A_cromag and dispersion_2d:\n",
    "    simulations = sorted(glob(r\".\\results\\pyoptix\\sample\\*_M1C_G1600_WLT_A_@_cromag_E1000eV_20000_rays.csv\"))\n",
    "    for sim in simulations:\n",
    "        print(re.search(pattern, sim).group(0))\n",
    "        beam = xbm.read_beam_from_csv(sim)\n",
    "        stats = xbm.get_beam_stats(beam, verbose=True)\n",
    "        plot_beam(beam, \"phase_space\", direction='x', aspect_ratio=False, prange=[-100, 100, -2000, 2000])\n",
    "        plot_beam(beam, \"phase_space\", direction='y', aspect_ratio=False, prange=[-40, 40, -800, 800])\n",
    "        plot_beam(beam, \"size\", direction='y', aspect_ratio=False, prange=[-100, 100, -40, 40])"
   ]
  },
  {
   "cell_type": "code",
   "execution_count": null,
   "metadata": {},
   "outputs": [],
   "source": [
    "if wolter_A_cromag and dispersion_2d:\n",
    "    simulations = sorted(glob(r\".\\results\\pyoptix\\sample\\*_M1C_G2400_WLT_A_@_cromag_E2000eV_20000_rays.csv\"))\n",
    "    for sim in simulations:\n",
    "        print(re.search(pattern, sim).group(0))\n",
    "        beam = xbm.read_beam_from_csv(sim)\n",
    "        stats = xbm.get_beam_stats(beam, verbose=True)\n",
    "        plot_beam(beam, \"phase_space\", direction='x', aspect_ratio=False, prange=[-100, 100, -2000, 2000])\n",
    "        plot_beam(beam, \"phase_space\", direction='y', aspect_ratio=False, prange=[-40, 40, -800, 800])\n",
    "        plot_beam(beam, \"size\", direction='y', aspect_ratio=False, prange=[-100, 100, -40, 40])"
   ]
  },
  {
   "cell_type": "markdown",
   "metadata": {},
   "source": [
    "### Wolter A - mk2T"
   ]
  },
  {
   "cell_type": "code",
   "execution_count": null,
   "metadata": {},
   "outputs": [],
   "source": [
    "focus = 'WLT_A'\n",
    "exp = 'mk2T'\n",
    "directory = 'sample'\n",
    "\n",
    "if wolter_A_mk2T:\n",
    "    source = 'U52'\n",
    "    stats_LE_B = xbm.load_stats_from_csv(rf\".\\results\\pyoptix\\{directory}\\{source}_M1B_G1600_{focus}_@_{exp}_energy_scan_20000_rays_stats.csv\")\n",
    "    stats_LE_C = xbm.load_stats_from_csv(rf\".\\results\\pyoptix\\{directory}\\{source}_M1C_G1600_{focus}_@_{exp}_energy_scan_20000_rays_stats.csv\")\n",
    "    stats_HE_C = xbm.load_stats_from_csv(rf\".\\results\\pyoptix\\{directory}\\{source}_M1C_G2400_{focus}_@_{exp}_energy_scan_20000_rays_stats.csv\")\n",
    "    source = 'SII'\n",
    "    stats_LE_B_SII = xbm.load_stats_from_csv(rf\".\\results\\pyoptix\\{directory}\\{source}_M1B_G1600_{focus}_@_{exp}_energy_scan_20000_rays_stats.csv\")\n",
    "    stats_LE_C_SII = xbm.load_stats_from_csv(rf\".\\results\\pyoptix\\{directory}\\{source}_M1C_G1600_{focus}_@_{exp}_energy_scan_20000_rays_stats.csv\")\n",
    "    stats_HE_C_SII = xbm.load_stats_from_csv(rf\".\\results\\pyoptix\\{directory}\\{source}_M1C_G2400_{focus}_@_{exp}_energy_scan_20000_rays_stats.csv\")\n",
    "\n",
    "    configs = [stats_LE_B, stats_LE_B_SII, stats_LE_C, stats_LE_C_SII, stats_HE_C, stats_HE_C_SII]\n",
    "    labels = ['LE/G1600/cff=0.2', '(small $\\epsilon$)',\n",
    "            'HE/G1600/cff=0.2', '(small $\\epsilon$)',\n",
    "            'HE/2400/$\\Omega$=0.692', '(small $\\epsilon$)']\n",
    "\n",
    "    colours = [0, 3, 1, 4, 2, 5]"
   ]
  },
  {
   "cell_type": "code",
   "execution_count": null,
   "metadata": {},
   "outputs": [],
   "source": [
    "if wolter_A_mk2T:\n",
    "    print(\">>>>>>>>>>>>>>>>>>>>>> VERTICAL\")\n",
    "    direction = \"Y\"\n",
    "    caracteristic = \"sigma\"\n",
    "    prange = [e0, ef+(ei-e0), 0, 350]\n",
    "    type_of_plot = [\"Beam size\",\"rms (µm)\", direction, caracteristic, \"std\"]\n",
    "    plot_scan(configs, labels, type_of_plot, prange,  colours=colours)\n",
    "    prange = [e0, ef+(ei-e0), -0.25, 0.25]\n",
    "    type_of_plot = [\"Moments\",\"Skewness\", direction, caracteristic, \"skew\"]\n",
    "    plot_scan(configs, labels, type_of_plot, prange, colours=colours)\n",
    "    prange = [e0, ef+(ei-e0), -0.25, 0.25]\n",
    "    type_of_plot = [\"Moments\",\"Excess Kurtosis\", direction, caracteristic, \"kurtosis\"]\n",
    "    plot_scan(configs, labels, type_of_plot, prange, colours=colours)\n",
    "    direction = \"Y\"\n",
    "    caracteristic = \"sigma_p\"\n",
    "    prange = [e0, ef+(ei-e0), 0, 200]\n",
    "    type_of_plot = [\"beam divergence\",\"rms (µrad)\", direction, caracteristic, \"std\"]\n",
    "    plot_scan(configs, labels, type_of_plot, prange, colours=colours)\n",
    "\n",
    "    print(\">>>>>>>>>>>>>>>>>>>>>> HORIZONTAL\")\n",
    "    direction = \"X\"\n",
    "    caracteristic = \"sigma\"\n",
    "    prange = [e0, ef+(ei-e0), 200, 800]\n",
    "    type_of_plot = [\"Beam size\",\"rms (µm)\", direction, caracteristic, \"std\"]\n",
    "    plot_scan(configs, labels, type_of_plot, prange,  colours=colours)\n",
    "    prange = [e0, ef+(ei-e0), -0.25, 0.25]\n",
    "    type_of_plot = [\"Moments\",\"Skewness\", direction, caracteristic, \"skew\"]\n",
    "    plot_scan(configs, labels, type_of_plot, prange, colours=colours)\n",
    "    prange = [e0, ef+(ei-e0), -0.25, 0.25]\n",
    "    type_of_plot = [\"Moments\",\"Excess Kurtosis\", direction, caracteristic, \"kurtosis\"]\n",
    "    plot_scan(configs, labels, type_of_plot, prange, colours=colours)\n",
    "    direction = \"X\"\n",
    "    caracteristic = \"sigma_p\"\n",
    "    prange = [e0, ef+(ei-e0), 100, 500]\n",
    "    type_of_plot = [\"beam divergence\",\"rms (µrad)\", direction, caracteristic, \"std\"]\n",
    "    plot_scan(configs, labels, type_of_plot, prange, colours=colours)"
   ]
  },
  {
   "cell_type": "code",
   "execution_count": null,
   "metadata": {},
   "outputs": [],
   "source": [
    "\n",
    "if wolter_A_mk2T and dispersion_2d:\n",
    "    simulations = sorted(glob(r\".\\results\\pyoptix\\sample\\*_M1B_G1600_WLT_A_@_mk2T_E350eV_20000_rays.csv\"))\n",
    "    for sim in simulations:\n",
    "        print(re.search(pattern, sim).group(0))\n",
    "        beam = xbm.read_beam_from_csv(sim)\n",
    "        stats = xbm.get_beam_stats(beam, verbose=True)\n",
    "        plot_beam(beam, \"phase_space\", direction='x', aspect_ratio=False, prange=[-3500, 3500, -2000, 2000])\n",
    "        plot_beam(beam, \"phase_space\", direction='y', aspect_ratio=False, prange=[-1100, 1100, -600, 600])\n",
    "        plot_beam(beam, \"size\", direction='y', aspect_ratio=False, prange=[-3200, 3200, -1100, 1100])\n",
    "        "
   ]
  },
  {
   "cell_type": "code",
   "execution_count": null,
   "metadata": {},
   "outputs": [],
   "source": [
    "if wolter_A_mk2T and dispersion_2d:\n",
    "    simulations = sorted(glob(r\".\\results\\pyoptix\\sample\\*_M1C_G1600_WLT_A_@_mk2T_E1000eV_20000_rays.csv\"))\n",
    "    for sim in simulations:\n",
    "        print(re.search(pattern, sim).group(0))\n",
    "        beam = xbm.read_beam_from_csv(sim)\n",
    "        stats = xbm.get_beam_stats(beam, verbose=True)\n",
    "        plot_beam(beam, \"phase_space\", direction='x', aspect_ratio=False, prange=[-3500, 3500, -2000, 2000])\n",
    "        plot_beam(beam, \"phase_space\", direction='y', aspect_ratio=False, prange=[-1100, 1100, -600, 600])\n",
    "        plot_beam(beam, \"size\", direction='y', aspect_ratio=False, prange=[-3200, 3200, -1100, 1100])"
   ]
  },
  {
   "cell_type": "code",
   "execution_count": null,
   "metadata": {},
   "outputs": [],
   "source": [
    "if wolter_A_mk2T and dispersion_2d:\n",
    "    simulations = sorted(glob(r\".\\results\\pyoptix\\sample\\*_M1C_G2400_WLT_A_@_mk2T_E2000eV_20000_rays.csv\"))\n",
    "    for sim in simulations:\n",
    "        print(re.search(pattern, sim).group(0))\n",
    "        beam = xbm.read_beam_from_csv(sim)\n",
    "        stats = xbm.get_beam_stats(beam, verbose=True)\n",
    "        plot_beam(beam, \"phase_space\", direction='x', aspect_ratio=False, prange=[-3500, 3500, -2000, 2000])\n",
    "        plot_beam(beam, \"phase_space\", direction='y', aspect_ratio=False, prange=[-1100, 1100, -600, 600])\n",
    "        plot_beam(beam, \"size\", direction='y', aspect_ratio=False, prange=[-3200, 3200, -1100, 1100])"
   ]
  },
  {
   "cell_type": "markdown",
   "metadata": {},
   "source": [
    "### KB A - cromag"
   ]
  },
  {
   "cell_type": "code",
   "execution_count": null,
   "metadata": {},
   "outputs": [],
   "source": [
    "focus = 'WLT_A'\n",
    "exp = 'cromag'\n",
    "directory = 'sample_II'\n",
    "\n",
    "if KB_A_cromag:\n",
    "    source = 'SII'\n",
    "    stats_LE_B_SII = xbm.load_stats_from_csv(rf\".\\results\\pyoptix\\{directory}\\{source}_M1B_G1600_{focus}_@_{exp}_energy_scan_20000_rays_stats.csv\")\n",
    "    stats_LE_C_SII = xbm.load_stats_from_csv(rf\".\\results\\pyoptix\\{directory}\\{source}_M1C_G1600_{focus}_@_{exp}_energy_scan_20000_rays_stats.csv\")\n",
    "    stats_HE_C_SII = xbm.load_stats_from_csv(rf\".\\results\\pyoptix\\{directory}\\{source}_M1C_G2400_{focus}_@_{exp}_energy_scan_20000_rays_stats.csv\")\n",
    "\n",
    "    configs = [stats_LE_B_SII, stats_LE_C_SII, stats_HE_C_SII]\n",
    "    labels = ['LE/G1600/cff=0.2',\n",
    "              'HE/G1600/cff=0.2',\n",
    "              'HE/G2400/$\\Omega$=0.692']\n",
    "    colours = [0, 1, 2]"
   ]
  },
  {
   "cell_type": "code",
   "execution_count": null,
   "metadata": {},
   "outputs": [],
   "source": [
    "if KB_A_cromag:\n",
    "    print(\">>>>>>>>>>>>>>>>>>>>>> VERTICAL\")\n",
    "    direction = \"Y\"\n",
    "    caracteristic = \"sigma\"\n",
    "    prange = [e0, ef+(ei-e0), 0, 22]\n",
    "    type_of_plot = [\"Beam size\",\"rms (µm)\", direction, caracteristic, \"std\"]\n",
    "    plot_scan(configs, labels, type_of_plot, prange,  colours=colours)\n",
    "    prange = [e0, ef+(ei-e0), -1.5, 1.5]\n",
    "    type_of_plot = [\"Moments\",\"Skewness\", direction, caracteristic, \"skew\"]\n",
    "    plot_scan(configs, labels, type_of_plot, prange, colours=colours)\n",
    "    prange = [e0, ef+(ei-e0), -1.5, 4]\n",
    "    type_of_plot = [\"Moments\",\"Excess Kurtosis\", direction, caracteristic, \"kurtosis\"]\n",
    "    plot_scan(configs, labels, type_of_plot, prange, colours=colours)\n",
    "    direction = \"Y\"\n",
    "    caracteristic = \"sigma_p\"\n",
    "    prange = [e0, ef+(ei-e0), 0, 110]\n",
    "    type_of_plot = [\"beam divergence\",\"rms (µrad)\", direction, caracteristic, \"std\"]\n",
    "    plot_scan(configs, labels, type_of_plot, prange, colours=colours)\n",
    "\n",
    "\n",
    "    print(\">>>>>>>>>>>>>>>>>>>>>> HORIZONTAL\")\n",
    "    direction = \"X\"\n",
    "    caracteristic = \"sigma\"\n",
    "    prange = [e0, ef+(ei-e0), 0, 22]\n",
    "    type_of_plot = [\"Beam size\",\"rms (µm)\", direction, caracteristic, \"std\"]\n",
    "    plot_scan(configs, labels, type_of_plot, prange,  colours=colours)\n",
    "    prange = [e0, ef+(ei-e0), -1.5, 1.5]\n",
    "    type_of_plot = [\"Moments\",\"Skewness\", direction, caracteristic, \"skew\"]\n",
    "    plot_scan(configs, labels, type_of_plot, prange, colours=colours)\n",
    "    prange = [e0, ef+(ei-e0), -1.5, 1.5]\n",
    "    type_of_plot = [\"Moments\",\"Excess Kurtosis\", direction, caracteristic, \"kurtosis\"]\n",
    "    plot_scan(configs, labels, type_of_plot, prange, colours=colours)\n",
    "    direction = \"X\"\n",
    "    caracteristic = \"sigma_p\"\n",
    "    prange = [e0, ef+(ei-e0), 0, 110]\n",
    "    type_of_plot = [\"beam divergence\",\"rms (µrad)\", direction, caracteristic, \"std\"]\n",
    "    plot_scan(configs, labels, type_of_plot, prange, colours=colours)\n"
   ]
  },
  {
   "cell_type": "code",
   "execution_count": null,
   "metadata": {},
   "outputs": [],
   "source": [
    "if KB_A_cromag and dispersion_2d:\n",
    "    simulations = sorted(glob(rf\".\\results\\pyoptix\\{directory}\\*_M1B_G1600_{focus}_@_{exp}_E350eV_20000_rays.csv\"))\n",
    "    for sim in simulations:\n",
    "        print(re.search(pattern, sim).group(0))\n",
    "        beam = xbm.read_beam_from_csv(sim)\n",
    "        stats = xbm.get_beam_stats(beam, verbose=True)\n",
    "        plot_beam(beam, \"phase_space\", direction='x', aspect_ratio=False, prange=[-80, 80, -320, 320])\n",
    "        plot_beam(beam, \"phase_space\", direction='y', aspect_ratio=False, prange=[-80, 80, -320, 320])\n",
    "        plot_beam(beam, \"size\", direction='y', aspect_ratio=True, prange=[-80, 80, -80, 80])"
   ]
  },
  {
   "cell_type": "code",
   "execution_count": null,
   "metadata": {},
   "outputs": [],
   "source": [
    "if KB_A_cromag and dispersion_2d:\n",
    "    simulations = sorted(glob(rf\".\\results\\pyoptix\\{directory}\\*_M1C_G1600_{focus}_@_{exp}_E1500eV_20000_rays.csv\"))\n",
    "    for sim in simulations:\n",
    "        print(re.search(pattern, sim).group(0))\n",
    "        beam = xbm.read_beam_from_csv(sim)\n",
    "        stats = xbm.get_beam_stats(beam, verbose=True)\n",
    "        plot_beam(beam, \"phase_space\", direction='x', aspect_ratio=False, prange=[-80, 80, -320, 320])\n",
    "        plot_beam(beam, \"phase_space\", direction='y', aspect_ratio=False, prange=[-80, 80, -320, 320])\n",
    "        plot_beam(beam, \"size\", direction='y', aspect_ratio=True, prange=[-80, 80, -80, 80])"
   ]
  },
  {
   "cell_type": "code",
   "execution_count": null,
   "metadata": {},
   "outputs": [],
   "source": [
    "if KB_A_cromag and dispersion_2d:\n",
    "    simulations = sorted(glob(rf\".\\results\\pyoptix\\{directory}\\*_M1C_G2400_{focus}_@_{exp}_E1500eV_20000_rays.csv\"))\n",
    "    for sim in simulations:\n",
    "        print(re.search(pattern, sim).group(0))\n",
    "        beam = xbm.read_beam_from_csv(sim)\n",
    "        stats = xbm.get_beam_stats(beam, verbose=True)\n",
    "        plot_beam(beam, \"phase_space\", direction='x', aspect_ratio=False, prange=[-80, 80, -320, 320])\n",
    "        plot_beam(beam, \"phase_space\", direction='y', aspect_ratio=False, prange=[-80, 80, -320, 320])\n",
    "        plot_beam(beam, \"size\", direction='y', aspect_ratio=True, prange=[-80, 80, -80, 80])"
   ]
  },
  {
   "cell_type": "code",
   "execution_count": null,
   "metadata": {},
   "outputs": [],
   "source": [
    "if KB_A_cromag and dispersion_2d:\n",
    "    simulations = sorted(glob(rf\".\\results\\pyoptix\\{directory}\\*_M1C_G2400_{focus}_@_{exp}_E2000eV_20000_rays.csv\"))\n",
    "    for sim in simulations:\n",
    "        print(re.search(pattern, sim).group(0))\n",
    "        beam = xbm.read_beam_from_csv(sim)\n",
    "        stats = xbm.get_beam_stats(beam, verbose=True)\n",
    "        plot_beam(beam, \"phase_space\", direction='x', aspect_ratio=False, prange=[-80, 80, -320, 320])\n",
    "        plot_beam(beam, \"phase_space\", direction='y', aspect_ratio=False, prange=[-80, 80, -320, 320])\n",
    "        plot_beam(beam, \"size\", direction='y', aspect_ratio=True, prange=[-80, 80, -80, 80])"
   ]
  },
  {
   "cell_type": "code",
   "execution_count": null,
   "metadata": {},
   "outputs": [],
   "source": [
    "if KB_A_cromag and dispersion_2d:\n",
    "    simulations = sorted(glob(rf\".\\results\\pyoptix\\{directory}\\*_M1C_G2400_{focus}_@_{exp}_E3000eV_20000_rays.csv\"))\n",
    "    for sim in simulations:\n",
    "        print(re.search(pattern, sim).group(0))\n",
    "        beam = xbm.read_beam_from_csv(sim)\n",
    "        stats = xbm.get_beam_stats(beam, verbose=True)\n",
    "        plot_beam(beam, \"phase_space\", direction='x', aspect_ratio=False, prange=[-80, 80, -320, 320])\n",
    "        plot_beam(beam, \"phase_space\", direction='y', aspect_ratio=False, prange=[-80, 80, -320, 320])\n",
    "        plot_beam(beam, \"size\", direction='y', aspect_ratio=True, prange=[-80, 80, -80, 80])"
   ]
  },
  {
   "cell_type": "code",
   "execution_count": null,
   "metadata": {},
   "outputs": [],
   "source": [
    "if KB_A_cromag and dispersion_2d:\n",
    "    simulations = sorted(glob(rf\".\\results\\pyoptix\\{directory}\\*_M1C_G2400_{focus}_@_{exp}_E4000eV_20000_rays.csv\"))\n",
    "    for sim in simulations:\n",
    "        print(re.search(pattern, sim).group(0))\n",
    "        beam = xbm.read_beam_from_csv(sim)\n",
    "        stats = xbm.get_beam_stats(beam, verbose=True)\n",
    "        plot_beam(beam, \"phase_space\", direction='x', aspect_ratio=False, prange=[-80, 80, -320, 320])\n",
    "        plot_beam(beam, \"phase_space\", direction='y', aspect_ratio=False, prange=[-80, 80, -320, 320])\n",
    "        plot_beam(beam, \"size\", direction='y', aspect_ratio=True, prange=[-80, 80, -80, 80])"
   ]
  },
  {
   "cell_type": "markdown",
   "metadata": {},
   "source": [
    "### KB A - mk2T"
   ]
  },
  {
   "cell_type": "code",
   "execution_count": null,
   "metadata": {},
   "outputs": [],
   "source": [
    "focus = 'WLT_A'\n",
    "exp = 'mk2T'\n",
    "directory = 'sample_II'\n",
    "\n",
    "if KB_A_mk2T:\n",
    "    source = 'SII'\n",
    "    stats_LE_B_SII = xbm.load_stats_from_csv(rf\".\\results\\pyoptix\\{directory}\\{source}_M1B_G1600_{focus}_@_{exp}_energy_scan_20000_rays_stats.csv\")\n",
    "    stats_LE_C_SII = xbm.load_stats_from_csv(rf\".\\results\\pyoptix\\{directory}\\{source}_M1C_G1600_{focus}_@_{exp}_energy_scan_20000_rays_stats.csv\")\n",
    "    stats_HE_C_SII = xbm.load_stats_from_csv(rf\".\\results\\pyoptix\\{directory}\\{source}_M1C_G2400_{focus}_@_{exp}_energy_scan_20000_rays_stats.csv\")\n",
    "\n",
    "    configs = [stats_LE_B_SII, stats_LE_C_SII, stats_HE_C_SII]\n",
    "    labels = ['LE/G1600/cff=0.2',\n",
    "              'HE/G1600/cff=0.2',\n",
    "              'HE/G2400/$\\Omega$=0.692']\n",
    "    colours = [0, 1, 2]"
   ]
  },
  {
   "cell_type": "code",
   "execution_count": null,
   "metadata": {},
   "outputs": [],
   "source": [
    "if KB_A_mk2T:\n",
    "    print(\">>>>>>>>>>>>>>>>>>>>>> VERTICAL\")\n",
    "    direction = \"Y\"\n",
    "    caracteristic = \"sigma\"\n",
    "    prange = [e0, ef+(ei-e0), 0, 210]\n",
    "    type_of_plot = [\"Beam size\",\"rms (µm)\", direction, caracteristic, \"std\"]\n",
    "    plot_scan(configs, labels, type_of_plot, prange,  colours=colours)\n",
    "    prange = [e0, ef+(ei-e0), -1.5, 1.5]\n",
    "    type_of_plot = [\"Moments\",\"Skewness\", direction, caracteristic, \"skew\"]\n",
    "    plot_scan(configs, labels, type_of_plot, prange, colours=colours)\n",
    "    prange = [e0, ef+(ei-e0), -1.5, 1.5]\n",
    "    type_of_plot = [\"Moments\",\"Excess Kurtosis\", direction, caracteristic, \"kurtosis\"]\n",
    "    plot_scan(configs, labels, type_of_plot, prange, colours=colours)\n",
    "    direction = \"Y\"\n",
    "    caracteristic = \"sigma_p\"\n",
    "    prange = [e0, ef+(ei-e0), 0, 110]\n",
    "    type_of_plot = [\"beam divergence\",\"rms (µrad)\", direction, caracteristic, \"std\"]\n",
    "    plot_scan(configs, labels, type_of_plot, prange, colours=colours)\n",
    "\n",
    "\n",
    "    print(\">>>>>>>>>>>>>>>>>>>>>> HORIZONTAL\")\n",
    "    direction = \"X\"\n",
    "    caracteristic = \"sigma\"\n",
    "    prange = [e0, ef+(ei-e0), 0, 210]\n",
    "    type_of_plot = [\"Beam size\",\"rms (µm)\", direction, caracteristic, \"std\"]\n",
    "    plot_scan(configs, labels, type_of_plot, prange,  colours=colours)\n",
    "    prange = [e0, ef+(ei-e0), -1.5, 1.5]\n",
    "    type_of_plot = [\"Moments\",\"Skewness\", direction, caracteristic, \"skew\"]\n",
    "    plot_scan(configs, labels, type_of_plot, prange, colours=colours)\n",
    "    prange = [e0, ef+(ei-e0), -1.5, 1.5]\n",
    "    type_of_plot = [\"Moments\",\"Excess Kurtosis\", direction, caracteristic, \"kurtosis\"]\n",
    "    plot_scan(configs, labels, type_of_plot, prange, colours=colours)\n",
    "    direction = \"X\"\n",
    "    caracteristic = \"sigma_p\"\n",
    "    prange = [e0, ef+(ei-e0), 0, 110]\n",
    "    type_of_plot = [\"beam divergence\",\"rms (µrad)\", direction, caracteristic, \"std\"]\n",
    "    plot_scan(configs, labels, type_of_plot, prange, colours=colours)\n"
   ]
  },
  {
   "cell_type": "code",
   "execution_count": null,
   "metadata": {},
   "outputs": [],
   "source": [
    "if KB_A_mk2T and dispersion_2d:\n",
    "    simulations = sorted(glob(rf\".\\results\\pyoptix\\{directory}\\*_M1B_G1600_{focus}_@_{exp}_E350eV_20000_rays.csv\"))\n",
    "    for sim in simulations:\n",
    "        print(re.search(pattern, sim).group(0))\n",
    "        beam = xbm.read_beam_from_csv(sim)\n",
    "        stats = xbm.get_beam_stats(beam, verbose=True)\n",
    "        plot_beam(beam, \"phase_space\", direction='x', aspect_ratio=False, prange=[-650, 650, -320, 320])\n",
    "        plot_beam(beam, \"phase_space\", direction='y', aspect_ratio=False, prange=[-650, 650, -320, 320])\n",
    "        plot_beam(beam, \"size\", direction='y', aspect_ratio=True, prange=[-650, 650, -650, 650])"
   ]
  },
  {
   "cell_type": "code",
   "execution_count": null,
   "metadata": {},
   "outputs": [],
   "source": [
    "if KB_A_mk2T and dispersion_2d:\n",
    "    simulations = sorted(glob(rf\".\\results\\pyoptix\\{directory}\\*_M1C_G1600_{focus}_@_{exp}_E1500eV_20000_rays.csv\"))\n",
    "    for sim in simulations:\n",
    "        print(re.search(pattern, sim).group(0))\n",
    "        beam = xbm.read_beam_from_csv(sim)\n",
    "        stats = xbm.get_beam_stats(beam, verbose=True)\n",
    "        plot_beam(beam, \"phase_space\", direction='x', aspect_ratio=False, prange=[-650, 650, -320, 320])\n",
    "        plot_beam(beam, \"phase_space\", direction='y', aspect_ratio=False, prange=[-650, 650, -320, 320])\n",
    "        plot_beam(beam, \"size\", direction='y', aspect_ratio=True, prange=[-650, 650, -650, 650])"
   ]
  },
  {
   "cell_type": "code",
   "execution_count": null,
   "metadata": {},
   "outputs": [],
   "source": [
    "if KB_A_mk2T and dispersion_2d:\n",
    "    simulations = sorted(glob(rf\".\\results\\pyoptix\\{directory}\\*_M1C_G2400_{focus}_@_{exp}_E1500eV_20000_rays.csv\"))\n",
    "    for sim in simulations:\n",
    "        print(re.search(pattern, sim).group(0))\n",
    "        beam = xbm.read_beam_from_csv(sim)\n",
    "        stats = xbm.get_beam_stats(beam, verbose=True)\n",
    "        plot_beam(beam, \"phase_space\", direction='x', aspect_ratio=False, prange=[-650, 650, -320, 320])\n",
    "        plot_beam(beam, \"phase_space\", direction='y', aspect_ratio=False, prange=[-650, 650, -320, 320])\n",
    "        plot_beam(beam, \"size\", direction='y', aspect_ratio=True, prange=[-650, 650, -650, 650])"
   ]
  },
  {
   "cell_type": "code",
   "execution_count": null,
   "metadata": {},
   "outputs": [],
   "source": [
    "if KB_A_mk2T and dispersion_2d:\n",
    "    simulations = sorted(glob(rf\".\\results\\pyoptix\\{directory}\\*_M1C_G2400_{focus}_@_{exp}_E2000eV_20000_rays.csv\"))\n",
    "    for sim in simulations:\n",
    "        print(re.search(pattern, sim).group(0))\n",
    "        beam = xbm.read_beam_from_csv(sim)\n",
    "        stats = xbm.get_beam_stats(beam, verbose=True)\n",
    "        plot_beam(beam, \"phase_space\", direction='x', aspect_ratio=False, prange=[-650, 650, -320, 320])\n",
    "        plot_beam(beam, \"phase_space\", direction='y', aspect_ratio=False, prange=[-650, 650, -320, 320])\n",
    "        plot_beam(beam, \"size\", direction='y', aspect_ratio=True, prange=[-650, 650, -650, 650])"
   ]
  },
  {
   "cell_type": "code",
   "execution_count": null,
   "metadata": {},
   "outputs": [],
   "source": [
    "if KB_A_mk2T and dispersion_2d:\n",
    "    simulations = sorted(glob(rf\".\\results\\pyoptix\\{directory}\\*_M1C_G2400_{focus}_@_{exp}_E3000eV_20000_rays.csv\"))\n",
    "    for sim in simulations:\n",
    "        print(re.search(pattern, sim).group(0))\n",
    "        beam = xbm.read_beam_from_csv(sim)\n",
    "        stats = xbm.get_beam_stats(beam, verbose=True)\n",
    "        plot_beam(beam, \"phase_space\", direction='x', aspect_ratio=False, prange=[-650, 650, -320, 320])\n",
    "        plot_beam(beam, \"phase_space\", direction='y', aspect_ratio=False, prange=[-650, 650, -320, 320])\n",
    "        plot_beam(beam, \"size\", direction='y', aspect_ratio=True, prange=[-650, 650, -650, 650])"
   ]
  },
  {
   "cell_type": "code",
   "execution_count": null,
   "metadata": {},
   "outputs": [],
   "source": [
    "if KB_A_mk2T and dispersion_2d:\n",
    "    simulations = sorted(glob(rf\".\\results\\pyoptix\\{directory}\\*_M1C_G2400_{focus}_@_{exp}_E4000eV_20000_rays.csv\"))\n",
    "    for sim in simulations:\n",
    "        print(re.search(pattern, sim).group(0))\n",
    "        beam = xbm.read_beam_from_csv(sim)\n",
    "        stats = xbm.get_beam_stats(beam, verbose=True)\n",
    "        plot_beam(beam, \"phase_space\", direction='x', aspect_ratio=False, prange=[-650, 650, -320, 320])\n",
    "        plot_beam(beam, \"phase_space\", direction='y', aspect_ratio=False, prange=[-650, 650, -320, 320])\n",
    "        plot_beam(beam, \"size\", direction='y', aspect_ratio=True, prange=[-650, 650, -650, 650])"
   ]
  },
  {
   "cell_type": "markdown",
   "metadata": {},
   "source": [
    "### Wolter B - cromag"
   ]
  },
  {
   "cell_type": "code",
   "execution_count": null,
   "metadata": {},
   "outputs": [],
   "source": [
    "focus = 'WLT_B'\n",
    "exp = 'cromag'\n",
    "directory = 'sample'\n",
    "\n",
    "if wolter_B_cromag:\n",
    "    source = 'U52'\n",
    "    stats_LE_B = xbm.load_stats_from_csv(rf\".\\results\\pyoptix\\{directory}\\{source}_M1B_G1600_{focus}_@_{exp}_energy_scan_20000_rays_stats.csv\")\n",
    "    stats_LE_C = xbm.load_stats_from_csv(rf\".\\results\\pyoptix\\{directory}\\{source}_M1C_G1600_{focus}_@_{exp}_energy_scan_20000_rays_stats.csv\")\n",
    "    stats_HE_C = xbm.load_stats_from_csv(rf\".\\results\\pyoptix\\{directory}\\{source}_M1C_G2400_{focus}_@_{exp}_energy_scan_20000_rays_stats.csv\")\n",
    "    source = 'SII'\n",
    "    stats_LE_B_SII = xbm.load_stats_from_csv(rf\".\\results\\pyoptix\\{directory}\\{source}_M1B_G1600_{focus}_@_{exp}_energy_scan_20000_rays_stats.csv\")\n",
    "    stats_LE_C_SII = xbm.load_stats_from_csv(rf\".\\results\\pyoptix\\{directory}\\{source}_M1C_G1600_{focus}_@_{exp}_energy_scan_20000_rays_stats.csv\")\n",
    "    stats_HE_C_SII = xbm.load_stats_from_csv(rf\".\\results\\pyoptix\\{directory}\\{source}_M1C_G2400_{focus}_@_{exp}_energy_scan_20000_rays_stats.csv\")\n",
    "\n",
    "    configs = [stats_LE_B, stats_LE_B_SII, stats_LE_C, stats_LE_C_SII, stats_HE_C, stats_HE_C_SII]\n",
    "    labels = ['LE/G1600/cff=0.2', '(small $\\epsilon$)',\n",
    "            'HE/G1600/cff=0.2', '(small $\\epsilon$)',\n",
    "            'HE/2400/$\\Omega$=0.692', '(small $\\epsilon$)']\n",
    "\n",
    "    colours = [0, 3, 1, 4, 2, 5]"
   ]
  },
  {
   "cell_type": "code",
   "execution_count": null,
   "metadata": {},
   "outputs": [],
   "source": [
    "if wolter_B_cromag:\n",
    "    print(\">>>>>>>>>>>>>>>>>>>>>> VERTICAL\")\n",
    "    direction = \"Y\"\n",
    "    caracteristic = \"sigma\"\n",
    "    prange = [e0, ef+(ei-e0), 25, 200]\n",
    "    type_of_plot = [\"Beam size\",\"rms (µm)\", direction, caracteristic, \"std\"]\n",
    "    plot_scan(configs, labels, type_of_plot, prange,  colours=colours)\n",
    "    prange = [e0, ef+(ei-e0), -0.3, 0.30]\n",
    "    type_of_plot = [\"Moments\",\"Skewness\", direction, caracteristic, \"skew\"]\n",
    "    plot_scan(configs, labels, type_of_plot, prange, colours=colours)\n",
    "    prange = [e0, ef+(ei-e0), -0.3, 0.3]\n",
    "    type_of_plot = [\"Moments\",\"Excess Kurtosis\", direction, caracteristic, \"kurtosis\"]\n",
    "    plot_scan(configs, labels, type_of_plot, prange, colours=colours)\n",
    "    direction = \"Y\"\n",
    "    caracteristic = \"sigma_p\"\n",
    "    prange = [e0, ef+(ei-e0), 15, 120]\n",
    "    type_of_plot = [\"beam divergence\",\"rms (µrad)\", direction, caracteristic, \"std\"]\n",
    "    plot_scan(configs, labels, type_of_plot, prange, colours=colours)\n",
    "\n",
    "    print(\">>>>>>>>>>>>>>>>>>>>>> HORIZONTAL\")\n",
    "    direction = \"X\"\n",
    "    caracteristic = \"sigma\"\n",
    "    prange = [e0, ef+(ei-e0), 150, 600]\n",
    "    type_of_plot = [\"Beam size\",\"rms (µm)\", direction, caracteristic, \"std\"]\n",
    "    plot_scan(configs, labels, type_of_plot, prange,  colours=colours)\n",
    "    prange = [e0, ef+(ei-e0), -0.3, 0.30]\n",
    "    type_of_plot = [\"Moments\",\"Skewness\", direction, caracteristic, \"skew\"]\n",
    "    plot_scan(configs, labels, type_of_plot, prange, colours=colours)\n",
    "    prange = [e0, ef+(ei-e0), -0.3, 0.3]\n",
    "    type_of_plot = [\"Moments\",\"Excess Kurtosis\", direction, caracteristic, \"kurtosis\"]\n",
    "    plot_scan(configs, labels, type_of_plot, prange, colours=colours)\n",
    "    direction = \"X\"\n",
    "    caracteristic = \"sigma_p\"\n",
    "    prange = [e0, ef+(ei-e0), 50, 320]\n",
    "    type_of_plot = [\"beam divergence\",\"rms (µrad)\", direction, caracteristic, \"std\"]\n",
    "    plot_scan(configs, labels, type_of_plot, prange, colours=colours)"
   ]
  },
  {
   "cell_type": "code",
   "execution_count": null,
   "metadata": {},
   "outputs": [],
   "source": [
    "if wolter_B_cromag and dispersion_2d:\n",
    "    simulations = sorted(glob(r\".\\results\\pyoptix\\sample\\*_M1B_G1600_WLT_B_@_cromag_E350eV_20000_rays.csv\"))\n",
    "    for sim in simulations:\n",
    "        print(re.search(pattern, sim).group(0))\n",
    "        beam = xbm.read_beam_from_csv(sim)\n",
    "        stats = xbm.get_beam_stats(beam, verbose=True)\n",
    "        plot_beam(beam, \"phase_space\", direction='x', aspect_ratio=False, prange=[-2000, 2000, -1200, 1200])\n",
    "        plot_beam(beam, \"phase_space\", direction='y', aspect_ratio=False, prange=[-600, 600, -450, 450])\n",
    "        plot_beam(beam, \"size\", direction='y', aspect_ratio=False, prange=[-2000, 2000, -600, 600])"
   ]
  },
  {
   "cell_type": "code",
   "execution_count": null,
   "metadata": {},
   "outputs": [],
   "source": [
    "if wolter_B_cromag and dispersion_2d:\n",
    "    simulations = sorted(glob(r\".\\results\\pyoptix\\sample\\*_M1C_G1600_WLT_B_@_cromag_E1000eV_20000_rays.csv\"))\n",
    "    for sim in simulations:\n",
    "        print(re.search(pattern, sim).group(0))\n",
    "        beam = xbm.read_beam_from_csv(sim)\n",
    "        stats = xbm.get_beam_stats(beam, verbose=True)\n",
    "        plot_beam(beam, \"phase_space\", direction='x', aspect_ratio=False, prange=[-2000, 2000, -1200, 1200])\n",
    "        plot_beam(beam, \"phase_space\", direction='y', aspect_ratio=False, prange=[-600, 600, -450, 450])\n",
    "        plot_beam(beam, \"size\", direction='y', aspect_ratio=False, prange=[-2000, 2000, -600, 600])"
   ]
  },
  {
   "cell_type": "code",
   "execution_count": null,
   "metadata": {},
   "outputs": [],
   "source": [
    "if wolter_B_cromag and dispersion_2d:\n",
    "    simulations = sorted(glob(r\".\\results\\pyoptix\\sample\\*_M1C_G2400_WLT_B_@_cromag_E2000eV_20000_rays.csv\"))\n",
    "    for sim in simulations:\n",
    "        print(re.search(pattern, sim).group(0))\n",
    "        beam = xbm.read_beam_from_csv(sim)\n",
    "        stats = xbm.get_beam_stats(beam, verbose=True)\n",
    "        plot_beam(beam, \"phase_space\", direction='x', aspect_ratio=False, prange=[-2000, 2000, -1200, 1200])\n",
    "        plot_beam(beam, \"phase_space\", direction='y', aspect_ratio=False, prange=[-600, 600, -450, 450])\n",
    "        plot_beam(beam, \"size\", direction='y', aspect_ratio=False, prange=[-2000, 2000, -600, 600])"
   ]
  },
  {
   "cell_type": "markdown",
   "metadata": {},
   "source": [
    "### Wolter B - mk2T"
   ]
  },
  {
   "cell_type": "code",
   "execution_count": null,
   "metadata": {},
   "outputs": [],
   "source": [
    "focus = 'WLT_B'\n",
    "exp = 'mk2T'\n",
    "directory = 'sample'\n",
    "\n",
    "if wolter_B_mk2T:\n",
    "    source = 'U52'\n",
    "    stats_LE_B = xbm.load_stats_from_csv(rf\".\\results\\pyoptix\\{directory}\\{source}_M1B_G1600_{focus}_@_{exp}_energy_scan_20000_rays_stats.csv\")\n",
    "    stats_LE_C = xbm.load_stats_from_csv(rf\".\\results\\pyoptix\\{directory}\\{source}_M1C_G1600_{focus}_@_{exp}_energy_scan_20000_rays_stats.csv\")\n",
    "    stats_HE_C = xbm.load_stats_from_csv(rf\".\\results\\pyoptix\\{directory}\\{source}_M1C_G2400_{focus}_@_{exp}_energy_scan_20000_rays_stats.csv\")\n",
    "    source = 'SII'\n",
    "    stats_LE_B_SII = xbm.load_stats_from_csv(rf\".\\results\\pyoptix\\{directory}\\{source}_M1B_G1600_{focus}_@_{exp}_energy_scan_20000_rays_stats.csv\")\n",
    "    stats_LE_C_SII = xbm.load_stats_from_csv(rf\".\\results\\pyoptix\\{directory}\\{source}_M1C_G1600_{focus}_@_{exp}_energy_scan_20000_rays_stats.csv\")\n",
    "    stats_HE_C_SII = xbm.load_stats_from_csv(rf\".\\results\\pyoptix\\{directory}\\{source}_M1C_G2400_{focus}_@_{exp}_energy_scan_20000_rays_stats.csv\")\n",
    "\n",
    "    configs = [stats_LE_B, stats_LE_B_SII, stats_LE_C, stats_LE_C_SII, stats_HE_C, stats_HE_C_SII]\n",
    "    labels = ['LE/G1600/cff=0.2', '(small $\\epsilon$)',\n",
    "            'HE/G1600/cff=0.2', '(small $\\epsilon$)',\n",
    "            'HE/2400/$\\Omega$=0.692', '(small $\\epsilon$)']\n",
    "\n",
    "    colours = [0, 3, 1, 4, 2, 5]"
   ]
  },
  {
   "cell_type": "code",
   "execution_count": null,
   "metadata": {},
   "outputs": [],
   "source": [
    "if wolter_B_mk2T:\n",
    "    print(\">>>>>>>>>>>>>>>>>>>>>> VERTICAL\")\n",
    "    direction = \"Y\"\n",
    "    caracteristic = \"sigma\"\n",
    "    prange = [e0, ef+(ei-e0), 0, 17]\n",
    "    type_of_plot = [\"Beam size\",\"rms (µm)\", direction, caracteristic, \"std\"]\n",
    "    plot_scan(configs, labels, type_of_plot, prange,  colours=colours)\n",
    "    prange = [e0, ef+(ei-e0), -0.3, 0.30]\n",
    "    type_of_plot = [\"Moments\",\"Skewness\", direction, caracteristic, \"skew\"]\n",
    "    plot_scan(configs, labels, type_of_plot, prange, colours=colours)\n",
    "    prange = [e0, ef+(ei-e0), -0.3, 0.3]\n",
    "    type_of_plot = [\"Moments\",\"Excess Kurtosis\", direction, caracteristic, \"kurtosis\"]\n",
    "    plot_scan(configs, labels, type_of_plot, prange, colours=colours)\n",
    "    direction = \"Y\"\n",
    "    caracteristic = \"sigma_p\"\n",
    "    prange = [e0, ef+(ei-e0), 15, 120]\n",
    "    type_of_plot = [\"beam divergence\",\"rms (µrad)\", direction, caracteristic, \"std\"]\n",
    "    plot_scan(configs, labels, type_of_plot, prange, colours=colours)\n",
    "\n",
    "    print(\">>>>>>>>>>>>>>>>>>>>>> HORIZONTAL\")\n",
    "    direction = \"X\"\n",
    "    caracteristic = \"sigma\"\n",
    "\n",
    "    prange = [e0, ef+(ei-e0), None, None]\n",
    "    type_of_plot = [\"Beam size\",\"rms (µm)\", direction, caracteristic, \"std\"]\n",
    "    plot_scan(configs, labels, type_of_plot, prange,  colours=colours)\n",
    "    prange = [e0, ef+(ei-e0), -0.3, 0.30]\n",
    "    type_of_plot = [\"Moments\",\"Skewness\", direction, caracteristic, \"skew\"]\n",
    "    plot_scan(configs, labels, type_of_plot, prange, colours=colours)\n",
    "    prange = [e0, ef+(ei-e0), -0.3, 0.3]\n",
    "    type_of_plot = [\"Moments\",\"Excess Kurtosis\", direction, caracteristic, \"kurtosis\"]\n",
    "    plot_scan(configs, labels, type_of_plot, prange, colours=colours)\n",
    "    direction = \"X\"\n",
    "    caracteristic = \"sigma_p\"\n",
    "    prange = [e0, ef+(ei-e0), 50, 320]\n",
    "    type_of_plot = [\"beam divergence\",\"rms (µrad)\", direction, caracteristic, \"std\"]\n",
    "    plot_scan(configs, labels, type_of_plot, prange, colours=colours)"
   ]
  },
  {
   "cell_type": "code",
   "execution_count": null,
   "metadata": {},
   "outputs": [],
   "source": [
    "if wolter_B_mk2T and dispersion_2d:\n",
    "    simulations = sorted(glob(r\".\\results\\pyoptix\\sample\\*_M1B_G1600_WLT_B_@_mk2T_E350eV_20000_rays.csv\"))\n",
    "    for sim in simulations:\n",
    "        print(re.search(pattern, sim).group(0))\n",
    "        beam = xbm.read_beam_from_csv(sim)\n",
    "        stats = xbm.get_beam_stats(beam, verbose=True)\n",
    "        plot_beam(beam, \"phase_space\", direction='x', aspect_ratio=False, prange=[-150, 150, -1200, 1200])\n",
    "        plot_beam(beam, \"phase_space\", direction='y', aspect_ratio=False, prange=[-60, 60, -450, 450])\n",
    "        plot_beam(beam, \"size\", direction='y', aspect_ratio=False, prange=[-150, 150, -60, 60])"
   ]
  },
  {
   "cell_type": "code",
   "execution_count": null,
   "metadata": {},
   "outputs": [],
   "source": [
    "if wolter_B_mk2T and dispersion_2d:\n",
    "    simulations = sorted(glob(r\".\\results\\pyoptix\\sample\\*_M1C_G1600_WLT_B_@_mk2T_E1000eV_20000_rays.csv\"))\n",
    "    for sim in simulations:\n",
    "        print(re.search(pattern, sim).group(0))\n",
    "        beam = xbm.read_beam_from_csv(sim)\n",
    "        stats = xbm.get_beam_stats(beam, verbose=True)\n",
    "        plot_beam(beam, \"phase_space\", direction='x', aspect_ratio=False, prange=[-150, 150, -1200, 1200])\n",
    "        plot_beam(beam, \"phase_space\", direction='y', aspect_ratio=False, prange=[-60, 60, -450, 450])\n",
    "        plot_beam(beam, \"size\", direction='y', aspect_ratio=False, prange=[-150, 150, -60, 60])"
   ]
  },
  {
   "cell_type": "code",
   "execution_count": null,
   "metadata": {},
   "outputs": [],
   "source": [
    "if wolter_B_mk2T and dispersion_2d:\n",
    "    simulations = sorted(glob(r\".\\results\\pyoptix\\sample\\*_M1C_G2400_WLT_B_@_mk2T_E2000eV_20000_rays.csv\"))\n",
    "    for sim in simulations:\n",
    "        print(re.search(pattern, sim).group(0))\n",
    "        beam = xbm.read_beam_from_csv(sim)\n",
    "        stats = xbm.get_beam_stats(beam, verbose=True)\n",
    "        plot_beam(beam, \"phase_space\", direction='x', aspect_ratio=False, prange=[-150, 150, -1200, 1200])\n",
    "        plot_beam(beam, \"phase_space\", direction='y', aspect_ratio=False, prange=[-60, 60, -450, 450])\n",
    "        plot_beam(beam, \"size\", direction='y', aspect_ratio=False, prange=[-150, 150, -60, 60])"
   ]
  },
  {
   "cell_type": "markdown",
   "metadata": {},
   "source": [
    "### KB B - cromag"
   ]
  },
  {
   "cell_type": "code",
   "execution_count": null,
   "metadata": {},
   "outputs": [],
   "source": [
    "focus = 'WLT_B'\n",
    "exp = 'cromag'\n",
    "directory = 'sample_II'\n",
    "\n",
    "if KB_B_cromag:\n",
    "    source = 'SII'\n",
    "    stats_LE_B_SII = xbm.load_stats_from_csv(rf\".\\results\\pyoptix\\{directory}\\{source}_M1B_G1600_{focus}_@_{exp}_energy_scan_20000_rays_stats.csv\")\n",
    "    stats_LE_C_SII = xbm.load_stats_from_csv(rf\".\\results\\pyoptix\\{directory}\\{source}_M1C_G1600_{focus}_@_{exp}_energy_scan_20000_rays_stats.csv\")\n",
    "    stats_HE_C_SII = xbm.load_stats_from_csv(rf\".\\results\\pyoptix\\{directory}\\{source}_M1C_G2400_{focus}_@_{exp}_energy_scan_20000_rays_stats.csv\")\n",
    "\n",
    "    configs = [stats_LE_B_SII, stats_LE_C_SII, stats_HE_C_SII]\n",
    "    labels = ['LE/G1600/cff=0.2',\n",
    "              'HE/G1600/cff=0.2',\n",
    "              'HE/G2400/$\\Omega$=0.692']\n",
    "    colours = [0, 1, 2]"
   ]
  },
  {
   "cell_type": "code",
   "execution_count": null,
   "metadata": {},
   "outputs": [],
   "source": [
    "if KB_B_cromag:\n",
    "    print(\">>>>>>>>>>>>>>>>>>>>>> VERTICAL\")\n",
    "    direction = \"Y\"\n",
    "    caracteristic = \"sigma\"\n",
    "    prange = [e0, ef+(ei-e0), 0, 210]\n",
    "    type_of_plot = [\"Beam size\",\"rms (µm)\", direction, caracteristic, \"std\"]\n",
    "    plot_scan(configs, labels, type_of_plot, prange,  colours=colours)\n",
    "    prange = [e0, ef+(ei-e0), -1.5, 1.5]\n",
    "    type_of_plot = [\"Moments\",\"Skewness\", direction, caracteristic, \"skew\"]\n",
    "    plot_scan(configs, labels, type_of_plot, prange, colours=colours)\n",
    "    prange = [e0, ef+(ei-e0), -1.5, 1.5]\n",
    "    type_of_plot = [\"Moments\",\"Excess Kurtosis\", direction, caracteristic, \"kurtosis\"]\n",
    "    plot_scan(configs, labels, type_of_plot, prange, colours=colours)\n",
    "    direction = \"Y\"\n",
    "    caracteristic = \"sigma_p\"\n",
    "    prange = [e0, ef+(ei-e0), 0, 110]\n",
    "    type_of_plot = [\"beam divergence\",\"rms (µrad)\", direction, caracteristic, \"std\"]\n",
    "    plot_scan(configs, labels, type_of_plot, prange, colours=colours)\n",
    "\n",
    "\n",
    "    print(\">>>>>>>>>>>>>>>>>>>>>> HORIZONTAL\")\n",
    "    direction = \"X\"\n",
    "    caracteristic = \"sigma\"\n",
    "    prange = [e0, ef+(ei-e0), 0, 210]\n",
    "    type_of_plot = [\"Beam size\",\"rms (µm)\", direction, caracteristic, \"std\"]\n",
    "    plot_scan(configs, labels, type_of_plot, prange,  colours=colours)\n",
    "    prange = [e0, ef+(ei-e0), -1.5, 1.5]\n",
    "    type_of_plot = [\"Moments\",\"Skewness\", direction, caracteristic, \"skew\"]\n",
    "    plot_scan(configs, labels, type_of_plot, prange, colours=colours)\n",
    "    prange = [e0, ef+(ei-e0), -1.5, 1.5]\n",
    "    type_of_plot = [\"Moments\",\"Excess Kurtosis\", direction, caracteristic, \"kurtosis\"]\n",
    "    plot_scan(configs, labels, type_of_plot, prange, colours=colours)\n",
    "    direction = \"X\"\n",
    "    caracteristic = \"sigma_p\"\n",
    "    prange = [e0, ef+(ei-e0), 0, 110]\n",
    "    type_of_plot = [\"beam divergence\",\"rms (µrad)\", direction, caracteristic, \"std\"]\n",
    "    plot_scan(configs, labels, type_of_plot, prange, colours=colours)\n"
   ]
  },
  {
   "cell_type": "code",
   "execution_count": null,
   "metadata": {},
   "outputs": [],
   "source": [
    "if KB_B_cromag and dispersion_2d:\n",
    "    simulations = sorted(glob(rf\".\\results\\pyoptix\\{directory}\\*_M1B_G1600_{focus}_@_{exp}_E350eV_20000_rays.csv\"))\n",
    "    for sim in simulations:\n",
    "        print(re.search(pattern, sim).group(0))\n",
    "        beam = xbm.read_beam_from_csv(sim)\n",
    "        stats = xbm.get_beam_stats(beam, verbose=True)\n",
    "        plot_beam(beam, \"phase_space\", direction='x', aspect_ratio=False, prange=[-650, 650, -320, 320])\n",
    "        plot_beam(beam, \"phase_space\", direction='y', aspect_ratio=False, prange=[-650, 650, -320, 320])\n",
    "        plot_beam(beam, \"size\", direction='y', aspect_ratio=True, prange=[-650, 650, -650, 650])"
   ]
  },
  {
   "cell_type": "code",
   "execution_count": null,
   "metadata": {},
   "outputs": [],
   "source": [
    "if KB_B_cromag and dispersion_2d:\n",
    "    simulations = sorted(glob(rf\".\\results\\pyoptix\\{directory}\\*_M1C_G1600_{focus}_@_{exp}_E1500eV_20000_rays.csv\"))\n",
    "    for sim in simulations:\n",
    "        print(re.search(pattern, sim).group(0))\n",
    "        beam = xbm.read_beam_from_csv(sim)\n",
    "        stats = xbm.get_beam_stats(beam, verbose=True)\n",
    "        plot_beam(beam, \"phase_space\", direction='x', aspect_ratio=False, prange=[-650, 650, -320, 320])\n",
    "        plot_beam(beam, \"phase_space\", direction='y', aspect_ratio=False, prange=[-650, 650, -320, 320])\n",
    "        plot_beam(beam, \"size\", direction='y', aspect_ratio=True, prange=[-650, 650, -650, 650])"
   ]
  },
  {
   "cell_type": "code",
   "execution_count": null,
   "metadata": {},
   "outputs": [],
   "source": [
    "if KB_B_cromag and dispersion_2d:\n",
    "    simulations = sorted(glob(rf\".\\results\\pyoptix\\{directory}\\*_M1C_G2400_{focus}_@_{exp}_E1500eV_20000_rays.csv\"))\n",
    "    for sim in simulations:\n",
    "        print(re.search(pattern, sim).group(0))\n",
    "        beam = xbm.read_beam_from_csv(sim)\n",
    "        stats = xbm.get_beam_stats(beam, verbose=True)\n",
    "        plot_beam(beam, \"phase_space\", direction='x', aspect_ratio=False, prange=[-650, 650, -320, 320])\n",
    "        plot_beam(beam, \"phase_space\", direction='y', aspect_ratio=False, prange=[-650, 650, -320, 320])\n",
    "        plot_beam(beam, \"size\", direction='y', aspect_ratio=True, prange=[-650, 650, -650, 650])"
   ]
  },
  {
   "cell_type": "code",
   "execution_count": null,
   "metadata": {},
   "outputs": [],
   "source": [
    "if KB_B_cromag and dispersion_2d:\n",
    "    simulations = sorted(glob(rf\".\\results\\pyoptix\\{directory}\\*_M1C_G2400_{focus}_@_{exp}_E2000eV_20000_rays.csv\"))\n",
    "    for sim in simulations:\n",
    "        print(re.search(pattern, sim).group(0))\n",
    "        beam = xbm.read_beam_from_csv(sim)\n",
    "        stats = xbm.get_beam_stats(beam, verbose=True)\n",
    "        plot_beam(beam, \"phase_space\", direction='x', aspect_ratio=False, prange=[-650, 650, -320, 320])\n",
    "        plot_beam(beam, \"phase_space\", direction='y', aspect_ratio=False, prange=[-650, 650, -320, 320])\n",
    "        plot_beam(beam, \"size\", direction='y', aspect_ratio=True, prange=[-650, 650, -650, 650])"
   ]
  },
  {
   "cell_type": "code",
   "execution_count": null,
   "metadata": {},
   "outputs": [],
   "source": [
    "if KB_B_cromag and dispersion_2d:\n",
    "    simulations = sorted(glob(rf\".\\results\\pyoptix\\{directory}\\*_M1C_G2400_{focus}_@_{exp}_E3000eV_20000_rays.csv\"))\n",
    "    for sim in simulations:\n",
    "        print(re.search(pattern, sim).group(0))\n",
    "        beam = xbm.read_beam_from_csv(sim)\n",
    "        stats = xbm.get_beam_stats(beam, verbose=True)\n",
    "        plot_beam(beam, \"phase_space\", direction='x', aspect_ratio=False, prange=[-650, 650, -320, 320])\n",
    "        plot_beam(beam, \"phase_space\", direction='y', aspect_ratio=False, prange=[-650, 650, -320, 320])\n",
    "        plot_beam(beam, \"size\", direction='y', aspect_ratio=True, prange=[-650, 650, -650, 650])"
   ]
  },
  {
   "cell_type": "code",
   "execution_count": null,
   "metadata": {},
   "outputs": [],
   "source": [
    "if KB_B_cromag and dispersion_2d:\n",
    "    simulations = sorted(glob(rf\".\\results\\pyoptix\\{directory}\\*_M1C_G2400_{focus}_@_{exp}_E4000eV_20000_rays.csv\"))\n",
    "    for sim in simulations:\n",
    "        print(re.search(pattern, sim).group(0))\n",
    "        beam = xbm.read_beam_from_csv(sim)\n",
    "        stats = xbm.get_beam_stats(beam, verbose=True)\n",
    "        plot_beam(beam, \"phase_space\", direction='x', aspect_ratio=False, prange=[-650, 650, -320, 320])\n",
    "        plot_beam(beam, \"phase_space\", direction='y', aspect_ratio=False, prange=[-650, 650, -320, 320])\n",
    "        plot_beam(beam, \"size\", direction='y', aspect_ratio=True, prange=[-650, 650, -650, 650])"
   ]
  },
  {
   "cell_type": "markdown",
   "metadata": {},
   "source": [
    "### KB B - mk2T"
   ]
  },
  {
   "cell_type": "code",
   "execution_count": null,
   "metadata": {},
   "outputs": [],
   "source": [
    "focus = 'WLT_B'\n",
    "exp = 'mk2T'\n",
    "directory = 'sample_II'\n",
    "\n",
    "if KB_B_mk2T:\n",
    "    source = 'SII'\n",
    "    stats_LE_B_SII = xbm.load_stats_from_csv(rf\".\\results\\pyoptix\\{directory}\\{source}_M1B_G1600_{focus}_@_{exp}_energy_scan_20000_rays_stats.csv\")\n",
    "    stats_LE_C_SII = xbm.load_stats_from_csv(rf\".\\results\\pyoptix\\{directory}\\{source}_M1C_G1600_{focus}_@_{exp}_energy_scan_20000_rays_stats.csv\")\n",
    "    stats_HE_C_SII = xbm.load_stats_from_csv(rf\".\\results\\pyoptix\\{directory}\\{source}_M1C_G2400_{focus}_@_{exp}_energy_scan_20000_rays_stats.csv\")\n",
    "\n",
    "    configs = [stats_LE_B_SII, stats_LE_C_SII, stats_HE_C_SII]\n",
    "    labels = ['LE/G1600/cff=0.2',\n",
    "              'HE/G1600/cff=0.2',\n",
    "              'HE/G2400/$\\Omega$=0.692']\n",
    "    colours = [0, 1, 2]"
   ]
  },
  {
   "cell_type": "code",
   "execution_count": null,
   "metadata": {},
   "outputs": [],
   "source": [
    "if KB_B_mk2T:\n",
    "    print(\">>>>>>>>>>>>>>>>>>>>>> VERTICAL\")\n",
    "    direction = \"Y\"\n",
    "    caracteristic = \"sigma\"\n",
    "    prange = [e0, ef+(ei-e0), 0, 22]\n",
    "    type_of_plot = [\"Beam size\",\"rms (µm)\", direction, caracteristic, \"std\"]\n",
    "    plot_scan(configs, labels, type_of_plot, prange,  colours=colours)\n",
    "    prange = [e0, ef+(ei-e0), -1.5, 1.5]\n",
    "    type_of_plot = [\"Moments\",\"Skewness\", direction, caracteristic, \"skew\"]\n",
    "    plot_scan(configs, labels, type_of_plot, prange, colours=colours)\n",
    "    prange = [e0, ef+(ei-e0), -1.5, 4]\n",
    "    type_of_plot = [\"Moments\",\"Excess Kurtosis\", direction, caracteristic, \"kurtosis\"]\n",
    "    plot_scan(configs, labels, type_of_plot, prange, colours=colours)\n",
    "    direction = \"Y\"\n",
    "    caracteristic = \"sigma_p\"\n",
    "    prange = [e0, ef+(ei-e0), 0, 110]\n",
    "    type_of_plot = [\"beam divergence\",\"rms (µrad)\", direction, caracteristic, \"std\"]\n",
    "    plot_scan(configs, labels, type_of_plot, prange, colours=colours)\n",
    "\n",
    "\n",
    "    print(\">>>>>>>>>>>>>>>>>>>>>> HORIZONTAL\")\n",
    "    direction = \"X\"\n",
    "    caracteristic = \"sigma\"\n",
    "    prange = [e0, ef+(ei-e0), 0, 22]\n",
    "    type_of_plot = [\"Beam size\",\"rms (µm)\", direction, caracteristic, \"std\"]\n",
    "    plot_scan(configs, labels, type_of_plot, prange,  colours=colours)\n",
    "    prange = [e0, ef+(ei-e0), -1.5, 1.5]\n",
    "    type_of_plot = [\"Moments\",\"Skewness\", direction, caracteristic, \"skew\"]\n",
    "    plot_scan(configs, labels, type_of_plot, prange, colours=colours)\n",
    "    prange = [e0, ef+(ei-e0), -1.5, 1.5]\n",
    "    type_of_plot = [\"Moments\",\"Excess Kurtosis\", direction, caracteristic, \"kurtosis\"]\n",
    "    plot_scan(configs, labels, type_of_plot, prange, colours=colours)\n",
    "    direction = \"X\"\n",
    "    caracteristic = \"sigma_p\"\n",
    "    prange = [e0, ef+(ei-e0), 0, 110]\n",
    "    type_of_plot = [\"beam divergence\",\"rms (µrad)\", direction, caracteristic, \"std\"]\n",
    "    plot_scan(configs, labels, type_of_plot, prange, colours=colours)\n"
   ]
  },
  {
   "cell_type": "code",
   "execution_count": null,
   "metadata": {},
   "outputs": [],
   "source": [
    "if KB_B_mk2T and dispersion_2d:\n",
    "    simulations = sorted(glob(rf\".\\results\\pyoptix\\{directory}\\*_M1B_G1600_{focus}_@_{exp}_E350eV_20000_rays.csv\"))\n",
    "    for sim in simulations:\n",
    "        print(re.search(pattern, sim).group(0))\n",
    "        beam = xbm.read_beam_from_csv(sim)\n",
    "        stats = xbm.get_beam_stats(beam, verbose=True)\n",
    "        plot_beam(beam, \"phase_space\", direction='x', aspect_ratio=False, prange=[-80, 80, -320, 320])\n",
    "        plot_beam(beam, \"phase_space\", direction='y', aspect_ratio=False, prange=[-80, 80, -320, 320])\n",
    "        plot_beam(beam, \"size\", direction='y', aspect_ratio=True, prange=[-80, 80, -80, 80])"
   ]
  },
  {
   "cell_type": "code",
   "execution_count": null,
   "metadata": {},
   "outputs": [],
   "source": [
    "if KB_B_mk2T and dispersion_2d:\n",
    "    simulations = sorted(glob(rf\".\\results\\pyoptix\\{directory}\\*_M1C_G1600_{focus}_@_{exp}_E1500eV_20000_rays.csv\"))\n",
    "    for sim in simulations:\n",
    "        print(re.search(pattern, sim).group(0))\n",
    "        beam = xbm.read_beam_from_csv(sim)\n",
    "        stats = xbm.get_beam_stats(beam, verbose=True)\n",
    "        plot_beam(beam, \"phase_space\", direction='x', aspect_ratio=False, prange=[-80, 80, -320, 320])\n",
    "        plot_beam(beam, \"phase_space\", direction='y', aspect_ratio=False, prange=[-80, 80, -320, 320])\n",
    "        plot_beam(beam, \"size\", direction='y', aspect_ratio=True, prange=[-80, 80, -80, 80])"
   ]
  },
  {
   "cell_type": "code",
   "execution_count": null,
   "metadata": {},
   "outputs": [],
   "source": [
    "if KB_B_mk2T and dispersion_2d:\n",
    "    simulations = sorted(glob(rf\".\\results\\pyoptix\\{directory}\\*_M1C_G2400_{focus}_@_{exp}_E1500eV_20000_rays.csv\"))\n",
    "    for sim in simulations:\n",
    "        print(re.search(pattern, sim).group(0))\n",
    "        beam = xbm.read_beam_from_csv(sim)\n",
    "        stats = xbm.get_beam_stats(beam, verbose=True)\n",
    "        plot_beam(beam, \"phase_space\", direction='x', aspect_ratio=False, prange=[-80, 80, -320, 320])\n",
    "        plot_beam(beam, \"phase_space\", direction='y', aspect_ratio=False, prange=[-80, 80, -320, 320])\n",
    "        plot_beam(beam, \"size\", direction='y', aspect_ratio=True, prange=[-80, 80, -80, 80])"
   ]
  },
  {
   "cell_type": "code",
   "execution_count": null,
   "metadata": {},
   "outputs": [],
   "source": [
    "if KB_B_mk2T and dispersion_2d:\n",
    "    simulations = sorted(glob(rf\".\\results\\pyoptix\\{directory}\\*_M1C_G2400_{focus}_@_{exp}_E2000eV_20000_rays.csv\"))\n",
    "    for sim in simulations:\n",
    "        print(re.search(pattern, sim).group(0))\n",
    "        beam = xbm.read_beam_from_csv(sim)\n",
    "        stats = xbm.get_beam_stats(beam, verbose=True)\n",
    "        plot_beam(beam, \"phase_space\", direction='x', aspect_ratio=False, prange=[-80, 80, -320, 320])\n",
    "        plot_beam(beam, \"phase_space\", direction='y', aspect_ratio=False, prange=[-80, 80, -320, 320])\n",
    "        plot_beam(beam, \"size\", direction='y', aspect_ratio=True, prange=[-80, 80, -80, 80])"
   ]
  },
  {
   "cell_type": "code",
   "execution_count": null,
   "metadata": {},
   "outputs": [],
   "source": [
    "if KB_B_mk2T and dispersion_2d:\n",
    "    simulations = sorted(glob(rf\".\\results\\pyoptix\\{directory}\\*_M1C_G2400_{focus}_@_{exp}_E3000eV_20000_rays.csv\"))\n",
    "    for sim in simulations:\n",
    "        print(re.search(pattern, sim).group(0))\n",
    "        beam = xbm.read_beam_from_csv(sim)\n",
    "        stats = xbm.get_beam_stats(beam, verbose=True)\n",
    "        plot_beam(beam, \"phase_space\", direction='x', aspect_ratio=False, prange=[-80, 80, -320, 320])\n",
    "        plot_beam(beam, \"phase_space\", direction='y', aspect_ratio=False, prange=[-80, 80, -320, 320])\n",
    "        plot_beam(beam, \"size\", direction='y', aspect_ratio=True, prange=[-80, 80, -80, 80])"
   ]
  },
  {
   "cell_type": "code",
   "execution_count": null,
   "metadata": {},
   "outputs": [],
   "source": [
    "if KB_B_mk2T and dispersion_2d:\n",
    "    simulations = sorted(glob(rf\".\\results\\pyoptix\\{directory}\\*_M1C_G2400_{focus}_@_{exp}_E4000eV_20000_rays.csv\"))\n",
    "    for sim in simulations:\n",
    "        print(re.search(pattern, sim).group(0))\n",
    "        beam = xbm.read_beam_from_csv(sim)\n",
    "        stats = xbm.get_beam_stats(beam, verbose=True)\n",
    "        plot_beam(beam, \"phase_space\", direction='x', aspect_ratio=False, prange=[-80, 80, -320, 320])\n",
    "        plot_beam(beam, \"phase_space\", direction='y', aspect_ratio=False, prange=[-80, 80, -320, 320])\n",
    "        plot_beam(beam, \"size\", direction='y', aspect_ratio=True, prange=[-80, 80, -80, 80])"
   ]
  }
 ],
 "metadata": {
  "kernelspec": {
   "display_name": "PyOptiX",
   "language": "python",
   "name": "python3"
  },
  "language_info": {
   "codemirror_mode": {
    "name": "ipython",
    "version": 3
   },
   "file_extension": ".py",
   "mimetype": "text/x-python",
   "name": "python",
   "nbconvert_exporter": "python",
   "pygments_lexer": "ipython3",
   "version": "3.11.9"
  }
 },
 "nbformat": 4,
 "nbformat_minor": 2
}
