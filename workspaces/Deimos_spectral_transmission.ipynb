{
 "cells": [
  {
   "cell_type": "markdown",
   "metadata": {},
   "source": [
    "<a id=\"toc\"></a>\n",
    "# Deimos beamline spectral transmission\n",
    "\n",
    "[rafael.celestre@synchrotron-soleil.fr](mailto:rafael.celestre@synchrotron-soleil.fr)\n",
    "\n",
    "Contents :\n",
    "1. [M1 system](#m1)\n",
    "1. [Monochromator](#mono)\n",
    "    1. [G1600](#G1600)\n",
    "    1. [G2400](#G2400)\n",
    "1. [Wolter focusing system](#wolter)\n",
    "1. [Photon flux](#flux)\n",
    "1. [Ideas for DEIMOS-II](#deimosii)\n",
    "***"
   ]
  },
  {
   "cell_type": "code",
   "execution_count": 113,
   "metadata": {},
   "outputs": [
    {
     "name": "stdout",
     "output_type": "stream",
     "text": [
      "c:\\Users\\rafae\\miniconda3\\envs\\PyOptiX\\python.exe\n",
      "3.11.9 | packaged by Anaconda, Inc. | (main, Apr 19 2024, 16:40:41) [MSC v.1916 64 bit (AMD64)]\n"
     ]
    }
   ],
   "source": [
    "__author__ = ['Rafael Celestre']\n",
    "__contact__ = 'rafael.celestre@synchrotron-soleil.fr'\n",
    "__license__ = 'GPL-3.0'\n",
    "__copyright__ = 'Synchrotron SOLEIL, Saint Aubin, France'\n",
    "__created__ = '09/05/2024'\n",
    "__changed__ = '21/10/2024'\n",
    "\n",
    "import re\n",
    "import sys\n",
    "from glob import glob\n",
    "from typing import Dict, List\n",
    "\n",
    "import h5py as h5\n",
    "import numpy as np\n",
    "import scipy.integrate as integrate\n",
    "from barc4plots.barc4plots import PlotManager\n",
    "from barc4xoc.aux_carpem import load_carpem_dataset\n",
    "from barc4xoc.grating import align_grating\n",
    "from barc4xoc.materials import ml_reflectivity_curve, reflectivity_curve\n",
    "from barc4xoc.misc import energy_wavelength\n",
    "from barc4xoc.plots import plot_tuning_curve\n",
    "from matplotlib.pylab import cm\n",
    "from scipy.constants import physical_constants\n",
    "\n",
    "CHARGE = physical_constants[\"atomic unit of charge\"][0]\n",
    "\n",
    "# checking we are using the correct python:\n",
    "print(sys.executable)\n",
    "print(sys.version)\n",
    "\n",
    "# %matplotlib widget\n"
   ]
  },
  {
   "cell_type": "markdown",
   "metadata": {},
   "source": [
    "<a id=\"m1\"></a>\n",
    "## M1 system\n",
    "[Back to the top](#toc)\n",
    "\n",
    "Current mirrors have either Pt (M1A/M1B) or Rh (M1C) coatings. Incident angles are either $\\theta=1.19°$ or \n",
    "$\\theta=2.53°$."
   ]
  },
  {
   "cell_type": "code",
   "execution_count": null,
   "metadata": {},
   "outputs": [],
   "source": [
    "e0, ei, ef, dE = 0, 250, 5000, 5\n",
    "ne = int((ef-ei)/dE)+1\n",
    "energy = np.linspace(ei, ef, ne)"
   ]
  },
  {
   "cell_type": "code",
   "execution_count": null,
   "metadata": {},
   "outputs": [],
   "source": [
    "Pt_1p19 = reflectivity_curve(\"Pt\", -1, 1.19, ei, ef, ne)\n",
    "Pt_2p53 = reflectivity_curve(\"Pt\", -1, 2.53, ei, ef, ne)\n",
    "Rh_1p20 = reflectivity_curve(\"Rh\", -1, 1.19, ei, ef, ne)"
   ]
  },
  {
   "cell_type": "code",
   "execution_count": null,
   "metadata": {},
   "outputs": [],
   "source": [
    "fig = PlotManager()\n",
    "\n",
    "fig.image, fig.x = Pt_2p53[\"reflectivity\"]**2, Pt_2p53[\"energy\"]\n",
    "fig.additional_info(\"M1 throughput\", \"energy [eV]\", \"efficiency ($\\eta$)\", xmin=e0, xmax=ef+(ei-e0), ymin=-0.03, ymax=1.03).aesthetics(LaTex=True, grid=True)\n",
    "fig.info_1d_plot(0, f'{Pt_2p53[\"material\"]} $\\\\times$ {Pt_2p53[\"material\"]} @ {Pt_2p53[\"theta\"]:.2f}°').plot_1d(enable=False)\n",
    "fig.image, fig.x = Pt_1p19[\"reflectivity\"]*Rh_1p20[\"reflectivity\"], Pt_1p19[\"energy\"]\n",
    "fig.info_1d_plot(1, f'{Pt_1p19[\"material\"]} $\\\\times$ {Rh_1p20[\"material\"]} @ {Pt_1p19[\"theta\"]:.2f}°').plot_1d(enable=True, hold=True)\n"
   ]
  },
  {
   "cell_type": "markdown",
   "metadata": {},
   "source": [
    "<a id=\"mono\"></a>\n",
    "## Monochromator\n",
    "[Back to the top](#toc)\n",
    "\n",
    "Current Deimos monochromator system is a xxx monochromator composed of:\n",
    "\n",
    "- two different plane gratings: G1600 (opperating at constant cff) and ML2400 (constant omega)\n",
    "- M2A plane mirror (Pt coated) used with G1600\n",
    "- M2B plane mirror (Mo2C/B4C ML)\n",
    "- M3 cylindrical Pt coated mirror for vertical focusing onto the mono exit slits\n",
    "- energy selecting slit (not considered here)"
   ]
  },
  {
   "cell_type": "markdown",
   "metadata": {},
   "source": [
    "<a id=\"G1600\"></a>\n",
    "### G1600 monochromator\n",
    "[Back to the top](#toc)"
   ]
  },
  {
   "cell_type": "markdown",
   "metadata": {},
   "source": [
    "In order to reduce the variable space, simulations here are shown for a $cff=cos(\\beta)/cos(\\alpha)=0.2$. This grating has variable groove \n",
    "depth (VGD) ranging from 4nm to 16nm. We fix the VGD to 6 nm to simplify the calculations (compromise)."
   ]
  },
  {
   "cell_type": "code",
   "execution_count": null,
   "metadata": {},
   "outputs": [],
   "source": [
    "file_pattern = '.\\\\results\\carpem\\*c0p20'\n",
    "G1600_cff0p2 = load_carpem_dataset(file_pattern)\n",
    "\n",
    "colors = cm.viridis_r(np.linspace(0, 1, len(G1600_cff0p2.keys())))\n",
    "grating = G1600_cff0p2\n",
    "title = \"G1600 l/mm - cff 0.2 (Pt)\"\n",
    "harmonic = \"h1\"\n",
    "fig = PlotManager()\n",
    "\n",
    "for i, key in enumerate(G1600_cff0p2.keys()):\n",
    "    gtn = re.search(r'(?P<vgd>\\d+)A', key)\n",
    "    print(key)\n",
    "\n",
    "    vgd = gtn.group('vgd').lstrip('0')\n",
    "    if vgd == '60':\n",
    "        c = -2\n",
    "    else:\n",
    "        c = colors[i]\n",
    "\n",
    "    fig.image, fig.x = grating[key][harmonic].values, energy\n",
    "    fig.additional_info(title, \"energy [eV]\", \"efficiency ($\\eta$)\", xmin=e0, xmax=energy[-1]+(energy[0]-e0), ymin=0, ymax=0.07).aesthetics(LaTex=True, grid=True)\n",
    "    fig.info_1d_plot(c, f\"{float(vgd)/10:.0f} nm\", 1, \"-\").plot_1d(enable=(i == len(G1600_cff0p2.keys()) - 1), hold=(i != 0))"
   ]
  },
  {
   "cell_type": "code",
   "execution_count": null,
   "metadata": {},
   "outputs": [],
   "source": [
    "cff = [0.1, 0.2, 0.3, 0.5, 0.8]\n",
    "\n",
    "alpha_cff = np.zeros((len(energy), len(cff)))\n",
    "beta_cff  = np.zeros((len(energy), len(cff)))\n",
    "theta_cff = np.zeros((len(energy), len(cff)))\n",
    "for j, c in enumerate(cff):\n",
    "    for i, en in enumerate(energy):\n",
    "        G1600 = align_grating(wavelength=energy_wavelength(en,\"eV\"),\n",
    "                            line_density=1600e3,\n",
    "                            order=1, \n",
    "                            condition=\"cff\",\n",
    "                            condition_value=c, \n",
    "                            verbose=0)\n",
    "        \n",
    "        alpha_cff[i,j] = G1600[\"alpha_deg\"]\n",
    "        beta_cff[i,j] = G1600[\"beta_deg\"]\n",
    "        theta_cff[i,j] = G1600[\"deviation_deg\"]/2"
   ]
  },
  {
   "cell_type": "code",
   "execution_count": null,
   "metadata": {},
   "outputs": [],
   "source": [
    "angle_label = [\"$\\\\alpha$ (°)\", \"$\\\\beta$ (°)\", \"$\\\\theta_{M2}$ (°)\"]\n",
    "angle = [alpha_cff, beta_cff, theta_cff]\n",
    "title = \"G1600 l/mm\"\n",
    "\n",
    "for lbl, agl in zip(angle_label, angle):\n",
    "    fig = PlotManager()\n",
    "    for i, c in enumerate(cff):\n",
    "        fig.image, fig.x = agl[:, i], energy\n",
    "        fig.additional_info(title, \"energy [eV]\", lbl, xmin=e0, xmax=energy[-1]+(energy[0]-e0), ymin=0, ymax=10).aesthetics(LaTex=True, grid=True)\n",
    "        fig.info_1d_plot(i, f\"cff = {cff[i]:.2f}\", 1, \"-\").plot_1d(enable=(i == len(cff) - 1), hold=(i != 0))"
   ]
  },
  {
   "cell_type": "markdown",
   "metadata": {},
   "source": [
    "#### Transmission"
   ]
  },
  {
   "cell_type": "code",
   "execution_count": null,
   "metadata": {},
   "outputs": [],
   "source": [
    "M2 = np.zeros(len(energy))\n",
    "for i, en in enumerate(energy):\n",
    "    reflec = reflectivity_curve(\"Pt\", -1, theta_cff[i, 1], en, en, 1)\n",
    "    M2[i] = reflec['reflectivity'][0]\n",
    "M3 = reflectivity_curve(\"Pt\", -1, 1.2, ei, ef, ne)"
   ]
  },
  {
   "cell_type": "code",
   "execution_count": null,
   "metadata": {},
   "outputs": [],
   "source": [
    "fig = PlotManager()\n",
    "fig.image, fig.x = M2, energy\n",
    "fig.additional_info(\"M2 (Pt - G1600 config)\", \"energy [eV]\", \"efficiency ($\\eta$)\", xmin=e0, xmax=ef+(ei-e0), ymin=-0.03, ymax=1.03).aesthetics(LaTex=True, grid=True)\n",
    "fig.info_1d_plot(0, 'cff = 0.2').plot_1d(enable=True)\n",
    "\n",
    "fig = PlotManager()\n",
    "fig.image, fig.x = M3['reflectivity'], energy\n",
    "fig.additional_info(\"M3 (Pt @ 1.2°)\", \"energy [eV]\", \"efficiency ($\\eta$)\", xmin=e0, xmax=ef+(ei-e0), ymin=-0.03, ymax=1.03).aesthetics(LaTex=True, grid=True)\n",
    "fig.info_1d_plot(1, 'cff = 0.2').plot_1d(enable=True)\n",
    "\n",
    "fig = PlotManager()\n",
    "fig.image, fig.x = G1600_cff0p2['carpem_G1600_VGD060A_c0p20']['h1'].values * M2 * M3['reflectivity'], energy\n",
    "fig.additional_info(\"G1600 (cff = 0.2) x M2 x M3\", \"energy [eV]\", \"efficiency ($\\eta$)\", xmin=e0, xmax=ef+(ei-e0), ymin=-0.0015, ymax=0.035).aesthetics(LaTex=True, grid=True)\n",
    "fig.info_1d_plot(2, '6 nm (groove depth)').plot_1d(enable=True)\n",
    "# fig.image = G1600_cff0p2['carpem_G1600_VGD90A_c0p20']['h1'].values * M2 * M3['reflectivity']\n",
    "# fig.info_1d_plot(1, '9 nm (groove depth)').plot_1d(enable=True, hold=True)\n"
   ]
  },
  {
   "cell_type": "markdown",
   "metadata": {},
   "source": [
    "<a id=\"G2400\"></a>\n",
    "### G2400 monochromator\n",
    "[Back to the top](#toc)"
   ]
  },
  {
   "cell_type": "markdown",
   "metadata": {},
   "source": [
    "We simulate the grating described in [1] and acompanying ML mirror (M2 - Mo2C/B4C):\n",
    "\n",
    "The ML is composed of: B4C (26.4 A - odd layer/vacuum): Mo2C (27.22 A - even layer/substrate)\n",
    "with $\\Gamma=0.4923$.\n",
    "\n",
    "\n",
    "[1] [Optics Letters Vol. 39, Issue 7, pp. 2141-2144 (2014)](https://doi.org/10.1364/OL.39.002141)\n",
    "\n"
   ]
  },
  {
   "cell_type": "code",
   "execution_count": null,
   "metadata": {},
   "outputs": [],
   "source": [
    "G2400_omega_scan = load_carpem_dataset('.\\\\results\\\\carpem\\\\*omega_scan*small')\n",
    "fig = PlotManager()\n",
    "\n",
    "colors = cm.viridis_r(np.linspace(0, 0.75, len(G2400_omega_scan.keys())))\n",
    "\n",
    "for i, key in enumerate(G2400_omega_scan.keys()):\n",
    "    match = re.search(r'(\\d+)eV', key)\n",
    "    omega = (G2400_omega_scan[key][\"alpha\"]-G2400_omega_scan[key][\"beta\"])/2\n",
    "    fig.image, fig.x = G2400_omega_scan[key][\"h1\"], omega\n",
    "    fig.additional_info(\"$\\Omega$ scan\", \"$\\Omega = (\\\\alpha-\\\\beta)/2$\", \"efficiency ($\\eta$)\", ymin=-0.01, ymax=0.31).aesthetics(LaTex=True, grid=True)\n",
    "    fig.info_1d_plot(colors[i], f'{match.group(1)} eV').plot_1d(enable=(i == len(G2400_omega_scan.keys())-1), hold=(i != 0))\n",
    "    "
   ]
  },
  {
   "cell_type": "code",
   "execution_count": null,
   "metadata": {},
   "outputs": [],
   "source": [
    "G2400_energy_scan = load_carpem_dataset('.\\\\results\\\\carpem\\\\carpem_G2400_ML_omega_0.692_*')\n",
    "\n",
    "fig = PlotManager()\n",
    "for i, key in enumerate(G2400_energy_scan.keys()):\n",
    "    if 'ppol' in key:\n",
    "        label = 'p-pol'\n",
    "    else:\n",
    "        label = 's-pol'\n",
    "    fig.image, fig.x = G2400_energy_scan[key][\"h1\"], G2400_energy_scan[key][\"energy\"]\n",
    "    fig.additional_info(\"G2400 l/mm - $\\Omega=0.692$ (ML Mo$_2$C : B$_4$C)\", \"energy [eV]\", \"efficiency ($\\eta$)\",\n",
    "                        xmin=e0, xmax=ef+(ei-e0), ymin=-0.01, ymax=0.31).aesthetics(LaTex=True, grid=True)\n",
    "    fig.info_1d_plot(i, label).plot_1d(enable=(i == len(G2400_energy_scan.keys())-1), hold=(i != 0))\n"
   ]
  },
  {
   "cell_type": "code",
   "execution_count": null,
   "metadata": {},
   "outputs": [],
   "source": [
    "G2400_omega = load_carpem_dataset('.\\\\results\\\\carpem\\\\*G2400_ML_omega_0.692')"
   ]
  },
  {
   "cell_type": "code",
   "execution_count": null,
   "metadata": {},
   "outputs": [],
   "source": [
    "omega = 0.692\n",
    "\n",
    "alpha_omg = np.zeros((len(energy)))\n",
    "beta_omg  = np.zeros((len(energy)))\n",
    "theta_omg = np.zeros((len(energy)))\n",
    "cff_omg = np.zeros((len(energy)))\n",
    "\n",
    "for i, en in enumerate(energy):\n",
    "    G2400 = align_grating(wavelength=energy_wavelength(en,\"eV\"),\n",
    "                        line_density=2400e3,\n",
    "                        order=1, \n",
    "                        condition=\"omega\",\n",
    "                        condition_value=np.radians(omega), \n",
    "                        verbose=0)\n",
    "    \n",
    "    alpha_omg[i] = G2400[\"alpha_deg\"]\n",
    "    beta_omg[i] = G2400[\"beta_deg\"]\n",
    "    theta_omg[i] = G2400[\"deviation_deg\"]/2\n",
    "    cff_omg[i] = G2400[\"cff\"]"
   ]
  },
  {
   "cell_type": "code",
   "execution_count": null,
   "metadata": {},
   "outputs": [],
   "source": [
    "angle_label = [\"$\\\\alpha$ (°)\", \"$\\\\beta$ (°)\", \"$\\\\theta_{M2}$ (°)\"]\n",
    "angle = [alpha_omg, beta_omg, theta_omg]\n",
    "for lbl, agl in zip(angle_label, angle):\n",
    "    grating = \"MLG2400 l/mm\"   \n",
    "    fig = PlotManager(agl, energy)\n",
    "    fig.additional_info(grating, \"energy [eV]\", lbl, xmin=e0, xmax=energy[-1]+(energy[0]-e0), ymin=0, ymax=10).aesthetics(LaTex=True, grid=True)\n",
    "    fig.info_1d_plot(0, \"$\\Omega=0.692$\", 1, \"-\").plot_1d(enable=True, hold=False)"
   ]
  },
  {
   "cell_type": "code",
   "execution_count": null,
   "metadata": {},
   "outputs": [],
   "source": [
    "grating = \"MLG2400 l/mm\"   \n",
    "fig = PlotManager(cff_omg, energy)\n",
    "fig.additional_info(grating, \"energy [eV]\", 'cff', xmin=e0, xmax=energy[-1]+(energy[0]-e0), ymin=.3, ymax=1.03).aesthetics(LaTex=True, grid=True)\n",
    "fig.info_1d_plot(3, \"$\\Omega=0.692$\", 1, \"-\").plot_1d(enable=True, hold=False)"
   ]
  },
  {
   "cell_type": "markdown",
   "metadata": {},
   "source": [
    "#### Transmission"
   ]
  },
  {
   "cell_type": "code",
   "execution_count": null,
   "metadata": {},
   "outputs": [],
   "source": [
    "M2ML = np.zeros(len(energy))\n",
    "thickness_E = 24.8+2.42  # even layer is closer to the substrate\n",
    "thickness_O = 24.8+1.6   # odd layer: closer to vacuum\n",
    "print(thickness_E+thickness_O, thickness_E/(thickness_E+thickness_O))\n",
    "for i, en in enumerate(energy):\n",
    "    reflec = ml_reflectivity_curve(material_S=\"Si\", density_S=2.33, roughness_S=0.0,\n",
    "                                   material_E=\"Mo2C\", density_E=9.18, roughness_E=0.0,\n",
    "                                   material_O=\"B4C\", density_O=2.52, roughness_O=0.0,\n",
    "                                   bilayer_pairs=30,\n",
    "                                   bilayer_thickness=thickness_E+thickness_O,\n",
    "                                   bilayer_gamma=thickness_E/(thickness_E+thickness_O),    \n",
    "                                   theta=theta_omg[i], ei=en, ef=en, ne=1)\n",
    "    M2ML[i] = reflec['reflectivity'][0]\n"
   ]
  },
  {
   "cell_type": "code",
   "execution_count": null,
   "metadata": {},
   "outputs": [],
   "source": [
    "fig = PlotManager()\n",
    "fig.image, fig.x = M2ML, energy\n",
    "fig.additional_info(\"M2 (ML Mo$_2$C : B$_4$C - G2400 config)\", \"energy [eV]\", \"efficiency ($\\eta$)\", xmin=e0, xmax=ef+(ei-e0), ymin=-0.03, ymax=1.03).aesthetics(LaTex=True, grid=True)\n",
    "fig.info_1d_plot(0, '$\\Omega=0.692$').plot_1d(enable=True)\n",
    "\n",
    "fig = PlotManager()\n",
    "fig.image, fig.x = M3['reflectivity'], energy\n",
    "fig.additional_info(\"M3 (Pt @ 1.2°)\", \"energy [eV]\", \"efficiency ($\\eta$)\", xmin=e0, xmax=ef+(ei-e0), ymin=-0.03, ymax=1.03).aesthetics(LaTex=True, grid=True)\n",
    "fig.info_1d_plot(1, '$\\Omega=0.692$').plot_1d(enable=True)\n",
    "\n",
    "fig = PlotManager()\n",
    "fig.image, fig.x = G2400_omega[\"carpem_G2400_ML_omega_0.692\"][\"h1\"].values * M2ML * M3['reflectivity'], energy\n",
    "fig.additional_info(\"G2400 x M2(ML) x M3\", \"energy [eV]\", \"efficiency ($\\eta$)\", xmin=e0, xmax=ef+(ei-e0), ymin=-0.005, ymax=0.105).aesthetics(LaTex=True, grid=True)\n",
    "fig.info_1d_plot(2, '$\\Omega=0.692$').plot_1d(enable=True)\n"
   ]
  },
  {
   "cell_type": "markdown",
   "metadata": {},
   "source": [
    "<a id=\"wolter\"></a>\n",
    "## Wolter focusing system\n",
    "[Back to the top](#toc)\n",
    "\n",
    "Both Wolter mirror are coated with Pt and are at a $\\theta=1.2°$:"
   ]
  },
  {
   "cell_type": "code",
   "execution_count": null,
   "metadata": {},
   "outputs": [],
   "source": [
    "Wolter = reflectivity_curve(\"Pt\", -1, 1.2, ei, ef, ne)\n",
    "\n",
    "fig = PlotManager()\n",
    "\n",
    "fig.image, fig.x = Wolter[\"reflectivity\"]**2, Wolter[\"energy\"]\n",
    "fig.additional_info(\"Wolter throughput\", \"energy [eV]\", \"efficiency ($\\eta$)\", xmin=e0, xmax=ef+(ei-e0), ymin=-0.03, ymax=1.03).aesthetics(LaTex=True, grid=True)\n",
    "fig.info_1d_plot(0, f'{Wolter[\"material\"]} $\\\\times$ {Wolter[\"material\"]} @ {Wolter[\"theta\"]:.2f}°').plot_1d(enable=True)"
   ]
  },
  {
   "cell_type": "markdown",
   "metadata": {},
   "source": [
    "<a id=\"flux\"></a>\n",
    "## Full beamline transmission\n",
    "[Back to the top](#toc)"
   ]
  },
  {
   "cell_type": "code",
   "execution_count": null,
   "metadata": {},
   "outputs": [],
   "source": [
    "LEG1600 = (Pt_2p53[\"reflectivity\"]*Pt_2p53[\"reflectivity\"]*\n",
    "           G1600_cff0p2['carpem_G1600_VGD060A_c0p20']['h1'].values * M2 * M3['reflectivity']*\n",
    "           Wolter[\"reflectivity\"]*Wolter[\"reflectivity\"])\n",
    "\n",
    "HEG1600 = (Pt_1p19[\"reflectivity\"]*Rh_1p20[\"reflectivity\"]*\n",
    "           G1600_cff0p2['carpem_G1600_VGD060A_c0p20']['h1'].values * M2 * M3['reflectivity']*\n",
    "           Wolter[\"reflectivity\"]*Wolter[\"reflectivity\"])\n",
    "\n",
    "LEG2400 = (Pt_2p53[\"reflectivity\"]*Pt_2p53[\"reflectivity\"]*\n",
    "           G2400_omega[\"carpem_G2400_ML_omega_0.692\"][\"h1\"].values * M2ML * M3['reflectivity']*\n",
    "           Wolter[\"reflectivity\"]*Wolter[\"reflectivity\"])\n",
    "\n",
    "HEG2400 = (Pt_1p19[\"reflectivity\"]*Rh_1p20[\"reflectivity\"]*\n",
    "           G2400_omega[\"carpem_G2400_ML_omega_0.692\"][\"h1\"].values * M2ML * M3['reflectivity']*\n",
    "           Wolter[\"reflectivity\"]*Wolter[\"reflectivity\"])\n"
   ]
  },
  {
   "cell_type": "code",
   "execution_count": null,
   "metadata": {},
   "outputs": [],
   "source": [
    "fig = PlotManager()\n",
    "fig.image, fig.x = LEG1600, energy\n",
    "fig.additional_info(\"beamline spectral transmission\", \"energy [eV]\", \"efficiency ($\\eta$)\", xmin=e0, xmax=ef+(ei-e0), ymin=-0.0015, ymax=0.0315).aesthetics(LaTex=True, grid=True)\n",
    "fig.info_1d_plot(0, 'LE/G1600/cff=0.2').plot_1d(enable=False)\n",
    "fig.image = HEG1600\n",
    "fig.info_1d_plot(1, 'HE/G1600/cff=0.2').plot_1d(enable=False, hold=True)\n",
    "# fig.image = LEG2400\n",
    "# fig.info_1d_plot(2, 'LE/G2400/$\\omega$=0.692').plot_1d(enable=False, hold=True)\n",
    "fig.image = HEG2400\n",
    "fig.info_1d_plot(2, 'HE/G2400/$\\Omega$=0.692').plot_1d(enable=True, hold=True)"
   ]
  },
  {
   "cell_type": "markdown",
   "metadata": {},
   "source": [
    "### Transmitted photon flux"
   ]
  },
  {
   "cell_type": "code",
   "execution_count": null,
   "metadata": {},
   "outputs": [],
   "source": [
    "def read_tuning_curve(file_name: str) -> Dict:\n",
    "    \"\"\"\n",
    "    Reads and processes tuning curve data from files.\n",
    "\n",
    "    This function reads tuning curve data from files specified in 'file_list' and processes \n",
    "    it to compute spectral power, cumulated power, and integrated power.\n",
    "\n",
    "    Parameters:\n",
    "        file_name (str): A file path containing tuning curve data.\n",
    "\n",
    "    Returns:\n",
    "        Dict: A dictionary containing processed tuning curve data with the following keys:\n",
    "            - 'TC': A dictionary containing various properties of the tuning curve including:\n",
    "                - 'energy': Array containing energy values.\n",
    "                - 'flux': Array containing spectral flux data.\n",
    "    \"\"\"\n",
    "\n",
    "    # Process files in the list\n",
    "    if file_name.endswith(\"h5\") or file_name.endswith(\"hdf5\"):\n",
    "        print(file_name)\n",
    "        with h5.File(file_name, \"r\") as f:\n",
    "            energy =  f[\"XOPPY_SPECTRUM\"][\"TC\"][\"energy\"][()]\n",
    "            flux = f[\"XOPPY_SPECTRUM\"][\"TC\"][\"flux\"][()]\n",
    "            K = f[\"XOPPY_SPECTRUM\"][\"TC\"][\"K\"][()]\n",
    "\n",
    "    # Dictionary to store results\n",
    "    tcSRdict = {\n",
    "        # \"TC\": {\n",
    "            \"energy\": energy,\n",
    "            \"flux\": flux,\n",
    "            \"K\": K\n",
    "        # }\n",
    "    }\n",
    "\n",
    "    return tcSRdict"
   ]
  },
  {
   "cell_type": "code",
   "execution_count": null,
   "metadata": {},
   "outputs": [],
   "source": [
    "tc = read_tuning_curve('.\\\\results\\\\source\\\\SOLEIL-U52mm_slit_tc.h5')\n",
    "\n",
    "plot_tuning_curve(tc, unit=\"[ph/s/0.1%bw]\", title='photon flux', prange=[e0, ef+(ei-e0), None, None])\n"
   ]
  },
  {
   "cell_type": "code",
   "execution_count": null,
   "metadata": {},
   "outputs": [],
   "source": [
    "fig = PlotManager()\n",
    "fig.image, fig.x = LEG1600*tc['flux'][:,0], energy\n",
    "fig.additional_info(\"beamline flux transmission\", \"energy [eV]\", \"[ph/s/0.1%bw]\", xmin=e0, xmax=ef+(ei-e0)).aesthetics(LaTex=True, grid=True)\n",
    "fig.info_1d_plot(0, 'LE/G1600/cff=0.2').plot_1d(enable=False)\n",
    "fig.image = HEG1600*tc['flux'][:,0]\n",
    "fig.info_1d_plot(1, 'HE/G1600/cff=0.2').plot_1d(enable=False, hold=True)\n",
    "# fig.image = LEG2400*tc['flux'][:,0]\n",
    "# fig.info_1d_plot(2, 'LE/G2400/$\\omega$=0.692').plot_1d(enable=False, hold=True)\n",
    "fig.image = HEG2400*tc['flux'][:,0]\n",
    "fig.info_1d_plot(2, 'HE/G2400/$\\Omega$=0.692').plot_1d(enable=True, hold=True)"
   ]
  },
  {
   "cell_type": "markdown",
   "metadata": {},
   "source": [
    "<a id=\"deimosii\"></a>\n",
    "## Ideas for DEIMOS-II\n",
    "[Back to the top](#toc)\n",
    "\n",
    "See M1_redesign.ipynb for more info"
   ]
  },
  {
   "cell_type": "markdown",
   "metadata": {},
   "source": [
    "## High energy configuration - I (M1C/G1600)"
   ]
  },
  {
   "cell_type": "code",
   "execution_count": null,
   "metadata": {},
   "outputs": [],
   "source": [
    "monochromator = G1600_cff0p2['carpem_G1600_VGD060A_c0p20']['h1'].values * M2\n",
    "\n",
    "M3 = reflectivity_curve(\"Pt\", -1, 1.2, ei, ef, ne)\n",
    "Wolter = reflectivity_curve(\"Pt\", -1, 1.2, ei, ef, ne)\n",
    "\n",
    "Deimos = (Pt_1p19[\"reflectivity\"]*Rh_1p20[\"reflectivity\"]*monochromator*M3['reflectivity']* \n",
    "          Wolter[\"reflectivity\"]*Wolter[\"reflectivity\"])\n",
    "\n",
    "fig = PlotManager()\n",
    "fig.image, fig.x = Deimos, energy\n",
    "fig.additional_info(\"M1 - G1600 (cff 0.2) - focusing optics\", \"energy [eV]\",\"efficiency ($\\eta$)\", xmin=e0, xmax=10000+(ei-e0), ymin=-0.0015, ymax=0.0355).aesthetics(LaTex=True, grid=True)\n",
    "fig.info_1d_plot(1, f'{Pt_1p19[\"material\"]} $\\\\times$ {Rh_1p20[\"material\"]} ({Pt_1p19[\"theta\"]}°) $\\\\times$ {Wolter[\"material\"]} ({Wolter[\"theta\"]}°)', LineStyle=':').plot_1d(enable=False)\n",
    "\n",
    "theta=0.44\n",
    "M1A = reflectivity_curve(\"B4C\", 2.52, theta, ei, ef, ne)\n",
    "M1_bis = reflectivity_curve(\"B4C\", 2.52, theta, ei, ef, ne)\n",
    "M3 = reflectivity_curve(\"B4C\", 2.52, theta, ei, ef, ne)\n",
    "Wolter = reflectivity_curve(\"B4C\", 2.52, theta, ei, ef, ne)\n",
    "new_config = (M1A[\"reflectivity\"]*M1_bis[\"reflectivity\"]*monochromator*M3['reflectivity']* \n",
    "               Wolter[\"reflectivity\"]*Wolter[\"reflectivity\"])\n",
    "fig.image = new_config\n",
    "fig.info_1d_plot(2, f'{M1A[\"material\"]} $\\\\times$ {M1_bis[\"material\"]} ({M1A[\"theta\"]}°) $\\\\times$ {Wolter[\"material\"]} ({Wolter[\"theta\"]}°)', LineStyle='-').plot_1d(enable=False, hold=True)\n",
    "\n",
    "theta=0.85\n",
    "M1A = reflectivity_curve(\"B4C\", 2.52, theta, ei, ef, ne)\n",
    "M1_bis = reflectivity_curve(\"Pt\", -1, theta, ei, ef, ne)\n",
    "theta=0.44\n",
    "M3 = reflectivity_curve(\"B4C\", 2.52, theta, ei, ef, ne)\n",
    "Wolter = reflectivity_curve(\"B4C\", 2.52, theta, ei, ef, ne)\n",
    "new_config = (M1A[\"reflectivity\"]*M1_bis[\"reflectivity\"]*monochromator*M3['reflectivity']* \n",
    "               Wolter[\"reflectivity\"]*Wolter[\"reflectivity\"])\n",
    "fig.image = new_config\n",
    "fig.info_1d_plot(3, f'{M1A[\"material\"]} $\\\\times$ {M1_bis[\"material\"]} ({M1A[\"theta\"]}°) $\\\\times$ {Wolter[\"material\"]} ({Wolter[\"theta\"]}°)', LineStyle='-').plot_1d(enable=False, hold=True)\n",
    "\n",
    "theta=0.75\n",
    "M1A = reflectivity_curve(\"B4C\", 2.52, theta, ei, ef, ne)\n",
    "M1_bis = reflectivity_curve(\"Mo\", -1, theta, ei, ef, ne)\n",
    "theta=0.44\n",
    "M3 =  reflectivity_curve(\"B4C\", 2.52, theta, ei, ef, ne)\n",
    "Wolter = reflectivity_curve(\"B4C\", 2.52, theta, ei, ef, ne)\n",
    "new_config = (M1A[\"reflectivity\"]*M1_bis[\"reflectivity\"]*monochromator*M3['reflectivity']* \n",
    "               Wolter[\"reflectivity\"]*Wolter[\"reflectivity\"])\n",
    "fig.image = new_config\n",
    "fig.info_1d_plot(4, f'{M1A[\"material\"]} $\\\\times$ {M1_bis[\"material\"]} ({M1A[\"theta\"]}°) $\\\\times$ {Wolter[\"material\"]} ({Wolter[\"theta\"]}°)', LineStyle='-').plot_1d(enable=True, hold=True)"
   ]
  },
  {
   "cell_type": "markdown",
   "metadata": {},
   "source": [
    "## High energy configuration - II (M1C/G2400)"
   ]
  },
  {
   "cell_type": "code",
   "execution_count": null,
   "metadata": {},
   "outputs": [],
   "source": [
    "monochromator = G2400_omega[\"carpem_G2400_ML_omega_0.692\"][\"h1\"].values * M2ML\n",
    "\n",
    "M3 = reflectivity_curve(\"Pt\", -1, 1.2, ei, ef, ne)\n",
    "Wolter = reflectivity_curve(\"Pt\", -1, 1.2, ei, ef, ne)\n",
    "\n",
    "Deimos = (Pt_1p19[\"reflectivity\"]*Rh_1p20[\"reflectivity\"]*monochromator*M3['reflectivity']* \n",
    "          Wolter[\"reflectivity\"]*Wolter[\"reflectivity\"])\n",
    "\n",
    "fig = PlotManager()\n",
    "fig.image, fig.x = Deimos, energy\n",
    "fig.additional_info(\"M1 - G2400 ($\\Omega$ 0.692) - focusing optics\", \"energy [eV]\",\"efficiency ($\\eta$)\", xmin=e0, xmax=10000+(ei-e0), ymin=-0.0015, ymax=0.1415).aesthetics(LaTex=True, grid=True)\n",
    "fig.info_1d_plot(1, f'{Pt_1p19[\"material\"]} $\\\\times$ {Rh_1p20[\"material\"]} ({Pt_1p19[\"theta\"]}°) $\\\\times$ {Wolter[\"material\"]} ({Wolter[\"theta\"]}°)', LineStyle=':').plot_1d(enable=False)\n",
    "\n",
    "theta=0.44\n",
    "M1A = reflectivity_curve(\"B4C\", 2.52, theta, ei, ef, ne)\n",
    "M1_bis = reflectivity_curve(\"B4C\", 2.52, theta, ei, ef, ne)\n",
    "M3 = reflectivity_curve(\"B4C\", 2.52, theta, ei, ef, ne)\n",
    "Wolter = reflectivity_curve(\"B4C\", 2.52, theta, ei, ef, ne)\n",
    "new_config = (M1A[\"reflectivity\"]*M1_bis[\"reflectivity\"]*monochromator*M3['reflectivity']* \n",
    "               Wolter[\"reflectivity\"]*Wolter[\"reflectivity\"])\n",
    "fig.image = new_config\n",
    "fig.info_1d_plot(2, f'{M1A[\"material\"]} $\\\\times$ {M1_bis[\"material\"]} ({M1A[\"theta\"]}°) $\\\\times$ {Wolter[\"material\"]} ({Wolter[\"theta\"]}°)', LineStyle='-').plot_1d(enable=False, hold=True)\n",
    "\n",
    "theta=0.85\n",
    "M1A = reflectivity_curve(\"B4C\", 2.52, theta, ei, ef, ne)\n",
    "M1_bis = reflectivity_curve(\"Pt\", -1, theta, ei, ef, ne)\n",
    "theta=0.44\n",
    "M3 = reflectivity_curve(\"B4C\", 2.52, theta, ei, ef, ne)\n",
    "Wolter = reflectivity_curve(\"B4C\", 2.52, theta, ei, ef, ne)\n",
    "new_config = (M1A[\"reflectivity\"]*M1_bis[\"reflectivity\"]*monochromator*M3['reflectivity']* \n",
    "               Wolter[\"reflectivity\"]*Wolter[\"reflectivity\"])\n",
    "fig.image = new_config\n",
    "fig.info_1d_plot(3, f'{M1A[\"material\"]} $\\\\times$ {M1_bis[\"material\"]} ({M1A[\"theta\"]}°) $\\\\times$ {Wolter[\"material\"]} ({Wolter[\"theta\"]}°)', LineStyle='-').plot_1d(enable=False, hold=True)\n",
    "\n",
    "theta=0.75\n",
    "M1A = reflectivity_curve(\"B4C\", 2.52, theta, ei, ef, ne)\n",
    "M1_bis = reflectivity_curve(\"Mo\", -1, theta, ei, ef, ne)\n",
    "theta=0.44\n",
    "M3 =  reflectivity_curve(\"B4C\", 2.52, theta, ei, ef, ne)\n",
    "Wolter = reflectivity_curve(\"B4C\", 2.52, theta, ei, ef, ne)\n",
    "new_config = (M1A[\"reflectivity\"]*M1_bis[\"reflectivity\"]*monochromator*M3['reflectivity']* \n",
    "               Wolter[\"reflectivity\"]*Wolter[\"reflectivity\"])\n",
    "fig.image = new_config\n",
    "fig.info_1d_plot(4, f'{M1A[\"material\"]} $\\\\times$ {M1_bis[\"material\"]} ({M1A[\"theta\"]}°) $\\\\times$ {Wolter[\"material\"]} ({Wolter[\"theta\"]}°)', LineStyle='-').plot_1d(enable=False, hold=True)\n",
    "\n",
    "theta=0.85\n",
    "M1A = reflectivity_curve(\"Pt\", -1, theta, ei, ef, ne)\n",
    "M1_bis = reflectivity_curve(\"Pt\", -1, theta, ei, ef, ne)\n",
    "theta=0.44\n",
    "M3 = reflectivity_curve(\"B4C\", 2.52, theta, ei, ef, ne)\n",
    "Wolter = reflectivity_curve(\"B4C\", 2.52, theta, ei, ef, ne)\n",
    "new_config = (M1A[\"reflectivity\"]*M1_bis[\"reflectivity\"]*monochromator*M3['reflectivity']* \n",
    "               Wolter[\"reflectivity\"]*Wolter[\"reflectivity\"])\n",
    "fig.image = new_config\n",
    "fig.info_1d_plot(5, f'{M1A[\"material\"]} $\\\\times$ {M1_bis[\"material\"]} ({M1A[\"theta\"]}°) $\\\\times$ {Wolter[\"material\"]} ({Wolter[\"theta\"]}°)', LineStyle='-').plot_1d(enable=False, hold=True)\n",
    "\n",
    "theta=0.75\n",
    "M1A = reflectivity_curve(\"Mo\", -1, theta, ei, ef, ne)\n",
    "M1_bis = reflectivity_curve(\"Mo\", -1, theta, ei, ef, ne)\n",
    "theta=0.44\n",
    "M3 =  reflectivity_curve(\"B4C\", 2.52, theta, ei, ef, ne)\n",
    "Wolter = reflectivity_curve(\"B4C\", 2.52, theta, ei, ef, ne)\n",
    "new_config = (M1A[\"reflectivity\"]*M1_bis[\"reflectivity\"]*monochromator*M3['reflectivity']* \n",
    "               Wolter[\"reflectivity\"]*Wolter[\"reflectivity\"])\n",
    "fig.image = new_config\n",
    "fig.info_1d_plot(6, f'{M1A[\"material\"]} $\\\\times$ {M1_bis[\"material\"]} ({M1A[\"theta\"]}°) $\\\\times$ {Wolter[\"material\"]} ({Wolter[\"theta\"]}°)', LineStyle='-').plot_1d(enable=True, hold=True)"
   ]
  },
  {
   "cell_type": "markdown",
   "metadata": {},
   "source": [
    "## Low energy configuration"
   ]
  },
  {
   "cell_type": "code",
   "execution_count": null,
   "metadata": {},
   "outputs": [],
   "source": [
    "LEG1600_current = (Pt_2p53[\"reflectivity\"]*Pt_2p53[\"reflectivity\"]*\n",
    "                   G1600_cff0p2['carpem_G1600_VGD060A_c0p20']['h1'].values * M2)\n",
    "\n",
    "\n",
    "monochromator = G1600_cff0p2['carpem_G1600_VGD060A_c0p20']['h1'].values * M2\n",
    "\n",
    "M3 = reflectivity_curve(\"Pt\", -1, 1.2, ei, ef, ne)\n",
    "Wolter = reflectivity_curve(\"Pt\", -1, 1.2, ei, ef, ne)\n",
    "\n",
    "Deimos = (Pt_2p53[\"reflectivity\"]*Pt_2p53[\"reflectivity\"]*monochromator*M3['reflectivity']* \n",
    "          Wolter[\"reflectivity\"]*Wolter[\"reflectivity\"])\n",
    "\n",
    "fig = PlotManager()\n",
    "fig.image, fig.x = Deimos, energy\n",
    "fig.additional_info(\"transmission through M1/G1600 (cff 0.2)\", \"energy [eV]\",\"efficiency ($\\eta$)\", xmin=e0, xmax=10000+(ei-e0), ymin=-0.0015, ymax=0.022).aesthetics(LaTex=True, grid=True)\n",
    "fig.info_1d_plot(1, f'{Pt_1p19[\"material\"]} $\\\\times$ {Rh_1p20[\"material\"]} ({Pt_1p19[\"theta\"]}°) $\\\\times$ {Wolter[\"material\"]} ({Wolter[\"theta\"]}°)', LineStyle=':').plot_1d(enable=False)\n",
    "\n",
    "theta=1.75\n",
    "M1A = reflectivity_curve(\"B4C\", 2.52, theta, ei, ef, ne)\n",
    "M1_bis = reflectivity_curve(\"B4C\", 2.52, theta, ei, ef, ne)\n",
    "theta=0.44\n",
    "M3 = reflectivity_curve(\"B4C\", 2.52, theta, ei, ef, ne)\n",
    "Wolter = reflectivity_curve(\"B4C\", 2.52, theta, ei, ef, ne)\n",
    "new_config = (M1A[\"reflectivity\"]*M1_bis[\"reflectivity\"]*monochromator*M3['reflectivity']* \n",
    "               Wolter[\"reflectivity\"]*Wolter[\"reflectivity\"])\n",
    "fig.image = new_config\n",
    "fig.info_1d_plot(2, f'{M1A[\"material\"]} $\\\\times$ {M1_bis[\"material\"]} ({M1A[\"theta\"]}°) $\\\\times$ {Wolter[\"material\"]} ({Wolter[\"theta\"]}°)', LineStyle='-').plot_1d(enable=False, hold=True)\n",
    "\n",
    "theta=1.75\n",
    "M1A = reflectivity_curve(\"B4C\", 2.52, theta, ei, ef, ne)\n",
    "M1_bis = reflectivity_curve(\"Pt\", -1, theta, ei, ef, ne)\n",
    "theta=0.44\n",
    "M3 = reflectivity_curve(\"B4C\", 2.52, theta, ei, ef, ne)\n",
    "Wolter = reflectivity_curve(\"B4C\", 2.52, theta, ei, ef, ne)\n",
    "new_config = (M1A[\"reflectivity\"]*M1_bis[\"reflectivity\"]*monochromator*M3['reflectivity']* \n",
    "               Wolter[\"reflectivity\"]*Wolter[\"reflectivity\"])\n",
    "fig.image = new_config\n",
    "fig.info_1d_plot(3, f'{M1A[\"material\"]} $\\\\times$ {M1_bis[\"material\"]} ({M1A[\"theta\"]}°) $\\\\times$ {Wolter[\"material\"]} ({Wolter[\"theta\"]}°)', LineStyle='-').plot_1d(enable=False, hold=True)\n",
    "\n",
    "theta=1.75\n",
    "M1A = reflectivity_curve(\"B4C\", 2.52, theta, ei, ef, ne)\n",
    "M1_bis = reflectivity_curve(\"Mo\", -1, theta, ei, ef, ne)\n",
    "theta=0.44\n",
    "M3 = reflectivity_curve(\"B4C\", 2.52, theta, ei, ef, ne)\n",
    "Wolter = reflectivity_curve(\"B4C\", 2.52, theta, ei, ef, ne)\n",
    "new_config = (M1A[\"reflectivity\"]*M1_bis[\"reflectivity\"]*monochromator*M3['reflectivity']* \n",
    "               Wolter[\"reflectivity\"]*Wolter[\"reflectivity\"])\n",
    "fig.image = new_config\n",
    "fig.info_1d_plot(4, f'{M1A[\"material\"]} $\\\\times$ {M1_bis[\"material\"]} ({M1A[\"theta\"]}°) $\\\\times$ {Wolter[\"material\"]} ({Wolter[\"theta\"]}°)', LineStyle='-').plot_1d(enable=True, hold=True)"
   ]
  },
  {
   "cell_type": "markdown",
   "metadata": {},
   "source": [
    "# Deimos-II transmission"
   ]
  },
  {
   "cell_type": "markdown",
   "metadata": {},
   "source": [
    "## M1"
   ]
  },
  {
   "cell_type": "code",
   "execution_count": null,
   "metadata": {},
   "outputs": [],
   "source": [
    "fig = PlotManager()\n",
    "theta = 1.75\n",
    "M1A_LE = reflectivity_curve(\"B4C\", 2.52, theta, ei, ef, ne)\n",
    "M1B_LE = reflectivity_curve(\"B4C\", 2.52, theta, ei, ef, ne)\n",
    "\n",
    "theta = 0.75\n",
    "M1A_HE_P1 = reflectivity_curve(\"B4C\", 2.52, theta, ei, ef, ne)\n",
    "M1A_HE_P2 = reflectivity_curve(\"Mo\", -1, theta, ei, ef, ne)\n",
    "M1C_HE = reflectivity_curve(\"Mo\", -1, theta, ei, ef, ne)\n",
    "\n",
    "\n",
    "fig.image, fig.x = Pt_2p53[\"reflectivity\"]**2, Pt_2p53[\"energy\"]\n",
    "fig.additional_info(\"M1 throughput\", \"energy [eV]\", \"efficiency ($\\eta$)\", xmin=e0, xmax=ef+(ei-e0), ymin=-0.03, ymax=1.03).aesthetics(LaTex=True, grid=True)\n",
    "fig.info_1d_plot(0, f'{Pt_2p53[\"material\"]} $\\\\times$ {Pt_2p53[\"material\"]} @ {Pt_2p53[\"theta\"]:.2f}°', LineStyle=':').plot_1d(enable=False)\n",
    "fig.image, fig.x = Pt_1p19[\"reflectivity\"]*Rh_1p20[\"reflectivity\"], Pt_1p19[\"energy\"]\n",
    "fig.info_1d_plot(1, f'{Pt_1p19[\"material\"]} $\\\\times$ {Rh_1p20[\"material\"]} @ {Pt_1p19[\"theta\"]:.2f}°').plot_1d(enable=False, hold=True)\n",
    "\n",
    "fig.image, fig.x = M1A_LE[\"reflectivity\"]**2, M1B_LE[\"energy\"]\n",
    "fig.info_1d_plot(0, f'{M1A_LE[\"material\"]} $\\\\times$ {M1B_LE[\"material\"]} @ {M1A_LE[\"theta\"]:.2f}°', LineStyle='-').plot_1d(enable=False, hold=True)\n",
    "\n",
    "fig.image, fig.x = M1A_HE_P1[\"reflectivity\"]*M1C_HE[\"reflectivity\"], M1A_HE_P1[\"energy\"]\n",
    "fig.info_1d_plot(1, f'{M1A_HE_P1[\"material\"]} $\\\\times$ {M1C_HE[\"material\"]} @ {M1C_HE[\"theta\"]:.2f}°').plot_1d(enable=False, hold=True)\n",
    "\n",
    "fig.image, fig.x = M1A_HE_P2[\"reflectivity\"]*M1C_HE[\"reflectivity\"], M1A_HE_P1[\"energy\"]\n",
    "fig.info_1d_plot(2, f'{M1A_HE_P2[\"material\"]} $\\\\times$ {M1C_HE[\"material\"]} @ {M1C_HE[\"theta\"]:.2f}°').plot_1d(enable=True, hold=True)"
   ]
  },
  {
   "cell_type": "markdown",
   "metadata": {},
   "source": [
    "### M1 - harmonic supression"
   ]
  },
  {
   "cell_type": "code",
   "execution_count": 114,
   "metadata": {},
   "outputs": [],
   "source": [
    "def read_spectrum(file_list: List[str]) -> Dict:\n",
    "    \"\"\"\n",
    "    Reads and processes spectrum data from files.\n",
    "\n",
    "    This function reads spectrum data from files specified in 'file_list' and processes \n",
    "    it to compute spectral power, cumulated power, and integrated power.\n",
    "\n",
    "    Parameters:\n",
    "        file_list (List[str]): A list of file paths containing spectrum data.\n",
    "\n",
    "    Returns:\n",
    "        Dict: A dictionary containing processed spectrum data with the following keys:\n",
    "            - 'spectrum': A dictionary containing various properties of the spectrum including:\n",
    "                - 'energy': Array containing energy values.\n",
    "                - 'flux': Array containing spectral flux data.\n",
    "                - 'spectral_power': Array containing computed spectral power.\n",
    "                - 'cumulated_power': Cumulated power computed using cumulative trapezoid integration.\n",
    "                - 'integrated_power': Integrated power computed using trapezoid integration.\n",
    "    \"\"\"\n",
    "    energy = []\n",
    "    flux = []\n",
    "\n",
    "    if isinstance(file_list, List) is False:\n",
    "        file_list = [file_list]\n",
    "\n",
    "    # new and official barc4sr format\n",
    "    if file_list[0].endswith(\"h5\") or file_list[0].endswith(\"hdf5\"):\n",
    "        for sim in file_list:\n",
    "            print(sim)\n",
    "            f = h5.File(sim, \"r\")\n",
    "            energy = np.concatenate((energy, f[\"XOPPY_SPECTRUM\"][\"Spectrum\"][\"energy\"][()]))\n",
    "            flux = np.concatenate((flux, f[\"XOPPY_SPECTRUM\"][\"Spectrum\"][\"flux\"][()]))\n",
    "\n",
    "    else:\n",
    "        raise ValueError(\"Invalid file extension.\")\n",
    "\n",
    "    spectral_power = flux*CHARGE*1E3\n",
    "\n",
    "    cumulated_power = integrate.cumulative_trapezoid(spectral_power, energy, initial=0)\n",
    "    integrated_power = integrate.trapezoid(spectral_power, energy)\n",
    "\n",
    "    spectrumSRdict = {\n",
    "        \"spectrum\":{\n",
    "            \"energy\":energy,\n",
    "            \"flux\": flux,\n",
    "            \"spectral_power\": spectral_power,\n",
    "            \"cumulated_power\": cumulated_power,\n",
    "            \"integrated_power\": integrated_power\n",
    "        }\n",
    "    }\n",
    "\n",
    "    return spectrumSRdict"
   ]
  },
  {
   "cell_type": "code",
   "execution_count": 172,
   "metadata": {},
   "outputs": [
    {
     "name": "stdout",
     "output_type": "stream",
     "text": [
      "molarMass: 55.25\n",
      "f1f2_calc_mix: Zs:  (5, 6)  n:  [4. 1.]\n",
      "molarMass: 55.25\n",
      "f1f2_calc_mix: Zs:  (5, 6)  n:  [4. 1.]\n",
      "molarMass: 55.25\n",
      "f1f2_calc_mix: Zs:  (5, 6)  n:  [4. 1.]\n",
      ".\\results\\source\\SOLEIL-II-U52mm_on_axis_spectrum.h5\n"
     ]
    }
   ],
   "source": [
    "e0, ei, ef, dE = 0, 250, 5000, 0.5\n",
    "ne = int((ef-ei)/dE)+1\n",
    "\n",
    "C1 = reflectivity_curve(\"B4C\", 2.52, 1.50, ei, ef, ne)\n",
    "C2 = reflectivity_curve(\"B4C\", 2.52, 1.75, ei, ef, ne)\n",
    "C3 = reflectivity_curve(\"B4C\", 2.52, 2.00, ei, ef, ne)\n",
    "\n",
    "sp = read_spectrum('.\\\\results\\\\source\\\\SOLEIL-II-U52mm_on_axis_spectrum.h5')"
   ]
  },
  {
   "cell_type": "code",
   "execution_count": 182,
   "metadata": {},
   "outputs": [
    {
     "data": {
      "image/png": "[encoded data removed]",
      "text/plain": [
       "<Figure size 700x420 with 1 Axes>"
      ]
     },
     "metadata": {},
     "output_type": "display_data"
    }
   ],
   "source": [
    "fig = PlotManager()\n",
    "fig.image, fig.x = sp['spectrum']['flux'], sp['spectrum']['energy']\n",
    "fig.additional_info(\"on axis flux\", \"energy [eV]\", \"ph/s/mm²/0.1% bw\", xmin=250, xmax=2000, ymin=-1E13, ymax=6E14).aesthetics(LaTex=True, grid=True, PlotScale=0)\n",
    "fig.info_1d_plot(0, 'on axis flux', LineStyle='-', alpha=0.5, LabelPos=0).plot_1d(enable=False)\n",
    "\n",
    "fig.image = sp['spectrum']['flux']*C1['reflectivity']*C1['reflectivity']\n",
    "fig.info_1d_plot(1,  f'{C1[\"material\"]} $\\\\times$ {C1[\"material\"]} @ {C1[\"theta\"]:.2f}°', LineStyle='-', alpha=1).plot_1d(enable=False, hold=True)\n",
    "\n",
    "fig.image = sp['spectrum']['flux']*C2['reflectivity']*C2['reflectivity']\n",
    "fig.info_1d_plot(2,  f'{C2[\"material\"]} $\\\\times$ {C2[\"material\"]} @ {C2[\"theta\"]:.2f}°', LineStyle='-', alpha=1).plot_1d(enable=False, hold=True)\n",
    "\n",
    "fig.image = sp['spectrum']['flux']*C3['reflectivity']*C3['reflectivity']\n",
    "fig.info_1d_plot(3,  f'{C3[\"material\"]} $\\\\times$ {C3[\"material\"]} @ {C3[\"theta\"]:.2f}°', LineStyle='-', alpha=1).plot_1d(enable=True, hold=True)"
   ]
  },
  {
   "cell_type": "markdown",
   "metadata": {},
   "source": [
    "## G1600"
   ]
  },
  {
   "cell_type": "code",
   "execution_count": null,
   "metadata": {},
   "outputs": [],
   "source": [
    "M3 = reflectivity_curve(\"Pt\", -1, 1.2, ei, ef, ne)\n",
    "M3_II = reflectivity_curve(\"B4C\", 2.52, 0.44, ei, ef, ne)"
   ]
  },
  {
   "cell_type": "code",
   "execution_count": null,
   "metadata": {},
   "outputs": [],
   "source": [
    "fig = PlotManager()\n",
    "fig.image, fig.x = M2, energy\n",
    "fig.additional_info(\"M2 (Pt - G1600 config)\", \"energy [eV]\", \"efficiency ($\\eta$)\", xmin=e0, xmax=ef+(ei-e0), ymin=-0.03, ymax=1.03).aesthetics(LaTex=True, grid=True)\n",
    "fig.info_1d_plot(0, 'cff = 0.2').plot_1d(enable=True)\n",
    "\n",
    "fig = PlotManager()\n",
    "fig.image, fig.x = M3['reflectivity'], energy\n",
    "fig.additional_info(\"M3 (B$_4$C @ 0.44°)\", \"energy [eV]\", \"efficiency ($\\eta$)\", xmin=e0, xmax=ef+(ei-e0), ymin=-0.03, ymax=1.03).aesthetics(LaTex=True, grid=True)\n",
    "fig.info_1d_plot(1, 'cff = 0.2 - Pt @ 1.2°', LineStyle=':', LabelPos=0).plot_1d(enable=False)\n",
    "fig.image, fig.x = M3_II['reflectivity'], energy\n",
    "fig.info_1d_plot(1, 'cff = 0.2 - B$_4$C @ 0.44°', LineStyle='-').plot_1d(enable=True, hold=True)\n",
    "\n",
    "\n",
    "G1600_mono = G1600_cff0p2['carpem_G1600_VGD060A_c0p20']['h1'].values * M2 * M3['reflectivity']\n",
    "G1600_mono_II = G1600_cff0p2['carpem_G1600_VGD060A_c0p20']['h1'].values * M2 * M3_II['reflectivity']\n",
    "\n",
    "fig = PlotManager()\n",
    "fig.image, fig.x = G1600_mono, energy\n",
    "fig.additional_info(\"G1600 (cff = 0.2) x M2 x M3\", \"energy [eV]\", \"efficiency ($\\eta$)\", xmin=e0, xmax=ef+(ei-e0), ymin=-0.0015, ymax=0.0415).aesthetics(LaTex=True, grid=True)\n",
    "fig.info_1d_plot(2, 'current', LineStyle=':').plot_1d(enable=False)\n",
    "fig.image, fig.x = G1600_mono_II, energy\n",
    "fig.info_1d_plot(2, 'upgraded', LineStyle='-').plot_1d(enable=True, hold=True)"
   ]
  },
  {
   "cell_type": "markdown",
   "metadata": {},
   "source": [
    "## G2400"
   ]
  },
  {
   "cell_type": "code",
   "execution_count": null,
   "metadata": {},
   "outputs": [],
   "source": [
    "fig = PlotManager()\n",
    "fig.image, fig.x = M2ML, energy\n",
    "fig.additional_info(\"M2 (ML Mo$_2$C : B$_4$C - G2400 config)\", \"energy [eV]\", \"efficiency ($\\eta$)\", xmin=e0, xmax=ef+(ei-e0), ymin=-0.03, ymax=1.03).aesthetics(LaTex=True, grid=True)\n",
    "fig.info_1d_plot(0, '$\\Omega=0.692$').plot_1d(enable=True)\n",
    "\n",
    "fig = PlotManager()\n",
    "fig.image, fig.x = M3['reflectivity'], energy\n",
    "fig.additional_info(\"M3 (B$_4$C @ 0.44°)\", \"energy [eV]\", \"efficiency ($\\eta$)\", xmin=e0, xmax=ef+(ei-e0), ymin=-0.03, ymax=1.03).aesthetics(LaTex=True, grid=True)\n",
    "fig.info_1d_plot(1, '$\\Omega=0.692$ - Pt @ 1.2°', LineStyle=':', LabelPos=0).plot_1d(enable=False)\n",
    "fig.image, fig.x = M3_II['reflectivity'], energy\n",
    "fig.info_1d_plot(1, '$\\Omega=0.692$ - B$_4$C @ 0.44°', LineStyle='-').plot_1d(enable=True, hold=True)\n",
    "\n",
    "G2400_mono = G2400_omega[\"carpem_G2400_ML_omega_0.692\"][\"h1\"].values * M2ML * M3['reflectivity']\n",
    "G2400_mono_II = G2400_omega[\"carpem_G2400_ML_omega_0.692\"][\"h1\"].values * M2ML * M3_II['reflectivity']\n",
    "\n",
    "fig = PlotManager()\n",
    "fig.image, fig.x = G2400_mono, energy\n",
    "fig.additional_info(\"G2400 x M2(ML) x M3\", \"energy [eV]\", \"efficiency ($\\eta$)\", xmin=e0, xmax=ef+(ei-e0), ymin=-0.0015, ymax=0.1515).aesthetics(LaTex=True, grid=True)\n",
    "fig.info_1d_plot(2, 'current', LineStyle=':').plot_1d(enable=False)\n",
    "fig.image, fig.x = G2400_mono_II, energy\n",
    "fig.info_1d_plot(2, 'upgraded', LineStyle='-').plot_1d(enable=True, hold=True)\n"
   ]
  },
  {
   "cell_type": "markdown",
   "metadata": {},
   "source": [
    "## Focusing"
   ]
  },
  {
   "cell_type": "code",
   "execution_count": null,
   "metadata": {},
   "outputs": [],
   "source": [
    "toroidal_mirror = reflectivity_curve(\"Pt\", -1, 1.2, ei, ef, ne)\n",
    "elliptical_mirror = reflectivity_curve(\"B4C\", 2.52, 0.44, ei, ef, ne)\n",
    "\n",
    "Wolter = toroidal_mirror[\"reflectivity\"]**2\n",
    "KB = elliptical_mirror[\"reflectivity\"]**2\n",
    "\n",
    "fig = PlotManager()\n",
    "fig.image, fig.x = Wolter, energy\n",
    "fig.additional_info(\"KB throughput\", \"energy [eV]\", \"efficiency ($\\eta$)\", xmin=e0, xmax=ef+(ei-e0), ymin=-0.03, ymax=1.03).aesthetics(LaTex=True, grid=True)\n",
    "fig.info_1d_plot(0, f'{toroidal_mirror[\"material\"]} $\\\\times$ {toroidal_mirror[\"material\"]} @ {toroidal_mirror[\"theta\"]:.2f}°', LineStyle=':').plot_1d(enable=False)\n",
    "\n",
    "fig.image, fig.x = KB, energy\n",
    "fig.info_1d_plot(0, f'{elliptical_mirror[\"material\"]} $\\\\times$ {elliptical_mirror[\"material\"]} @ {elliptical_mirror[\"theta\"]:.2f}°', LineStyle='-', LabelPos=0).plot_1d(enable=True, hold=True)"
   ]
  },
  {
   "cell_type": "markdown",
   "metadata": {},
   "source": [
    "## Full beamline transmission"
   ]
  },
  {
   "cell_type": "code",
   "execution_count": null,
   "metadata": {},
   "outputs": [],
   "source": [
    "fig = PlotManager()\n",
    "fig.image, fig.x = LEG1600, energy\n",
    "fig.additional_info(\"beamline spectral transmission\", \"energy [eV]\", \"efficiency ($\\eta$)\", xmin=e0, xmax=ef+(ei-e0), ymin=-0.0015, ymax=0.12).aesthetics(LaTex=True, grid=True)\n",
    "fig.info_1d_plot(0, 'LE/G1600/cff=0.2', LineStyle=':').plot_1d(enable=False)\n",
    "fig.image = M1A_LE[\"reflectivity\"]*M1B_LE[\"reflectivity\"]*G1600_mono_II*KB\n",
    "fig.info_1d_plot(0, 'B$_4$C$\\\\times$B$_4$C @ 1.75°', LineStyle='-').plot_1d(enable=False, hold=True)\n",
    "\n",
    "fig.image = HEG1600\n",
    "fig.info_1d_plot(1, 'HE/G1600/cff=0.2', LineStyle=':').plot_1d(enable=False, hold=True)\n",
    "fig.image = M1A_HE_P1[\"reflectivity\"]*M1C_HE[\"reflectivity\"]*G1600_mono_II*KB\n",
    "fig.info_1d_plot(1, 'B$_4$C$\\\\times$Mo @ 0.75°', LineStyle='-').plot_1d(enable=False, hold=True)\n",
    "\n",
    "# fig.image = M1A_HE_P2[\"reflectivity\"]*M1C_HE[\"reflectivity\"]*G1600_mono_II*KB\n",
    "# fig.info_1d_plot(3, 'Mo$\\\\times$Mo @ 0.75°', LineStyle='--').plot_1d(enable=False, hold=True)\n",
    "\n",
    "fig.image = HEG2400\n",
    "fig.info_1d_plot(2, 'HE/G2400/$\\Omega$=0.692', LineStyle=':').plot_1d(enable=False, hold=True)\n",
    "fig.image = M1A_HE_P1[\"reflectivity\"]*M1C_HE[\"reflectivity\"]*G2400_mono_II*KB\n",
    "fig.info_1d_plot(2, 'B$_4$C$\\\\times$Mo @ 0.75°', LineStyle='-').plot_1d(enable=False, hold=True)\n",
    "fig.image = M1A_HE_P2[\"reflectivity\"]*M1C_HE[\"reflectivity\"]*G2400_mono_II*KB\n",
    "fig.info_1d_plot(3, 'Mo$\\\\times$Mo @ 0.75°', LineStyle='-').plot_1d(enable=True, hold=True)"
   ]
  },
  {
   "cell_type": "markdown",
   "metadata": {},
   "source": [
    "## Transmitted photon flux"
   ]
  },
  {
   "cell_type": "code",
   "execution_count": null,
   "metadata": {},
   "outputs": [],
   "source": [
    "tc = read_tuning_curve('.\\\\results\\\\source\\\\SOLEIL-II-U52mm_slit_tc.h5')\n",
    "\n",
    "plot_tuning_curve(tc, unit=\"[ph/s/0.1%bw]\", title='photon flux', prange=[e0, ef+(ei-e0), None, None])"
   ]
  },
  {
   "cell_type": "code",
   "execution_count": null,
   "metadata": {},
   "outputs": [],
   "source": [
    "fig = PlotManager()\n",
    "fig.image, fig.x = LEG1600*tc['flux'][:,0], energy\n",
    "fig.additional_info(\"beamline spectral transmission\", \"energy [eV]\", \"efficiency ($\\eta$)\", xmin=e0, xmax=ef+(ei-e0), ymin=None, ymax=None).aesthetics(LaTex=True, grid=True)\n",
    "fig.info_1d_plot(0, 'LE/G1600/cff=0.2', LineStyle=':').plot_1d(enable=False)\n",
    "fig.image = M1A_LE[\"reflectivity\"]*M1B_LE[\"reflectivity\"]*G1600_mono_II*KB*tc['flux'][:,0]\n",
    "fig.info_1d_plot(0, 'B$_4$C$\\\\times$B$_4$C @ 1.75°', LineStyle='-').plot_1d(enable=False, hold=True)\n",
    "\n",
    "fig.image = HEG1600*tc['flux'][:,0]\n",
    "fig.info_1d_plot(1, 'HE/G1600/cff=0.2', LineStyle=':').plot_1d(enable=False, hold=True)\n",
    "fig.image = M1A_HE_P1[\"reflectivity\"]*M1C_HE[\"reflectivity\"]*G1600_mono_II*KB*tc['flux'][:,0]\n",
    "fig.info_1d_plot(1, 'B$_4$C$\\\\times$Mo @ 0.75°', LineStyle='-').plot_1d(enable=False, hold=True)\n",
    "\n",
    "# fig.image = M1A_HE_P2[\"reflectivity\"]*M1C_HE[\"reflectivity\"]*G1600_mono_II*KB\n",
    "# fig.info_1d_plot(3, 'Mo$\\\\times$Mo @ 0.75°', LineStyle='--').plot_1d(enable=False, hold=True)\n",
    "\n",
    "fig.image = HEG2400*tc['flux'][:,0]\n",
    "fig.info_1d_plot(2, 'HE/G2400/$\\Omega$=0.692', LineStyle=':').plot_1d(enable=False, hold=True)\n",
    "fig.image = M1A_HE_P1[\"reflectivity\"]*M1C_HE[\"reflectivity\"]*G2400_mono_II*KB*tc['flux'][:,0]\n",
    "fig.info_1d_plot(2, 'B$_4$C$\\\\times$Mo @ 0.75°', LineStyle='-').plot_1d(enable=False, hold=True)\n",
    "fig.image = M1A_HE_P2[\"reflectivity\"]*M1C_HE[\"reflectivity\"]*G2400_mono_II*KB*tc['flux'][:,0]\n",
    "fig.info_1d_plot(3, 'Mo$\\\\times$Mo @ 0.75°', LineStyle='-').plot_1d(enable=True, hold=True)"
   ]
  }
 ],
 "metadata": {
  "kernelspec": {
   "display_name": "PyOptiX",
   "language": "python",
   "name": "python3"
  },
  "language_info": {
   "codemirror_mode": {
    "name": "ipython",
    "version": 3
   },
   "file_extension": ".py",
   "mimetype": "text/x-python",
   "name": "python",
   "nbconvert_exporter": "python",
   "pygments_lexer": "ipython3",
   "version": "3.11.9"
  }
 },
 "nbformat": 4,
 "nbformat_minor": 2
}
