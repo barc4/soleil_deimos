{
 "cells": [
  {
   "cell_type": "markdown",
   "metadata": {},
   "source": [
    "<a id=\"toc\"></a>\n",
    "# M1 mirror system redesign\n",
    "\n",
    "[rafael.celestre@synchrotron-soleil.fr](mailto:rafael.celestre@synchrotron-soleil.fr)\n",
    "\n",
    "Contents :\n",
    "1. [Reflection spectra of commonly used coatings](#reflec_curves)\n",
    "1. [Coating Candidates](#coating-candidates)\n",
    "\n",
    "***"
   ]
  },
  {
   "cell_type": "code",
   "execution_count": 1,
   "metadata": {},
   "outputs": [
    {
     "name": "stdout",
     "output_type": "stream",
     "text": [
      "c:\\Users\\rafae\\miniconda3\\envs\\PyOptiX\\python.exe\n",
      "3.11.9 | packaged by Anaconda, Inc. | (main, Apr 19 2024, 16:40:41) [MSC v.1916 64 bit (AMD64)]\n"
     ]
    }
   ],
   "source": [
    "__author__ = ['Rafael Celestre']\n",
    "__contact__ = 'rafael.celestre@synchrotron-soleil.fr'\n",
    "__license__ = 'GPL-3.0'\n",
    "__copyright__ = 'Synchrotron SOLEIL, Saint Aubin, France'\n",
    "__created__ = '21/05/2024'\n",
    "__changed__ = '14/11/2024'\n",
    "\n",
    "import sys\n",
    "\n",
    "import numpy as np\n",
    "from barc4plots.barc4plots import PlotManager\n",
    "from barc4xoc.materials import reflectivity_curve, reflectivity_map, combine_mirrors\n",
    "from barc4xoc.misc import energy_wavelength\n",
    "\n",
    "# checking we are using the correct python:\n",
    "print(sys.executable)\n",
    "print(sys.version)\n",
    "\n",
    "# benchmarking tools\n",
    "# %load_ext autoreload\n",
    "# %autoreload 2\n",
    "# %matplotlib widget\n"
   ]
  },
  {
   "cell_type": "markdown",
   "metadata": {},
   "source": [
    "<a id=\"reflec_curves\"></a>\n",
    "## Reflection spectra of commonly used coatings\n",
    "[Back to the top](#toc)\n"
   ]
  },
  {
   "cell_type": "code",
   "execution_count": null,
   "metadata": {},
   "outputs": [],
   "source": [
    "e0, ei, ef, dE = 0, 250, 5000, 5\n",
    "ne = int((ef-ei)/dE)+1\n",
    "energy = np.linspace(ei, ef, ne)"
   ]
  },
  {
   "cell_type": "code",
   "execution_count": null,
   "metadata": {},
   "outputs": [],
   "source": [
    "theta0, thetai, thetaf, dtheta = 0.0, 0.25, 3.0, 0.01\n",
    "ntheta = int((thetaf-thetai)/dtheta)+1\n",
    "theta = np.linspace(thetai, thetaf, ntheta)\n",
    "reflec_cutoff = 5/100"
   ]
  },
  {
   "cell_type": "code",
   "execution_count": null,
   "metadata": {},
   "outputs": [],
   "source": [
    "mirror_length = 1/np.sin(np.deg2rad(theta))\n",
    "\n",
    "fig = PlotManager()\n",
    "\n",
    "fig.image, fig.x = mirror_length, theta\n",
    "fig.additional_info(\"mirror length per beam unit size\", \"grazing angle [°]\", \"[mm/mm]\", \n",
    "                    xmin=theta0, xmax=thetaf+(thetai-theta0), ymin=0, ymax=250).aesthetics(LaTex=True, grid=True).info_1d_plot(0).plot_1d()"
   ]
  },
  {
   "cell_type": "code",
   "execution_count": null,
   "metadata": {},
   "outputs": [],
   "source": [
    "def plot_reflec_map(reflec_dict, reflec_cutoff=0, cm=4):\n",
    "    \n",
    "    reflec_map = reflec_dict[\"reflectivity\"]\n",
    "    if reflec_cutoff != 0:\n",
    "        reflec_map[reflec_map<reflec_cutoff] = np.nan\n",
    "    fig = PlotManager()\n",
    "    fig.image, fig.x, fig.y = reflec_map, reflec_dict[\"energy\"], reflec_dict[\"theta\"]\n",
    "    fig.additional_info(reflec_dict[\"material\"], \"energy [eV]\", \"grazing angle [°]\", e0, ef+(ei-e0), theta0, thetaf+(thetai-theta0), 0, 1,\n",
    "                        ).aesthetics(LaTex=True, grid=True, AspectRatio=False).info_2d_plot(cm).plot_2d()"
   ]
  },
  {
   "cell_type": "markdown",
   "metadata": {},
   "source": [
    "### Low Z"
   ]
  },
  {
   "cell_type": "code",
   "execution_count": null,
   "metadata": {},
   "outputs": [],
   "source": [
    "plot_reflec_map(reflectivity_map(\"B4C\", 2.52, thetai, thetaf, ntheta, ei, ef, ne), reflec_cutoff)"
   ]
  },
  {
   "cell_type": "markdown",
   "metadata": {},
   "source": [
    "### Low-ish Z"
   ]
  },
  {
   "cell_type": "code",
   "execution_count": null,
   "metadata": {},
   "outputs": [],
   "source": [
    "plot_reflec_map(reflectivity_map(\"Si\", -1, thetai, thetaf, ntheta, ei, ef, ne), reflec_cutoff)"
   ]
  },
  {
   "cell_type": "markdown",
   "metadata": {},
   "source": [
    "### Intermediate Z"
   ]
  },
  {
   "cell_type": "code",
   "execution_count": null,
   "metadata": {},
   "outputs": [],
   "source": [
    "plot_reflec_map(reflectivity_map(\"Mo\", -1, thetai, thetaf, ntheta, ei, ef, ne), reflec_cutoff)"
   ]
  },
  {
   "cell_type": "code",
   "execution_count": null,
   "metadata": {},
   "outputs": [],
   "source": [
    "plot_reflec_map(reflectivity_map(\"Rh\", -1, thetai, thetaf, ntheta, ei, ef, ne), reflec_cutoff)"
   ]
  },
  {
   "cell_type": "markdown",
   "metadata": {},
   "source": [
    "### High Z"
   ]
  },
  {
   "cell_type": "code",
   "execution_count": null,
   "metadata": {},
   "outputs": [],
   "source": [
    "plot_reflec_map(reflectivity_map(\"Pt\", -1, thetai, thetaf, ntheta, ei, ef, ne), reflec_cutoff)"
   ]
  },
  {
   "cell_type": "markdown",
   "metadata": {},
   "source": [
    "<a id=\"coating_candidates\"></a>\n",
    "# Coating candidates\n",
    "[Back to the top](#toc)\n",
    "\n",
    "Incident angles should be (ideally) between $\\theta=0.6°$ and \n",
    "$\\theta=2.5°$."
   ]
  },
  {
   "cell_type": "code",
   "execution_count": null,
   "metadata": {},
   "outputs": [],
   "source": [
    "def plot_mirror_combinations(transmission, combination, energy, theta):\n",
    "    \n",
    "    fig = PlotManager()\n",
    "\n",
    "    plot_configs = [\n",
    "        {\"index\": k, \"image\": transmission[:, k], \"x\": energy, \"hold\": (k != 0),\n",
    "        \"title\": f'{combination[k, 0]} $\\\\times$ {combination[k, 1]}',\n",
    "        \"enable\": (k == transmission.shape[1] - 1)}\n",
    "        for k in range(transmission.shape[1])]\n",
    "\n",
    "    for config in plot_configs:\n",
    "        fig.image, fig.x = config[\"image\"], config[\"x\"]\n",
    "        fig.LabelPos = 0\n",
    "        if config[\"index\"] == 0:\n",
    "            fig.additional_info(f'grazing angle @ {theta:.2f}°', \"energy [eV]\", \"reflectivity\", \n",
    "                                xmin=e0, xmax=8000+(ei-e0), ymin=-0.05, ymax=1.05).aesthetics(LaTex=True, grid=True)\n",
    "        fig.info_1d_plot(config[\"index\"], config[\"title\"]).plot_1d(enable=config[\"enable\"], hold=config[\"hold\"])"
   ]
  },
  {
   "cell_type": "code",
   "execution_count": null,
   "metadata": {},
   "outputs": [],
   "source": [
    "ei = 250\n",
    "ef = 5000\n",
    "ne = int((ef-ei)/0.2)"
   ]
  },
  {
   "cell_type": "markdown",
   "metadata": {},
   "source": [
    "## M1A and M1B/C (low energy configuration)"
   ]
  },
  {
   "cell_type": "code",
   "execution_count": null,
   "metadata": {},
   "outputs": [],
   "source": [
    "theta_scan = [2.0, 1.75, 1.5]\n",
    "\n",
    "for theta in theta_scan:\n",
    "    candidates = [reflectivity_curve(\"B4C\", 2.52, theta, ei, ef, ne), \n",
    "                reflectivity_curve(\"Mo\", -1, theta, ei, ef, ne),\n",
    "                reflectivity_curve(\"Pt\", -1, theta, ei, ef, ne)]\n",
    "    transmission1, combination = combine_mirrors(candidates, 2)\n",
    "    plot_mirror_combinations(transmission1, combination, np.linspace(ei, ef, ne), theta)"
   ]
  },
  {
   "cell_type": "markdown",
   "metadata": {},
   "source": [
    "## M1A and M1B/C (high energy configuration)"
   ]
  },
  {
   "cell_type": "code",
   "execution_count": null,
   "metadata": {},
   "outputs": [],
   "source": [
    "theta_scan = [0.85, 0.8, 0.75, 0.44]\n",
    "\n",
    "for theta in theta_scan:\n",
    "    candidates = [reflectivity_curve(\"B4C\", 2.52, theta, ei, ef, ne), \n",
    "                reflectivity_curve(\"Mo\", -1, theta, ei, ef, ne),\n",
    "                reflectivity_curve(\"Pt\", -1, theta, ei, ef, ne)]\n",
    "    transmission1, combination = combine_mirrors(candidates, 2)\n",
    "    plot_mirror_combinations(transmission1, combination, np.linspace(ei, ef, ne), theta)"
   ]
  },
  {
   "cell_type": "markdown",
   "metadata": {},
   "source": [
    "## BOREAS type solution"
   ]
  },
  {
   "cell_type": "code",
   "execution_count": null,
   "metadata": {},
   "outputs": [],
   "source": [
    "ei = 250\n",
    "ef = 5000\n",
    "ne = int((ef-ei)/0.2)\n",
    "\n",
    "c1 = reflectivity_curve(\"Au\", -1, 1.0, ei, ef, ne)\n",
    "c2 = reflectivity_curve(\"Ni\", -1, 1.0, ei, ef, ne)\n",
    "c3 = reflectivity_curve(\"Au\", -1, 1.15, ei, ef, ne)"
   ]
  },
  {
   "cell_type": "code",
   "execution_count": null,
   "metadata": {},
   "outputs": [],
   "source": [
    "fig.image, fig.x = c1[\"reflectivity\"]*c3[\"reflectivity\"], c1[\"energy\"]\n",
    "fig.additional_info(\"M1 (BOREAS)\", \"energy [eV]\", \"efficiency ($\\eta$)\", xmin=e0, xmax=ef+(ei-e0), ymin=-0.03, ymax=1.03).aesthetics(LaTex=True, grid=True)\n",
    "fig.info_1d_plot(0, f'{c1[\"material\"]} @ {c1[\"theta\"]}° $\\\\times$ {c3[\"material\"]} @ {c3[\"theta\"]}°').plot_1d(enable=False)\n",
    "fig.image, fig.x = c2[\"reflectivity\"]*c3[\"reflectivity\"], c1[\"energy\"]\n",
    "fig.info_1d_plot(1, f'{c2[\"material\"]} @ {c2[\"theta\"]}° $\\\\times$ {c3[\"material\"]} @ {c3[\"theta\"]}°').plot_1d(enable=True, hold=True)"
   ]
  },
  {
   "cell_type": "code",
   "execution_count": 11,
   "metadata": {},
   "outputs": [
    {
     "name": "stdout",
     "output_type": "stream",
     "text": [
      "Density for Si (Z=14):  2.330 g/cm3\n",
      "f1f2_calc: using density: 2.330000 g/cm3\n"
     ]
    }
   ],
   "source": [
    "e0 = 0\n",
    "ei = 20\n",
    "ef = 100\n",
    "ne = int((ef-ei)/0.2)\n",
    "\n",
    "c1 = reflectivity_curve(\"Si\", -1, 20, ei, ef, ne)"
   ]
  },
  {
   "cell_type": "code",
   "execution_count": 12,
   "metadata": {},
   "outputs": [
    {
     "data": {
      "image/png": "[encoded data removed]",
      "text/plain": [
       "<Figure size 700x420 with 1 Axes>"
      ]
     },
     "metadata": {},
     "output_type": "display_data"
    }
   ],
   "source": [
    "fig = PlotManager()\n",
    "fig.image, fig.x = c1[\"reflectivity\"], c1[\"energy\"]\n",
    "fig.additional_info(\"M1 reflectivity\", \"energy [eV]\", \"efficiency ($\\eta$)\", xmin=e0, xmax=ef+(ei-e0), ymin=-0.03, ymax=1.03).aesthetics(LaTex=True, grid=True)\n",
    "fig.info_1d_plot(0, f'{c1[\"material\"]} @ {c1[\"theta\"]}°').plot_1d(enable=True)"
   ]
  },
  {
   "cell_type": "code",
   "execution_count": null,
   "metadata": {},
   "outputs": [],
   "source": []
  }
 ],
 "metadata": {
  "kernelspec": {
   "display_name": "PyOptiX",
   "language": "python",
   "name": "python3"
  },
  "language_info": {
   "codemirror_mode": {
    "name": "ipython",
    "version": 3
   },
   "file_extension": ".py",
   "mimetype": "text/x-python",
   "name": "python",
   "nbconvert_exporter": "python",
   "pygments_lexer": "ipython3",
   "version": "3.11.9"
  }
 },
 "nbformat": 4,
 "nbformat_minor": 2
}
